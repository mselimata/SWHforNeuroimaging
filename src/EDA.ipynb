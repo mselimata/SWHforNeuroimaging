{
 "cells": [
  {
   "cell_type": "code",
   "execution_count": 1,
   "id": "55266689-41f0-40c0-b728-64a630ef1521",
   "metadata": {},
   "outputs": [],
   "source": [
    "import pandas as pd\n",
    "import glob"
   ]
  },
  {
   "cell_type": "code",
   "execution_count": 2,
   "id": "555958f3-5a21-4684-8e50-904aa2e17cf4",
   "metadata": {},
   "outputs": [],
   "source": [
    "import pyarrow.parquet as pq\n",
    "import pyarrow.dataset as ds"
   ]
  },
  {
   "cell_type": "code",
   "execution_count": 3,
   "id": "82d8188e-f926-46be-8864-762df01aa83d",
   "metadata": {},
   "outputs": [],
   "source": [
    "from io import BytesIO"
   ]
  },
  {
   "cell_type": "code",
   "execution_count": 46,
   "id": "e51ccb33-08ad-4b1f-95ab-32f0f6095d90",
   "metadata": {},
   "outputs": [
    {
     "name": "stdout",
     "output_type": "stream",
     "text": [
      "   snapshot_id  branch_id  __index_level_0__\n",
      "0      1842488    4619140               5770\n",
      "1      1842488    4653330               5771\n",
      "2      1842488    4926317               5772\n",
      "3      1842488    5013942               5773\n",
      "4      1842488    5099947               5774\n"
     ]
    }
   ],
   "source": [
    "df = pd.concat(\n",
    "    [pd.read_parquet(file)\n",
    "     for file\n",
    "     in glob.glob('/home/matay/2019-01-28-popular-3k-python/snapshot_branches/*.parquet')])\n",
    "print(df.head())"
   ]
  },
  {
   "cell_type": "code",
   "execution_count": 47,
   "id": "5216393c-9ed4-4f61-baab-8190bb5f0e55",
   "metadata": {},
   "outputs": [
    {
     "name": "stdout",
     "output_type": "stream",
     "text": [
      "   object_id                                           name  \\\n",
      "0      47690                             b'refs/tags/1.5.5'   \n",
      "1      57435                             b'refs/tags/v0.22'   \n",
      "2     236765  b'refs/heads/secondary-dns-lookup-error-7408'   \n",
      "3     304670                             b'refs/tags/0.2.2'   \n",
      "4     378619                      b'refs/heads/viewderiver'   \n",
      "\n",
      "                                              target target_type  \\\n",
      "0  b'\\xc3\\x05\\x16\\xe9\\xcc\\xa2\\xdd\\xc9*C\\x18r\\x84R...    revision   \n",
      "1  b'\\xe0\\xbd\\x9ajP\\x1c\\xe3=\\t\\x0c\\xf6\\xf9W\\x0c\\x...    revision   \n",
      "2  b\"\\x1f\\x04\\x9fn\\xd7\\xf5\\xb1\\x13'{:\\x07\\xc3\\xde...    revision   \n",
      "3  b'/\\xbc6#\\xe8\\xa0\\x9f\\xb5\\x96x\\x8e\\xe4\\\\\\xcc\\x...    revision   \n",
      "4    b'O5[cK2\\xb7|k5\\xdd\\xc3\\x1d\\xfaw/\\x07[\\xf2\\xee'    revision   \n",
      "\n",
      "   __index_level_0__  \n",
      "0               9513  \n",
      "1               9259  \n",
      "2               8588  \n",
      "3               6493  \n",
      "4                443  \n"
     ]
    }
   ],
   "source": [
    "df = pd.concat(\n",
    "    [pd.read_parquet(file)\n",
    "     for file\n",
    "     in glob.glob('/home/matay/2019-01-28-popular-3k-python/snapshot_branch/*.parquet')])\n",
    "print(df.head())"
   ]
  },
  {
   "cell_type": "code",
   "execution_count": 4,
   "id": "eb274f21-5771-48ab-8a5a-ca348c8dc1f9",
   "metadata": {},
   "outputs": [
    {
     "name": "stdout",
     "output_type": "stream",
     "text": [
      "                                                  id  \\\n",
      "0  b'\\x01,_)\\x8d!n^\\x80\\xbd\\xb4[7;\\x84\\xd5\\xe8P\\x...   \n",
      "1  b'\\x01\\x8bU\\x8e-\\n\\xd9\\x0c\\xf9\\x87~Um\\x18\\xe6\\...   \n",
      "2  b'\\x01\\xb3$\\x1b\\x17\\xfa\\x96\\xe3\\xd9>\\x819\\x14\\...   \n",
      "3  b'\\x03\\x15\\x1a.N\\xa4\\x99\\x1bfT\\xe5\\x0c,L\\x80\\x...   \n",
      "4  b'\\x03_\\xe0\\xbfqxg6\"\\xb57Y\\xf9s\\xccc\\xb6\\xe9\\x...   \n",
      "\n",
      "                                         dir_entries  \\\n",
      "0  [54839571, 54836688, 54817642, 54841956, 54838...   \n",
      "1                                               None   \n",
      "2  [59722883, 14606981, 338701856, 338705639, 382...   \n",
      "3                              [93954850, 161465782]   \n",
      "4   [2448079244, 2448079498, 2448079484, 2448079261]   \n",
      "\n",
      "                                        file_entries rev_entries  \\\n",
      "0            [3406601, 69238130, 69249698, 69240800]        None   \n",
      "1  [2713270, 66429917, 66438342, 66428949, 664438...        None   \n",
      "2  [463127505, 463124660, 5222698, 15905312, 1323...        None   \n",
      "3  [215578881, 119296784, 215571584, 215573952, 2...        None   \n",
      "4  [3568156102, 3568156067, 3568156026, 356815634...        None   \n",
      "\n",
      "   __index_level_0__  \n",
      "0               4474  \n",
      "1               1322  \n",
      "2               9652  \n",
      "3               2741  \n",
      "4               1897  \n"
     ]
    }
   ],
   "source": [
    "df = pd.concat(\n",
    "    [pd.read_parquet(file)\n",
    "     for file\n",
    "     in glob.glob('/home/matay/2019-01-28-popular-3k-python/directory/*.parquet')])\n",
    "print(df.head())"
   ]
  },
  {
   "cell_type": "code",
   "execution_count": 5,
   "id": "add279b0-7cb6-48a8-bffd-af0e869e52e3",
   "metadata": {},
   "outputs": [
    {
     "name": "stdout",
     "output_type": "stream",
     "text": [
      "     id                                             target  \\\n",
      "0    69  b'\\xc4\\x18\\xdb\\xaa\\xa05\\xc3j\\xce\\xb3\"\\x84u\\x7f...   \n",
      "1   475  b'\\xe8\\xae\\x14\\xf8\\xbd\\xa7\\xd1$\\xbf\\xdb\\xcd\\x0...   \n",
      "2   913  b'c\\xde|fX4\\xd3\\xd4\\x0e5P\\x02\\t\\x0f\\xcew\\x91\\x...   \n",
      "3  1086  b'\\x10\\xe8\\x93\\xe4 \\x1bB\\x89\\xa8\\x82\\xc6r>\\xe8...   \n",
      "4  1148  b'\\xccF\\xf1\\xc6Rq\\x9f\\xee\\x89\\x1c(\\x9a\\x90\\xd4...   \n",
      "\n",
      "                   name  perms  __index_level_0__  \n",
      "0        b'compiler.py'  33188               4547  \n",
      "1          b'errors.py'  33188               4953  \n",
      "2        b'test_lex.py'  33188               5391  \n",
      "3  b'jquery.console.js'  33188               5564  \n",
      "4         b'_compat.py'  33188               5626  \n"
     ]
    }
   ],
   "source": [
    "df = pd.concat(\n",
    "    [pd.read_parquet(file)\n",
    "     for file\n",
    "     in glob.glob('/home/matay/2019-01-28-popular-3k-python/directory_entry_file/*.parquet')])\n",
    "print(df.head())"
   ]
  },
  {
   "cell_type": "code",
   "execution_count": 6,
   "id": "a3ac81d4-9962-4d8e-b721-b88d63c1ae77",
   "metadata": {},
   "outputs": [
    {
     "name": "stdout",
     "output_type": "stream",
     "text": [
      "                                                sha1  \\\n",
      "0  b'\\xc7V\\xafT\\x0627U\\x9de\\x87\\xeb\\xdb\\xe4\\xffj....   \n",
      "0                                               None   \n",
      "0                                               None   \n",
      "0                                               None   \n",
      "0                                               None   \n",
      "\n",
      "                                            sha1_git     length  \\\n",
      "0  b',\\xa4[\\xd2H\\xefA\\x8c\\x14\\x1aL\\x9e\\xf0|[\\xe9>...  118181474   \n",
      "0  b'\\xa8B;\\x01\\xd4\\xc4^\\r7\\x8b*P\\x80\\x078\\t\\xc1\\...  230400080   \n",
      "0  b'7I@\\xc8\\x0e\\xef\\x1c\\xf5Y\\xd7\\xf6\\xf1sq@)R\\xf...  120000080   \n",
      "0  b'\\xef7_i\\xdf\\x08[?\\xf1\\x1e\\x9b;\\xde\\xe2.\\xf5\\...  120000080   \n",
      "0  b'f\\x05\\x84\\xf9\\xf1\\x12=\\x9e\\x95\\xcc\\x8b\\xa9\\x...  230400080   \n",
      "\n",
      "   __index_level_0__  \n",
      "0               5436  \n",
      "0               6232  \n",
      "0               1030  \n",
      "0               6233  \n",
      "0               6234  \n"
     ]
    }
   ],
   "source": [
    "df = pd.concat(\n",
    "    [pd.read_parquet(file)\n",
    "     for file\n",
    "     in glob.glob('/home/matay/2019-01-28-popular-3k-python/skipped_content/*.parquet')])\n",
    "print(df.head())"
   ]
  },
  {
   "cell_type": "code",
   "execution_count": 7,
   "id": "0f9159ac-b423-4dce-91ec-5cc1cacb01f3",
   "metadata": {},
   "outputs": [
    {
     "name": "stdout",
     "output_type": "stream",
     "text": [
      "                                                sha1  \\\n",
      "0  b\"\\x9c?\\x1a3\\x00.B\\x8c\\xa6'\\xd0\\xd8\\xa64T\\x7f)...   \n",
      "1  b'\\xeb\\xb9Jrd\\x1b)\\r>\\x1a\\xf9\\x8f\\x89K\\xaa\\x16...   \n",
      "2  b'\\r\\x11\\xbd\\x80\\xb9\\xda?\\x02&\\xdf\\xd8\\xd54\\x9...   \n",
      "3  b'j8;v$\\xf0\\x8c\\x15\\x83\\x85\\xc6\\x07\\xce\\xfc\\x9...   \n",
      "4  b'h\\xda\\xcb\\x94q@\\x86O4\\xb6\\xd9-i\\xe3\\xbfx\\x92...   \n",
      "\n",
      "                                            sha1_git  length  \\\n",
      "0  b'\\x00[\\xde0#=\\x04\\x89=&@\\xcd\\xbf\\xf9KGk\\x8f\\x...    2337   \n",
      "1  b'\\x00\\x9a\\xf9\\xb8{\\r\\x8a\\xc4\\xc0\\x93\\xb6\\xdb\\...     362   \n",
      "2  b'\\x01\\xe4\\xb9\\x1d\\x07\\xcfRP\\xfc3\\x07#-]\\x8c\\x...    1951   \n",
      "3  b'\\x02X&\\xb2\\xc1\\xf8\\x7f\\x89\\xe4\\xdbSk\\xe53\\nO...   30415   \n",
      "4  b'\\x03\\x8a:\\x13\\xa4\\xc3_\\x124\\xae\\x83\\x89\\xed\\...    2980   \n",
      "\n",
      "   __index_level_0__  \n",
      "0               4031  \n",
      "1               2926  \n",
      "2               8835  \n",
      "3               3377  \n",
      "4               3618  \n"
     ]
    }
   ],
   "source": [
    "df = pd.concat(\n",
    "    [pd.read_parquet(file)\n",
    "     for file\n",
    "     in glob.glob('/home/matay/2019-01-28-popular-3k-python/content/*.parquet')])\n",
    "print(df.head())"
   ]
  },
  {
   "cell_type": "code",
   "execution_count": 30,
   "id": "2079a804-aa57-4412-862a-a274288e2825",
   "metadata": {},
   "outputs": [
    {
     "name": "stdout",
     "output_type": "stream",
     "text": [
      "     origin  visit                       date   status  metadata  snapshot_id  \\\n",
      "0  63801282      1 2018-06-30 18:56:51.164383     full       NaN   55444239.0   \n",
      "1  63801282      2 2018-07-02 13:38:57.162672     full       NaN   55477599.0   \n",
      "2  63801282      3 2018-07-07 02:38:21.198051     full       NaN   55559709.0   \n",
      "3  63801282      4 2018-09-07 13:30:43.078043  partial       NaN          NaN   \n",
      "4  63801282      6 2018-09-18 02:23:02.188091     full       NaN   56886982.0   \n",
      "\n",
      "   __index_level_0__  \n",
      "0               2285  \n",
      "1               2034  \n",
      "2               9064  \n",
      "3               2531  \n",
      "4               9516  \n"
     ]
    }
   ],
   "source": [
    "df = pd.concat(\n",
    "    [pd.read_parquet(file)\n",
    "     for file\n",
    "     in glob.glob('/home/matay/2019-01-28-popular-3k-python/origin_visit/*.parquet')])\n",
    "print(df.head())"
   ]
  },
  {
   "cell_type": "code",
   "execution_count": 32,
   "id": "a0da284d-d47d-4818-8d67-fd4b3c8ea4e5",
   "metadata": {},
   "outputs": [
    {
     "name": "stdout",
     "output_type": "stream",
     "text": [
      "   snapshot_id  branch_id  __index_level_0__\n",
      "0      1842488    4619140               5770\n",
      "1      1842488    4653330               5771\n",
      "2      1842488    4926317               5772\n",
      "3      1842488    5013942               5773\n",
      "4      1842488    5099947               5774\n"
     ]
    }
   ],
   "source": [
    "df = pd.concat(\n",
    "    [pd.read_parquet(file)\n",
    "     for file\n",
    "     in glob.glob('/home/matay/2019-01-28-popular-3k-python/snapshot_branches/*.parquet')])\n",
    "print(df.head())"
   ]
  },
  {
   "cell_type": "code",
   "execution_count": 31,
   "id": "3fadefd1-ccac-4388-8d0c-e878c6866657",
   "metadata": {},
   "outputs": [
    {
     "name": "stdout",
     "output_type": "stream",
     "text": [
      "   object_id                                                 id  \\\n",
      "0   50548096  b'$D\\x94\\x94\\xa0\\\\0\\xbf\\xff\\x1c]\\xa9\\xcc=8\\xe0...   \n",
      "1   51441980  b'^\\xee\\xb4\\xa2\\x85\\xac\\xa3\\x0f6J\\xb0\\xb8\\x95&...   \n",
      "2   51645305  b'\\x8dv;\\x85\\xe6H\\x01yw\\x91\\xda[\\x10\\xf6\\xc4M/...   \n",
      "3   51988805  b'\\x83#\\xc1ze KIk\\x7f|\\xfc\\xdfDC\\x80\\xaaK\\xa2\\...   \n",
      "4   53220066  b'B\\xebw7\\x04\\x90(o\\xda\\x91\\xd5\\x80\\x10w\\xc1\\x...   \n",
      "\n",
      "   __index_level_0__  \n",
      "0               7334  \n",
      "1               1156  \n",
      "2               2210  \n",
      "3               5706  \n",
      "4               9271  \n"
     ]
    }
   ],
   "source": [
    "df = pd.concat(\n",
    "    [pd.read_parquet(file)\n",
    "     for file\n",
    "     in glob.glob('/home/matay/2019-01-28-popular-3k-python/snapshot/*.parquet')])\n",
    "print(df.head())"
   ]
  },
  {
   "cell_type": "code",
   "execution_count": 11,
   "id": "ff6cf30d-6b13-4bb4-9002-8b6ecb680f53",
   "metadata": {},
   "outputs": [
    {
     "name": "stdout",
     "output_type": "stream",
     "text": [
      "         id type                                     url  lister  project  \\\n",
      "0  26564742  git    https://github.com/guardicore/monkey     NaN      NaN   \n",
      "1  65614902  deb           deb://Debian/packages/qemuctl     NaN      NaN   \n",
      "2  65634848  deb            deb://Debian/packages/retext     NaN      NaN   \n",
      "3  65639611  deb     deb://Debian/packages/python-extras     NaN      NaN   \n",
      "4  59785494  git  https://github.com/PaddlePaddle/models     NaN      NaN   \n",
      "\n",
      "   __index_level_0__  \n",
      "0               7884  \n",
      "1               3820  \n",
      "2               3402  \n",
      "3               8089  \n",
      "4               4017  \n"
     ]
    }
   ],
   "source": [
    "df = pd.concat(\n",
    "    [pd.read_parquet(file)\n",
    "     for file\n",
    "     in glob.glob('/home/matay/2019-01-28-popular-3k-python/origin/*.parquet')])\n",
    "print(df.head())"
   ]
  },
  {
   "cell_type": "code",
   "execution_count": 52,
   "id": "80872d8b-23a7-47d0-89d0-36076f995e50",
   "metadata": {},
   "outputs": [
    {
     "name": "stdout",
     "output_type": "stream",
     "text": [
      "     id                                             target  \\\n",
      "0    69  b'\\xc4\\x18\\xdb\\xaa\\xa05\\xc3j\\xce\\xb3\"\\x84u\\x7f...   \n",
      "1   475  b'\\xe8\\xae\\x14\\xf8\\xbd\\xa7\\xd1$\\xbf\\xdb\\xcd\\x0...   \n",
      "2   913  b'c\\xde|fX4\\xd3\\xd4\\x0e5P\\x02\\t\\x0f\\xcew\\x91\\x...   \n",
      "3  1086  b'\\x10\\xe8\\x93\\xe4 \\x1bB\\x89\\xa8\\x82\\xc6r>\\xe8...   \n",
      "4  1148  b'\\xccF\\xf1\\xc6Rq\\x9f\\xee\\x89\\x1c(\\x9a\\x90\\xd4...   \n",
      "\n",
      "                   name  perms  __index_level_0__  \n",
      "0        b'compiler.py'  33188               4547  \n",
      "1          b'errors.py'  33188               4953  \n",
      "2        b'test_lex.py'  33188               5391  \n",
      "3  b'jquery.console.js'  33188               5564  \n",
      "4         b'_compat.py'  33188               5626  \n"
     ]
    }
   ],
   "source": [
    "df = pd.concat(\n",
    "    [pd.read_parquet(file)\n",
    "     for file\n",
    "     in glob.glob('/home/matay/2019-01-28-popular-3k-python/directory_entry_file/*.parquet')])\n",
    "print(df.head())"
   ]
  },
  {
   "cell_type": "code",
   "execution_count": 53,
   "id": "41e5afd2-fa9c-483a-8e6e-3790dc3ed5a7",
   "metadata": {},
   "outputs": [
    {
     "name": "stdout",
     "output_type": "stream",
     "text": [
      "    id                                             target          name  \\\n",
      "0  225  b'\\x8e\\x9a\\xb6\\xc1G\\xf48\\x8f\\xbe\\x80\\xf3\\xcfQ\\...      b'tests'   \n",
      "1  323  b'M\\\\\\xe1\\x05\\xa0\\xd9\\xe2\\xabZ\\x93\\xf0\\xa8V@\\x...       b'docs'   \n",
      "2  352  b'\\x96Im\\xf7X\\xc9\\xe5\\xda\\xd3\\xd7\\xb7>\\xe0wI\\x...         b'hy'   \n",
      "3  559  b\"9\\xa4g\\xcc$'I\\xc4\\xc1O\\xdb\\x19\\x92p\\xb1\\xe8j...       b'docs'   \n",
      "4  682  b'\\x10+\\xb5\\xeb\\xeae\\x8a\\xdbu5b\\xccb\\x9c\\xa9\\x...  b'templates'   \n",
      "\n",
      "   perms  __index_level_0__  \n",
      "0  16384               4189  \n",
      "1  16384               4287  \n",
      "2  16384               4316  \n",
      "3  16384               4523  \n",
      "4  16384               4646  \n"
     ]
    }
   ],
   "source": [
    "df = pd.concat(\n",
    "    [pd.read_parquet(file)\n",
    "     for file\n",
    "     in glob.glob('/home/matay/2019-01-28-popular-3k-python/directory_entry_dir/*.parquet')])\n",
    "print(df.head())"
   ]
  },
  {
   "cell_type": "code",
   "execution_count": 54,
   "id": "e810efd0-c646-460a-913e-50a9b223b96b",
   "metadata": {},
   "outputs": [
    {
     "name": "stdout",
     "output_type": "stream",
     "text": [
      "                                                  id  \\\n",
      "0  b'\\x01,_)\\x8d!n^\\x80\\xbd\\xb4[7;\\x84\\xd5\\xe8P\\x...   \n",
      "1  b'\\x01\\x8bU\\x8e-\\n\\xd9\\x0c\\xf9\\x87~Um\\x18\\xe6\\...   \n",
      "2  b'\\x01\\xb3$\\x1b\\x17\\xfa\\x96\\xe3\\xd9>\\x819\\x14\\...   \n",
      "3  b'\\x03\\x15\\x1a.N\\xa4\\x99\\x1bfT\\xe5\\x0c,L\\x80\\x...   \n",
      "4  b'\\x03_\\xe0\\xbfqxg6\"\\xb57Y\\xf9s\\xccc\\xb6\\xe9\\x...   \n",
      "\n",
      "                                         dir_entries  \\\n",
      "0  [54839571, 54836688, 54817642, 54841956, 54838...   \n",
      "1                                               None   \n",
      "2  [59722883, 14606981, 338701856, 338705639, 382...   \n",
      "3                              [93954850, 161465782]   \n",
      "4   [2448079244, 2448079498, 2448079484, 2448079261]   \n",
      "\n",
      "                                        file_entries rev_entries  \\\n",
      "0            [3406601, 69238130, 69249698, 69240800]        None   \n",
      "1  [2713270, 66429917, 66438342, 66428949, 664438...        None   \n",
      "2  [463127505, 463124660, 5222698, 15905312, 1323...        None   \n",
      "3  [215578881, 119296784, 215571584, 215573952, 2...        None   \n",
      "4  [3568156102, 3568156067, 3568156026, 356815634...        None   \n",
      "\n",
      "   __index_level_0__  \n",
      "0               4474  \n",
      "1               1322  \n",
      "2               9652  \n",
      "3               2741  \n",
      "4               1897  \n"
     ]
    }
   ],
   "source": [
    "df = pd.concat(\n",
    "    [pd.read_parquet(file)\n",
    "     for file\n",
    "     in glob.glob('/home/matay/2019-01-28-popular-3k-python/directory/*.parquet')])\n",
    "print(df.head())"
   ]
  },
  {
   "cell_type": "code",
   "execution_count": 9,
   "id": "36c9362b-26ed-4c31-b199-5171f2ea13ab",
   "metadata": {},
   "outputs": [],
   "source": [
    "df4 = pd.read_parquet('/home/matay/2019-01-28-popular-4k/parquet/skipped_content.parquet')"
   ]
  },
  {
   "cell_type": "code",
   "execution_count": 37,
   "id": "2a35006a-a4b6-40bb-81c9-f65e557753cb",
   "metadata": {},
   "outputs": [],
   "source": [
    "pq.write_table(pq.ParquetDataset('/home/matay/2019-01-28-popular-3k-python/snapshot_branches/').read(), '/home/matay/2019-01-28-popular-3k-python/snapshot_branches.parquet', row_group_size=10000000)"
   ]
  },
  {
   "cell_type": "code",
   "execution_count": 10,
   "id": "8b5367f8-7624-4e21-bb64-f9f1423d8eb4",
   "metadata": {},
   "outputs": [
    {
     "name": "stdout",
     "output_type": "stream",
     "text": [
      "                                                sha1  \\\n",
      "0  b'I\\xa2\\x8a\\x93\\x10e\\xdd\\xe1r\\xb0%\\x7f\\xd4_\\x1...   \n",
      "1  b'\\xcb6;\\xabE*\\xef\\xa2K\\xc4\\xb6g\\xcc\\xda\\xb2\\x...   \n",
      "2  b'\\t\\x99R\\xce\\xd4F\\xde\\x88X\\x9b\\x11[:\\xa4\\xd5\\...   \n",
      "3  b'V\\xd8R\\xca\\x81\\xe8\\xf8\\xa8Z\\xf2\\xbb\\x88\\x93\\...   \n",
      "4  b'%\\x03\\xc1\\xd8/\\xd5j\\xa4\\xfc\\xadU\\x9e\\x06\\xc4...   \n",
      "\n",
      "                                            sha1_git     length  \\\n",
      "0  b'\\xca\\x8e\\xde\\x0cF\\xa0p\\xf7@\\xb3\\xf2?\\xcf\\x9f...  123774309   \n",
      "1  b'\\xc9%6\"\\xf2\\xfeh\\xe5a\\x13U\\xaa\\xb7X]T67\\x00\\...  120226385   \n",
      "2  b'\\x9b\\xb8\\x9c\\xd5W\\xf3\\xc3\\xd3\\xaa\\xd5\\xbd_MJ...  200867840   \n",
      "3  b'\\xee\\x81\\xc9LW_n\\xa0`\\xed\\xa3\\x91\\xaf\\x8d\\x9...  127475153   \n",
      "4  b'\\x15\\xa6\\x90\\xd3d\\x92\\xd8\\xd0\\xf4q\\x83K\\x03\\...  199557120   \n",
      "\n",
      "   __index_level_0__  \n",
      "0               3766  \n",
      "1               9688  \n",
      "2               7745  \n",
      "3               4246  \n",
      "4               7769  \n"
     ]
    }
   ],
   "source": [
    "print(df4.head())"
   ]
  },
  {
   "cell_type": "code",
   "execution_count": 12,
   "id": "e072d248-91c1-468c-9485-c4e911442b5f",
   "metadata": {},
   "outputs": [],
   "source": [
    "dataset4 = ds.dataset(\"/home/matay/2019-01-28-popular-4k/parquet/skipped_content.parquet\", format=\"parquet\")"
   ]
  },
  {
   "cell_type": "code",
   "execution_count": 14,
   "id": "ccf7c4e2-9ce5-48e3-841f-90c833e1a1f9",
   "metadata": {},
   "outputs": [],
   "source": [
    "dfi = dataset4.to_table().to_pandas()"
   ]
  },
  {
   "cell_type": "code",
   "execution_count": 15,
   "id": "939df79a-bdda-42de-b6b2-5f2d24c15815",
   "metadata": {},
   "outputs": [
    {
     "data": {
      "text/html": [
       "<div>\n",
       "<style scoped>\n",
       "    .dataframe tbody tr th:only-of-type {\n",
       "        vertical-align: middle;\n",
       "    }\n",
       "\n",
       "    .dataframe tbody tr th {\n",
       "        vertical-align: top;\n",
       "    }\n",
       "\n",
       "    .dataframe thead th {\n",
       "        text-align: right;\n",
       "    }\n",
       "</style>\n",
       "<table border=\"1\" class=\"dataframe\">\n",
       "  <thead>\n",
       "    <tr style=\"text-align: right;\">\n",
       "      <th></th>\n",
       "      <th>sha1</th>\n",
       "      <th>sha1_git</th>\n",
       "      <th>length</th>\n",
       "      <th>__index_level_0__</th>\n",
       "    </tr>\n",
       "  </thead>\n",
       "  <tbody>\n",
       "    <tr>\n",
       "      <th>0</th>\n",
       "      <td>b'I\\xa2\\x8a\\x93\\x10e\\xdd\\xe1r\\xb0%\\x7f\\xd4_\\x1...</td>\n",
       "      <td>b'\\xca\\x8e\\xde\\x0cF\\xa0p\\xf7@\\xb3\\xf2?\\xcf\\x9f...</td>\n",
       "      <td>123774309</td>\n",
       "      <td>3766</td>\n",
       "    </tr>\n",
       "    <tr>\n",
       "      <th>1</th>\n",
       "      <td>b'\\xcb6;\\xabE*\\xef\\xa2K\\xc4\\xb6g\\xcc\\xda\\xb2\\x...</td>\n",
       "      <td>b'\\xc9%6\"\\xf2\\xfeh\\xe5a\\x13U\\xaa\\xb7X]T67\\x00\\...</td>\n",
       "      <td>120226385</td>\n",
       "      <td>9688</td>\n",
       "    </tr>\n",
       "    <tr>\n",
       "      <th>2</th>\n",
       "      <td>b'\\t\\x99R\\xce\\xd4F\\xde\\x88X\\x9b\\x11[:\\xa4\\xd5\\...</td>\n",
       "      <td>b'\\x9b\\xb8\\x9c\\xd5W\\xf3\\xc3\\xd3\\xaa\\xd5\\xbd_MJ...</td>\n",
       "      <td>200867840</td>\n",
       "      <td>7745</td>\n",
       "    </tr>\n",
       "    <tr>\n",
       "      <th>3</th>\n",
       "      <td>b'V\\xd8R\\xca\\x81\\xe8\\xf8\\xa8Z\\xf2\\xbb\\x88\\x93\\...</td>\n",
       "      <td>b'\\xee\\x81\\xc9LW_n\\xa0`\\xed\\xa3\\x91\\xaf\\x8d\\x9...</td>\n",
       "      <td>127475153</td>\n",
       "      <td>4246</td>\n",
       "    </tr>\n",
       "    <tr>\n",
       "      <th>4</th>\n",
       "      <td>b'%\\x03\\xc1\\xd8/\\xd5j\\xa4\\xfc\\xadU\\x9e\\x06\\xc4...</td>\n",
       "      <td>b'\\x15\\xa6\\x90\\xd3d\\x92\\xd8\\xd0\\xf4q\\x83K\\x03\\...</td>\n",
       "      <td>199557120</td>\n",
       "      <td>7769</td>\n",
       "    </tr>\n",
       "  </tbody>\n",
       "</table>\n",
       "</div>"
      ],
      "text/plain": [
       "                                                sha1  \\\n",
       "0  b'I\\xa2\\x8a\\x93\\x10e\\xdd\\xe1r\\xb0%\\x7f\\xd4_\\x1...   \n",
       "1  b'\\xcb6;\\xabE*\\xef\\xa2K\\xc4\\xb6g\\xcc\\xda\\xb2\\x...   \n",
       "2  b'\\t\\x99R\\xce\\xd4F\\xde\\x88X\\x9b\\x11[:\\xa4\\xd5\\...   \n",
       "3  b'V\\xd8R\\xca\\x81\\xe8\\xf8\\xa8Z\\xf2\\xbb\\x88\\x93\\...   \n",
       "4  b'%\\x03\\xc1\\xd8/\\xd5j\\xa4\\xfc\\xadU\\x9e\\x06\\xc4...   \n",
       "\n",
       "                                            sha1_git     length  \\\n",
       "0  b'\\xca\\x8e\\xde\\x0cF\\xa0p\\xf7@\\xb3\\xf2?\\xcf\\x9f...  123774309   \n",
       "1  b'\\xc9%6\"\\xf2\\xfeh\\xe5a\\x13U\\xaa\\xb7X]T67\\x00\\...  120226385   \n",
       "2  b'\\x9b\\xb8\\x9c\\xd5W\\xf3\\xc3\\xd3\\xaa\\xd5\\xbd_MJ...  200867840   \n",
       "3  b'\\xee\\x81\\xc9LW_n\\xa0`\\xed\\xa3\\x91\\xaf\\x8d\\x9...  127475153   \n",
       "4  b'\\x15\\xa6\\x90\\xd3d\\x92\\xd8\\xd0\\xf4q\\x83K\\x03\\...  199557120   \n",
       "\n",
       "   __index_level_0__  \n",
       "0               3766  \n",
       "1               9688  \n",
       "2               7745  \n",
       "3               4246  \n",
       "4               7769  "
      ]
     },
     "execution_count": 15,
     "metadata": {},
     "output_type": "execute_result"
    }
   ],
   "source": [
    "dfi.head()"
   ]
  },
  {
   "cell_type": "code",
   "execution_count": 41,
   "id": "eae4264d-3557-4d0c-876c-e87aa3b43b90",
   "metadata": {},
   "outputs": [
    {
     "data": {
      "text/html": [
       "<div>\n",
       "<style scoped>\n",
       "    .dataframe tbody tr th:only-of-type {\n",
       "        vertical-align: middle;\n",
       "    }\n",
       "\n",
       "    .dataframe tbody tr th {\n",
       "        vertical-align: top;\n",
       "    }\n",
       "\n",
       "    .dataframe thead th {\n",
       "        text-align: right;\n",
       "    }\n",
       "</style>\n",
       "<table border=\"1\" class=\"dataframe\">\n",
       "  <thead>\n",
       "    <tr style=\"text-align: right;\">\n",
       "      <th></th>\n",
       "      <th>id</th>\n",
       "      <th>dir_entries</th>\n",
       "      <th>file_entries</th>\n",
       "      <th>rev_entries</th>\n",
       "      <th>__index_level_0__</th>\n",
       "    </tr>\n",
       "  </thead>\n",
       "  <tbody>\n",
       "    <tr>\n",
       "      <th>0</th>\n",
       "      <td>b'\\x01,_)\\x8d!n^\\x80\\xbd\\xb4[7;\\x84\\xd5\\xe8P\\x...</td>\n",
       "      <td>[54839571, 54836688, 54817642, 54841956, 54838...</td>\n",
       "      <td>[3406601, 69238130, 69249698, 69240800]</td>\n",
       "      <td>None</td>\n",
       "      <td>4474</td>\n",
       "    </tr>\n",
       "    <tr>\n",
       "      <th>1</th>\n",
       "      <td>b'\\x01\\x8bU\\x8e-\\n\\xd9\\x0c\\xf9\\x87~Um\\x18\\xe6\\...</td>\n",
       "      <td>None</td>\n",
       "      <td>[2713270, 66429917, 66438342, 66428949, 664438...</td>\n",
       "      <td>None</td>\n",
       "      <td>1322</td>\n",
       "    </tr>\n",
       "    <tr>\n",
       "      <th>2</th>\n",
       "      <td>b'\\x01\\xb3$\\x1b\\x17\\xfa\\x96\\xe3\\xd9&gt;\\x819\\x14\\...</td>\n",
       "      <td>[59722883, 14606981, 338701856, 338705639, 382...</td>\n",
       "      <td>[463127505, 463124660, 5222698, 15905312, 1323...</td>\n",
       "      <td>None</td>\n",
       "      <td>9652</td>\n",
       "    </tr>\n",
       "    <tr>\n",
       "      <th>3</th>\n",
       "      <td>b'\\x03\\x15\\x1a.N\\xa4\\x99\\x1bfT\\xe5\\x0c,L\\x80\\x...</td>\n",
       "      <td>[93954850, 161465782]</td>\n",
       "      <td>[215578881, 119296784, 215571584, 215573952, 2...</td>\n",
       "      <td>None</td>\n",
       "      <td>2741</td>\n",
       "    </tr>\n",
       "    <tr>\n",
       "      <th>4</th>\n",
       "      <td>b'\\x03_\\xe0\\xbfqxg6\"\\xb57Y\\xf9s\\xccc\\xb6\\xe9\\x...</td>\n",
       "      <td>[2448079244, 2448079498, 2448079484, 2448079261]</td>\n",
       "      <td>[3568156102, 3568156067, 3568156026, 356815634...</td>\n",
       "      <td>None</td>\n",
       "      <td>1897</td>\n",
       "    </tr>\n",
       "  </tbody>\n",
       "</table>\n",
       "</div>"
      ],
      "text/plain": [
       "                                                  id  \\\n",
       "0  b'\\x01,_)\\x8d!n^\\x80\\xbd\\xb4[7;\\x84\\xd5\\xe8P\\x...   \n",
       "1  b'\\x01\\x8bU\\x8e-\\n\\xd9\\x0c\\xf9\\x87~Um\\x18\\xe6\\...   \n",
       "2  b'\\x01\\xb3$\\x1b\\x17\\xfa\\x96\\xe3\\xd9>\\x819\\x14\\...   \n",
       "3  b'\\x03\\x15\\x1a.N\\xa4\\x99\\x1bfT\\xe5\\x0c,L\\x80\\x...   \n",
       "4  b'\\x03_\\xe0\\xbfqxg6\"\\xb57Y\\xf9s\\xccc\\xb6\\xe9\\x...   \n",
       "\n",
       "                                         dir_entries  \\\n",
       "0  [54839571, 54836688, 54817642, 54841956, 54838...   \n",
       "1                                               None   \n",
       "2  [59722883, 14606981, 338701856, 338705639, 382...   \n",
       "3                              [93954850, 161465782]   \n",
       "4   [2448079244, 2448079498, 2448079484, 2448079261]   \n",
       "\n",
       "                                        file_entries rev_entries  \\\n",
       "0            [3406601, 69238130, 69249698, 69240800]        None   \n",
       "1  [2713270, 66429917, 66438342, 66428949, 664438...        None   \n",
       "2  [463127505, 463124660, 5222698, 15905312, 1323...        None   \n",
       "3  [215578881, 119296784, 215571584, 215573952, 2...        None   \n",
       "4  [3568156102, 3568156067, 3568156026, 356815634...        None   \n",
       "\n",
       "   __index_level_0__  \n",
       "0               4474  \n",
       "1               1322  \n",
       "2               9652  \n",
       "3               2741  \n",
       "4               1897  "
      ]
     },
     "execution_count": 41,
     "metadata": {},
     "output_type": "execute_result"
    }
   ],
   "source": [
    "df.head()"
   ]
  },
  {
   "cell_type": "code",
   "execution_count": 17,
   "id": "849d6763-05c6-45e1-b61d-fb5344cf1b3b",
   "metadata": {},
   "outputs": [
    {
     "data": {
      "text/html": [
       "<div>\n",
       "<style scoped>\n",
       "    .dataframe tbody tr th:only-of-type {\n",
       "        vertical-align: middle;\n",
       "    }\n",
       "\n",
       "    .dataframe tbody tr th {\n",
       "        vertical-align: top;\n",
       "    }\n",
       "\n",
       "    .dataframe thead th {\n",
       "        text-align: right;\n",
       "    }\n",
       "</style>\n",
       "<table border=\"1\" class=\"dataframe\">\n",
       "  <thead>\n",
       "    <tr style=\"text-align: right;\">\n",
       "      <th></th>\n",
       "      <th>id</th>\n",
       "      <th>type</th>\n",
       "      <th>url</th>\n",
       "      <th>lister</th>\n",
       "      <th>project</th>\n",
       "      <th>__index_level_0__</th>\n",
       "    </tr>\n",
       "  </thead>\n",
       "  <tbody>\n",
       "    <tr>\n",
       "      <th>0</th>\n",
       "      <td>26564742</td>\n",
       "      <td>git</td>\n",
       "      <td>https://github.com/guardicore/monkey</td>\n",
       "      <td>NaN</td>\n",
       "      <td>NaN</td>\n",
       "      <td>7884</td>\n",
       "    </tr>\n",
       "    <tr>\n",
       "      <th>1</th>\n",
       "      <td>65614902</td>\n",
       "      <td>deb</td>\n",
       "      <td>deb://Debian/packages/qemuctl</td>\n",
       "      <td>NaN</td>\n",
       "      <td>NaN</td>\n",
       "      <td>3820</td>\n",
       "    </tr>\n",
       "    <tr>\n",
       "      <th>2</th>\n",
       "      <td>65634848</td>\n",
       "      <td>deb</td>\n",
       "      <td>deb://Debian/packages/retext</td>\n",
       "      <td>NaN</td>\n",
       "      <td>NaN</td>\n",
       "      <td>3402</td>\n",
       "    </tr>\n",
       "    <tr>\n",
       "      <th>3</th>\n",
       "      <td>65639611</td>\n",
       "      <td>deb</td>\n",
       "      <td>deb://Debian/packages/python-extras</td>\n",
       "      <td>NaN</td>\n",
       "      <td>NaN</td>\n",
       "      <td>8089</td>\n",
       "    </tr>\n",
       "    <tr>\n",
       "      <th>4</th>\n",
       "      <td>59785494</td>\n",
       "      <td>git</td>\n",
       "      <td>https://github.com/PaddlePaddle/models</td>\n",
       "      <td>NaN</td>\n",
       "      <td>NaN</td>\n",
       "      <td>4017</td>\n",
       "    </tr>\n",
       "  </tbody>\n",
       "</table>\n",
       "</div>"
      ],
      "text/plain": [
       "         id type                                     url  lister  project  \\\n",
       "0  26564742  git    https://github.com/guardicore/monkey     NaN      NaN   \n",
       "1  65614902  deb           deb://Debian/packages/qemuctl     NaN      NaN   \n",
       "2  65634848  deb            deb://Debian/packages/retext     NaN      NaN   \n",
       "3  65639611  deb     deb://Debian/packages/python-extras     NaN      NaN   \n",
       "4  59785494  git  https://github.com/PaddlePaddle/models     NaN      NaN   \n",
       "\n",
       "   __index_level_0__  \n",
       "0               7884  \n",
       "1               3820  \n",
       "2               3402  \n",
       "3               8089  \n",
       "4               4017  "
      ]
     },
     "execution_count": 17,
     "metadata": {},
     "output_type": "execute_result"
    }
   ],
   "source": [
    "df.head()"
   ]
  },
  {
   "cell_type": "code",
   "execution_count": 12,
   "id": "e6c618ca-4ea8-47ee-ae58-8fd7372cbb92",
   "metadata": {},
   "outputs": [
    {
     "data": {
      "text/html": [
       "<div>\n",
       "<style scoped>\n",
       "    .dataframe tbody tr th:only-of-type {\n",
       "        vertical-align: middle;\n",
       "    }\n",
       "\n",
       "    .dataframe tbody tr th {\n",
       "        vertical-align: top;\n",
       "    }\n",
       "\n",
       "    .dataframe thead th {\n",
       "        text-align: right;\n",
       "    }\n",
       "</style>\n",
       "<table border=\"1\" class=\"dataframe\">\n",
       "  <thead>\n",
       "    <tr style=\"text-align: right;\">\n",
       "      <th></th>\n",
       "      <th>id</th>\n",
       "      <th>target</th>\n",
       "      <th>name</th>\n",
       "      <th>perms</th>\n",
       "      <th>__index_level_0__</th>\n",
       "    </tr>\n",
       "  </thead>\n",
       "  <tbody>\n",
       "    <tr>\n",
       "      <th>0</th>\n",
       "      <td>225</td>\n",
       "      <td>b'\\x8e\\x9a\\xb6\\xc1G\\xf48\\x8f\\xbe\\x80\\xf3\\xcfQ\\...</td>\n",
       "      <td>b'tests'</td>\n",
       "      <td>16384</td>\n",
       "      <td>4189</td>\n",
       "    </tr>\n",
       "    <tr>\n",
       "      <th>1</th>\n",
       "      <td>323</td>\n",
       "      <td>b'M\\\\\\xe1\\x05\\xa0\\xd9\\xe2\\xabZ\\x93\\xf0\\xa8V@\\x...</td>\n",
       "      <td>b'docs'</td>\n",
       "      <td>16384</td>\n",
       "      <td>4287</td>\n",
       "    </tr>\n",
       "    <tr>\n",
       "      <th>2</th>\n",
       "      <td>352</td>\n",
       "      <td>b'\\x96Im\\xf7X\\xc9\\xe5\\xda\\xd3\\xd7\\xb7&gt;\\xe0wI\\x...</td>\n",
       "      <td>b'hy'</td>\n",
       "      <td>16384</td>\n",
       "      <td>4316</td>\n",
       "    </tr>\n",
       "    <tr>\n",
       "      <th>3</th>\n",
       "      <td>559</td>\n",
       "      <td>b\"9\\xa4g\\xcc$'I\\xc4\\xc1O\\xdb\\x19\\x92p\\xb1\\xe8j...</td>\n",
       "      <td>b'docs'</td>\n",
       "      <td>16384</td>\n",
       "      <td>4523</td>\n",
       "    </tr>\n",
       "    <tr>\n",
       "      <th>4</th>\n",
       "      <td>682</td>\n",
       "      <td>b'\\x10+\\xb5\\xeb\\xeae\\x8a\\xdbu5b\\xccb\\x9c\\xa9\\x...</td>\n",
       "      <td>b'templates'</td>\n",
       "      <td>16384</td>\n",
       "      <td>4646</td>\n",
       "    </tr>\n",
       "  </tbody>\n",
       "</table>\n",
       "</div>"
      ],
      "text/plain": [
       "    id                                             target          name  \\\n",
       "0  225  b'\\x8e\\x9a\\xb6\\xc1G\\xf48\\x8f\\xbe\\x80\\xf3\\xcfQ\\...      b'tests'   \n",
       "1  323  b'M\\\\\\xe1\\x05\\xa0\\xd9\\xe2\\xabZ\\x93\\xf0\\xa8V@\\x...       b'docs'   \n",
       "2  352  b'\\x96Im\\xf7X\\xc9\\xe5\\xda\\xd3\\xd7\\xb7>\\xe0wI\\x...         b'hy'   \n",
       "3  559  b\"9\\xa4g\\xcc$'I\\xc4\\xc1O\\xdb\\x19\\x92p\\xb1\\xe8j...       b'docs'   \n",
       "4  682  b'\\x10+\\xb5\\xeb\\xeae\\x8a\\xdbu5b\\xccb\\x9c\\xa9\\x...  b'templates'   \n",
       "\n",
       "   perms  __index_level_0__  \n",
       "0  16384               4189  \n",
       "1  16384               4287  \n",
       "2  16384               4316  \n",
       "3  16384               4523  \n",
       "4  16384               4646  "
      ]
     },
     "execution_count": 12,
     "metadata": {},
     "output_type": "execute_result"
    }
   ],
   "source": [
    "df.head()"
   ]
  },
  {
   "cell_type": "code",
   "execution_count": 10,
   "id": "20a6a502-125c-4501-8e55-60d2eb731fa8",
   "metadata": {},
   "outputs": [
    {
     "data": {
      "text/html": [
       "<div>\n",
       "<style scoped>\n",
       "    .dataframe tbody tr th:only-of-type {\n",
       "        vertical-align: middle;\n",
       "    }\n",
       "\n",
       "    .dataframe tbody tr th {\n",
       "        vertical-align: top;\n",
       "    }\n",
       "\n",
       "    .dataframe thead th {\n",
       "        text-align: right;\n",
       "    }\n",
       "</style>\n",
       "<table border=\"1\" class=\"dataframe\">\n",
       "  <thead>\n",
       "    <tr style=\"text-align: right;\">\n",
       "      <th></th>\n",
       "      <th>id</th>\n",
       "      <th>target</th>\n",
       "      <th>name</th>\n",
       "      <th>perms</th>\n",
       "      <th>__index_level_0__</th>\n",
       "    </tr>\n",
       "  </thead>\n",
       "  <tbody>\n",
       "    <tr>\n",
       "      <th>0</th>\n",
       "      <td>69</td>\n",
       "      <td>b'\\xc4\\x18\\xdb\\xaa\\xa05\\xc3j\\xce\\xb3\"\\x84u\\x7f...</td>\n",
       "      <td>b'compiler.py'</td>\n",
       "      <td>33188</td>\n",
       "      <td>4547</td>\n",
       "    </tr>\n",
       "    <tr>\n",
       "      <th>1</th>\n",
       "      <td>475</td>\n",
       "      <td>b'\\xe8\\xae\\x14\\xf8\\xbd\\xa7\\xd1$\\xbf\\xdb\\xcd\\x0...</td>\n",
       "      <td>b'errors.py'</td>\n",
       "      <td>33188</td>\n",
       "      <td>4953</td>\n",
       "    </tr>\n",
       "    <tr>\n",
       "      <th>2</th>\n",
       "      <td>913</td>\n",
       "      <td>b'c\\xde|fX4\\xd3\\xd4\\x0e5P\\x02\\t\\x0f\\xcew\\x91\\x...</td>\n",
       "      <td>b'test_lex.py'</td>\n",
       "      <td>33188</td>\n",
       "      <td>5391</td>\n",
       "    </tr>\n",
       "    <tr>\n",
       "      <th>3</th>\n",
       "      <td>1086</td>\n",
       "      <td>b'\\x10\\xe8\\x93\\xe4 \\x1bB\\x89\\xa8\\x82\\xc6r&gt;\\xe8...</td>\n",
       "      <td>b'jquery.console.js'</td>\n",
       "      <td>33188</td>\n",
       "      <td>5564</td>\n",
       "    </tr>\n",
       "    <tr>\n",
       "      <th>4</th>\n",
       "      <td>1148</td>\n",
       "      <td>b'\\xccF\\xf1\\xc6Rq\\x9f\\xee\\x89\\x1c(\\x9a\\x90\\xd4...</td>\n",
       "      <td>b'_compat.py'</td>\n",
       "      <td>33188</td>\n",
       "      <td>5626</td>\n",
       "    </tr>\n",
       "  </tbody>\n",
       "</table>\n",
       "</div>"
      ],
      "text/plain": [
       "     id                                             target  \\\n",
       "0    69  b'\\xc4\\x18\\xdb\\xaa\\xa05\\xc3j\\xce\\xb3\"\\x84u\\x7f...   \n",
       "1   475  b'\\xe8\\xae\\x14\\xf8\\xbd\\xa7\\xd1$\\xbf\\xdb\\xcd\\x0...   \n",
       "2   913  b'c\\xde|fX4\\xd3\\xd4\\x0e5P\\x02\\t\\x0f\\xcew\\x91\\x...   \n",
       "3  1086  b'\\x10\\xe8\\x93\\xe4 \\x1bB\\x89\\xa8\\x82\\xc6r>\\xe8...   \n",
       "4  1148  b'\\xccF\\xf1\\xc6Rq\\x9f\\xee\\x89\\x1c(\\x9a\\x90\\xd4...   \n",
       "\n",
       "                   name  perms  __index_level_0__  \n",
       "0        b'compiler.py'  33188               4547  \n",
       "1          b'errors.py'  33188               4953  \n",
       "2        b'test_lex.py'  33188               5391  \n",
       "3  b'jquery.console.js'  33188               5564  \n",
       "4         b'_compat.py'  33188               5626  "
      ]
     },
     "execution_count": 10,
     "metadata": {},
     "output_type": "execute_result"
    }
   ],
   "source": [
    "df.head()"
   ]
  },
  {
   "cell_type": "code",
   "execution_count": 27,
   "id": "03bc17c0-ca07-41d0-af6e-4295149e6dfd",
   "metadata": {},
   "outputs": [],
   "source": [
    "df1 = pandas.read_parquet('popular3kcontent.parquet', dtype_backend=\"pyarrow\", engine=\"pyarrow\")"
   ]
  },
  {
   "cell_type": "code",
   "execution_count": 30,
   "id": "40c26573-3767-4ad2-a88a-e283651ac214",
   "metadata": {},
   "outputs": [],
   "source": [
    "df_parquet_bytes = df1.to_parquet()"
   ]
  },
  {
   "cell_type": "code",
   "execution_count": 34,
   "id": "94704156-e316-4e61-8be9-6319fe249554",
   "metadata": {},
   "outputs": [],
   "source": [
    "restored_df = pd.read_parquet(BytesIO(df_parquet_bytes))"
   ]
  },
  {
   "cell_type": "code",
   "execution_count": 35,
   "id": "7d529648-0ae6-4afb-b0ca-d4f51d6a2c9c",
   "metadata": {},
   "outputs": [
    {
     "data": {
      "text/html": [
       "<div>\n",
       "<style scoped>\n",
       "    .dataframe tbody tr th:only-of-type {\n",
       "        vertical-align: middle;\n",
       "    }\n",
       "\n",
       "    .dataframe tbody tr th {\n",
       "        vertical-align: top;\n",
       "    }\n",
       "\n",
       "    .dataframe thead th {\n",
       "        text-align: right;\n",
       "    }\n",
       "</style>\n",
       "<table border=\"1\" class=\"dataframe\">\n",
       "  <thead>\n",
       "    <tr style=\"text-align: right;\">\n",
       "      <th></th>\n",
       "      <th>sha1</th>\n",
       "      <th>sha1_git</th>\n",
       "      <th>length</th>\n",
       "      <th>__index_level_0__</th>\n",
       "    </tr>\n",
       "  </thead>\n",
       "  <tbody>\n",
       "    <tr>\n",
       "      <th>0</th>\n",
       "      <td>b'\\x9b\\x0f\\xa9R\\n\\x1a\\xd2\\xa6\\x96*\\xcd\\x01\\xb2...</td>\n",
       "      <td>b'\\x01z\\xd0\\xc84\\x7f\\xd23\\x81R\\x95{\\xea_\\xb3\\x...</td>\n",
       "      <td>11815</td>\n",
       "      <td>8076</td>\n",
       "    </tr>\n",
       "    <tr>\n",
       "      <th>1</th>\n",
       "      <td>b'\\xf8\\xd3\\x88\\x1c\\xafMpAz\\xb6I\\xe4\\x8f\\xee\\x8...</td>\n",
       "      <td>b'\\x02\\xb3\\xa3)|\\xdd\\xe1!)\"\\xa8XD\\xf0!\\xefY?\\x...</td>\n",
       "      <td>1683</td>\n",
       "      <td>9829</td>\n",
       "    </tr>\n",
       "    <tr>\n",
       "      <th>2</th>\n",
       "      <td>b'\\x7f\\xbf.\\xf0\\xb4\\x9e\\xf1\\xf0\\x87j\\\\\\xc1&gt;hY\\...</td>\n",
       "      <td>b'\\x04\\x11:\\xaa\\x05\\xb9\\x1a\\xf7\\xbe\\xb2i\\x07\\x...</td>\n",
       "      <td>12975</td>\n",
       "      <td>212</td>\n",
       "    </tr>\n",
       "    <tr>\n",
       "      <th>3</th>\n",
       "      <td>b'\\x9at\\x94TE2\\xb2\\xfcP\\x82@\\rghz\\x8bo\\xe4\\xb0...</td>\n",
       "      <td>b'\\x048u/\\xf8\\x038&amp;6\\x9d7\\xe81$\\xf35\\xcdC\\x99\\...</td>\n",
       "      <td>1555591</td>\n",
       "      <td>8138</td>\n",
       "    </tr>\n",
       "    <tr>\n",
       "      <th>4</th>\n",
       "      <td>b'\\x04\\xf1\\xa0\\x17j1\\xfb\\x85\\x9fE\\xb0`U\\xc4\\x9...</td>\n",
       "      <td>b'\\x069\\\\$\\x95\\x8b\\xc2\\xa8\\x0b4-\\xb8A\\xe1\\xbd\\...</td>\n",
       "      <td>2047</td>\n",
       "      <td>1104</td>\n",
       "    </tr>\n",
       "  </tbody>\n",
       "</table>\n",
       "</div>"
      ],
      "text/plain": [
       "                                                sha1  \\\n",
       "0  b'\\x9b\\x0f\\xa9R\\n\\x1a\\xd2\\xa6\\x96*\\xcd\\x01\\xb2...   \n",
       "1  b'\\xf8\\xd3\\x88\\x1c\\xafMpAz\\xb6I\\xe4\\x8f\\xee\\x8...   \n",
       "2  b'\\x7f\\xbf.\\xf0\\xb4\\x9e\\xf1\\xf0\\x87j\\\\\\xc1>hY\\...   \n",
       "3  b'\\x9at\\x94TE2\\xb2\\xfcP\\x82@\\rghz\\x8bo\\xe4\\xb0...   \n",
       "4  b'\\x04\\xf1\\xa0\\x17j1\\xfb\\x85\\x9fE\\xb0`U\\xc4\\x9...   \n",
       "\n",
       "                                            sha1_git   length  \\\n",
       "0  b'\\x01z\\xd0\\xc84\\x7f\\xd23\\x81R\\x95{\\xea_\\xb3\\x...    11815   \n",
       "1  b'\\x02\\xb3\\xa3)|\\xdd\\xe1!)\"\\xa8XD\\xf0!\\xefY?\\x...     1683   \n",
       "2  b'\\x04\\x11:\\xaa\\x05\\xb9\\x1a\\xf7\\xbe\\xb2i\\x07\\x...    12975   \n",
       "3  b'\\x048u/\\xf8\\x038&6\\x9d7\\xe81$\\xf35\\xcdC\\x99\\...  1555591   \n",
       "4  b'\\x069\\\\$\\x95\\x8b\\xc2\\xa8\\x0b4-\\xb8A\\xe1\\xbd\\...     2047   \n",
       "\n",
       "   __index_level_0__  \n",
       "0               8076  \n",
       "1               9829  \n",
       "2                212  \n",
       "3               8138  \n",
       "4               1104  "
      ]
     },
     "execution_count": 35,
     "metadata": {},
     "output_type": "execute_result"
    }
   ],
   "source": [
    "restored_df.head(5)"
   ]
  },
  {
   "cell_type": "code",
   "execution_count": null,
   "id": "daf552a8-c18b-4ec1-a2f7-be3268011db0",
   "metadata": {},
   "outputs": [],
   "source": []
  },
  {
   "cell_type": "code",
   "execution_count": 18,
   "id": "da89ca32-0b91-41a6-b9b6-43194c950ac9",
   "metadata": {},
   "outputs": [
    {
     "data": {
      "text/plain": [
       "9889099"
      ]
     },
     "execution_count": 18,
     "metadata": {},
     "output_type": "execute_result"
    }
   ],
   "source": [
    "len(pandas.read_parquet('popular3kcontent.parquet'))"
   ]
  },
  {
   "cell_type": "code",
   "execution_count": 44,
   "id": "eb3e6001-ee08-44c8-af58-f4dcd562f444",
   "metadata": {},
   "outputs": [
    {
     "data": {
      "text/plain": [
       "8004547"
      ]
     },
     "execution_count": 44,
     "metadata": {},
     "output_type": "execute_result"
    }
   ],
   "source": [
    "len(df.query(\"length > 1683\"))"
   ]
  },
  {
   "cell_type": "code",
   "execution_count": 54,
   "id": "a8e1116b-29cf-4e0e-b2d2-88abc548cb79",
   "metadata": {},
   "outputs": [
    {
     "data": {
      "text/html": [
       "<div>\n",
       "<style scoped>\n",
       "    .dataframe tbody tr th:only-of-type {\n",
       "        vertical-align: middle;\n",
       "    }\n",
       "\n",
       "    .dataframe tbody tr th {\n",
       "        vertical-align: top;\n",
       "    }\n",
       "\n",
       "    .dataframe thead th {\n",
       "        text-align: right;\n",
       "    }\n",
       "</style>\n",
       "<table border=\"1\" class=\"dataframe\">\n",
       "  <thead>\n",
       "    <tr style=\"text-align: right;\">\n",
       "      <th></th>\n",
       "      <th>length</th>\n",
       "      <th>__index_level_0__</th>\n",
       "    </tr>\n",
       "  </thead>\n",
       "  <tbody>\n",
       "    <tr>\n",
       "      <th>0</th>\n",
       "      <td>11815</td>\n",
       "      <td>8076</td>\n",
       "    </tr>\n",
       "    <tr>\n",
       "      <th>1</th>\n",
       "      <td>1683</td>\n",
       "      <td>9829</td>\n",
       "    </tr>\n",
       "    <tr>\n",
       "      <th>3</th>\n",
       "      <td>1555591</td>\n",
       "      <td>8138</td>\n",
       "    </tr>\n",
       "    <tr>\n",
       "      <th>15</th>\n",
       "      <td>11489</td>\n",
       "      <td>8737</td>\n",
       "    </tr>\n",
       "    <tr>\n",
       "      <th>27</th>\n",
       "      <td>10274</td>\n",
       "      <td>8690</td>\n",
       "    </tr>\n",
       "    <tr>\n",
       "      <th>...</th>\n",
       "      <td>...</td>\n",
       "      <td>...</td>\n",
       "    </tr>\n",
       "    <tr>\n",
       "      <th>9889065</th>\n",
       "      <td>2561</td>\n",
       "      <td>8826</td>\n",
       "    </tr>\n",
       "    <tr>\n",
       "      <th>9889071</th>\n",
       "      <td>492</td>\n",
       "      <td>9168</td>\n",
       "    </tr>\n",
       "    <tr>\n",
       "      <th>9889079</th>\n",
       "      <td>4633</td>\n",
       "      <td>9736</td>\n",
       "    </tr>\n",
       "    <tr>\n",
       "      <th>9889081</th>\n",
       "      <td>8255</td>\n",
       "      <td>8847</td>\n",
       "    </tr>\n",
       "    <tr>\n",
       "      <th>9889082</th>\n",
       "      <td>52655</td>\n",
       "      <td>8158</td>\n",
       "    </tr>\n",
       "  </tbody>\n",
       "</table>\n",
       "<p>1873134 rows × 2 columns</p>\n",
       "</div>"
      ],
      "text/plain": [
       "          length  __index_level_0__\n",
       "0          11815               8076\n",
       "1           1683               9829\n",
       "3        1555591               8138\n",
       "15         11489               8737\n",
       "27         10274               8690\n",
       "...          ...                ...\n",
       "9889065     2561               8826\n",
       "9889071      492               9168\n",
       "9889079     4633               9736\n",
       "9889081     8255               8847\n",
       "9889082    52655               8158\n",
       "\n",
       "[1873134 rows x 2 columns]"
      ]
     },
     "execution_count": 54,
     "metadata": {},
     "output_type": "execute_result"
    }
   ],
   "source": [
    "# uses pyarrow\n",
    "pandas.read_parquet('/home/matay/2019-01-28-popular-4k/parquet/popular3kcontent.parquet', columns=['origin']).query(\"length >= 11815\" and \"__index_level_0__>= 8076\")\n"
   ]
  },
  {
   "cell_type": "code",
   "execution_count": 42,
   "id": "af44e3a6-edb6-4273-b93e-d2db25aba28b",
   "metadata": {},
   "outputs": [],
   "source": [
    "# uses pyarrow\n",
    "vis = pd.read_parquet('/home/matay/2019-01-28-popular-3k-python/origin_visit.parquet')\n"
   ]
  },
  {
   "cell_type": "code",
   "execution_count": 45,
   "id": "3b1f3f57-5019-457b-94bc-5cb4e2da50cc",
   "metadata": {},
   "outputs": [
    {
     "data": {
      "text/html": [
       "<div>\n",
       "<style scoped>\n",
       "    .dataframe tbody tr th:only-of-type {\n",
       "        vertical-align: middle;\n",
       "    }\n",
       "\n",
       "    .dataframe tbody tr th {\n",
       "        vertical-align: top;\n",
       "    }\n",
       "\n",
       "    .dataframe thead th {\n",
       "        text-align: right;\n",
       "    }\n",
       "</style>\n",
       "<table border=\"1\" class=\"dataframe\">\n",
       "  <thead>\n",
       "    <tr style=\"text-align: right;\">\n",
       "      <th></th>\n",
       "      <th>origin</th>\n",
       "      <th>visit</th>\n",
       "      <th>date</th>\n",
       "      <th>status</th>\n",
       "      <th>metadata</th>\n",
       "      <th>snapshot_id</th>\n",
       "      <th>__index_level_0__</th>\n",
       "    </tr>\n",
       "  </thead>\n",
       "  <tbody>\n",
       "    <tr>\n",
       "      <th>0</th>\n",
       "      <td>2212389</td>\n",
       "      <td>17</td>\n",
       "      <td>2018-07-10 21:24:19.446206</td>\n",
       "      <td>full</td>\n",
       "      <td>NaN</td>\n",
       "      <td>55615823.0</td>\n",
       "      <td>3961</td>\n",
       "    </tr>\n",
       "    <tr>\n",
       "      <th>1</th>\n",
       "      <td>2212389</td>\n",
       "      <td>18</td>\n",
       "      <td>2018-09-23 20:36:54.838253</td>\n",
       "      <td>full</td>\n",
       "      <td>NaN</td>\n",
       "      <td>57138077.0</td>\n",
       "      <td>61</td>\n",
       "    </tr>\n",
       "    <tr>\n",
       "      <th>2</th>\n",
       "      <td>2212389</td>\n",
       "      <td>11</td>\n",
       "      <td>2016-08-30 17:56:16.213940</td>\n",
       "      <td>full</td>\n",
       "      <td>NaN</td>\n",
       "      <td>3885681.0</td>\n",
       "      <td>4433</td>\n",
       "    </tr>\n",
       "    <tr>\n",
       "      <th>3</th>\n",
       "      <td>2212389</td>\n",
       "      <td>12</td>\n",
       "      <td>2016-09-08 10:14:44.130835</td>\n",
       "      <td>full</td>\n",
       "      <td>NaN</td>\n",
       "      <td>3885682.0</td>\n",
       "      <td>9152</td>\n",
       "    </tr>\n",
       "    <tr>\n",
       "      <th>4</th>\n",
       "      <td>2212389</td>\n",
       "      <td>13</td>\n",
       "      <td>2016-09-15 10:04:03.972309</td>\n",
       "      <td>full</td>\n",
       "      <td>NaN</td>\n",
       "      <td>3885683.0</td>\n",
       "      <td>4815</td>\n",
       "    </tr>\n",
       "  </tbody>\n",
       "</table>\n",
       "</div>"
      ],
      "text/plain": [
       "    origin  visit                       date status  metadata  snapshot_id  \\\n",
       "0  2212389     17 2018-07-10 21:24:19.446206   full       NaN   55615823.0   \n",
       "1  2212389     18 2018-09-23 20:36:54.838253   full       NaN   57138077.0   \n",
       "2  2212389     11 2016-08-30 17:56:16.213940   full       NaN    3885681.0   \n",
       "3  2212389     12 2016-09-08 10:14:44.130835   full       NaN    3885682.0   \n",
       "4  2212389     13 2016-09-15 10:04:03.972309   full       NaN    3885683.0   \n",
       "\n",
       "   __index_level_0__  \n",
       "0               3961  \n",
       "1                 61  \n",
       "2               4433  \n",
       "3               9152  \n",
       "4               4815  "
      ]
     },
     "execution_count": 45,
     "metadata": {},
     "output_type": "execute_result"
    }
   ],
   "source": [
    "vis.head()"
   ]
  },
  {
   "cell_type": "code",
   "execution_count": 43,
   "id": "8827199b-5d31-44c6-8c61-29bc6798ae88",
   "metadata": {},
   "outputs": [
    {
     "data": {
      "text/plain": [
       "238566"
      ]
     },
     "execution_count": 43,
     "metadata": {},
     "output_type": "execute_result"
    }
   ],
   "source": [
    "len(vis)"
   ]
  },
  {
   "cell_type": "code",
   "execution_count": 44,
   "id": "4ad396ec-f100-4303-9bed-18d352ed1178",
   "metadata": {},
   "outputs": [
    {
     "data": {
      "text/html": [
       "<div>\n",
       "<style scoped>\n",
       "    .dataframe tbody tr th:only-of-type {\n",
       "        vertical-align: middle;\n",
       "    }\n",
       "\n",
       "    .dataframe tbody tr th {\n",
       "        vertical-align: top;\n",
       "    }\n",
       "\n",
       "    .dataframe thead th {\n",
       "        text-align: right;\n",
       "    }\n",
       "</style>\n",
       "<table border=\"1\" class=\"dataframe\">\n",
       "  <thead>\n",
       "    <tr style=\"text-align: right;\">\n",
       "      <th></th>\n",
       "      <th>snapshot_id</th>\n",
       "    </tr>\n",
       "  </thead>\n",
       "  <tbody>\n",
       "    <tr>\n",
       "      <th>0</th>\n",
       "      <td>55615823.0</td>\n",
       "    </tr>\n",
       "    <tr>\n",
       "      <th>1</th>\n",
       "      <td>57138077.0</td>\n",
       "    </tr>\n",
       "    <tr>\n",
       "      <th>2</th>\n",
       "      <td>3885681.0</td>\n",
       "    </tr>\n",
       "    <tr>\n",
       "      <th>3</th>\n",
       "      <td>3885682.0</td>\n",
       "    </tr>\n",
       "    <tr>\n",
       "      <th>4</th>\n",
       "      <td>3885683.0</td>\n",
       "    </tr>\n",
       "    <tr>\n",
       "      <th>...</th>\n",
       "      <td>...</td>\n",
       "    </tr>\n",
       "    <tr>\n",
       "      <th>238561</th>\n",
       "      <td>26691210.0</td>\n",
       "    </tr>\n",
       "    <tr>\n",
       "      <th>238562</th>\n",
       "      <td>26691210.0</td>\n",
       "    </tr>\n",
       "    <tr>\n",
       "      <th>238563</th>\n",
       "      <td>57073173.0</td>\n",
       "    </tr>\n",
       "    <tr>\n",
       "      <th>238564</th>\n",
       "      <td>57085748.0</td>\n",
       "    </tr>\n",
       "    <tr>\n",
       "      <th>238565</th>\n",
       "      <td>57133311.0</td>\n",
       "    </tr>\n",
       "  </tbody>\n",
       "</table>\n",
       "<p>238566 rows × 1 columns</p>\n",
       "</div>"
      ],
      "text/plain": [
       "        snapshot_id\n",
       "0        55615823.0\n",
       "1        57138077.0\n",
       "2         3885681.0\n",
       "3         3885682.0\n",
       "4         3885683.0\n",
       "...             ...\n",
       "238561   26691210.0\n",
       "238562   26691210.0\n",
       "238563   57073173.0\n",
       "238564   57085748.0\n",
       "238565   57133311.0\n",
       "\n",
       "[238566 rows x 1 columns]"
      ]
     },
     "execution_count": 44,
     "metadata": {},
     "output_type": "execute_result"
    }
   ],
   "source": [
    "vis.filter(like='snapshot_id', axis=1)"
   ]
  },
  {
   "cell_type": "code",
   "execution_count": 40,
   "id": "69dce870-95a5-41ae-8e18-948b54b11d14",
   "metadata": {},
   "outputs": [],
   "source": [
    "snp = pd.read_parquet('/home/matay/2019-01-28-popular-3k-python/snapshot_branches.parquet')\n"
   ]
  },
  {
   "cell_type": "code",
   "execution_count": 51,
   "id": "156e95ac-f08d-485b-9508-6624584713c6",
   "metadata": {},
   "outputs": [
    {
     "name": "stdout",
     "output_type": "stream",
     "text": [
      "         snapshot_id  branch_id  __index_level_0__\n",
      "6614479     55615823    5447838               9588\n",
      "6614480     55615823    7178341               9589\n",
      "6614481     55615823    7431740               9590\n",
      "6614482     55615823    7568068               9591\n",
      "6614483     55615823    8685696               9592\n",
      "...              ...        ...                ...\n",
      "6614883     55615823  164713029               9992\n",
      "6614884     55615823  164713030               9993\n",
      "6614885     55615823  164713031               9994\n",
      "6614886     55615823  164713032               9995\n",
      "6614887     55615823  164713033               9996\n",
      "\n",
      "[409 rows x 3 columns]\n"
     ]
    }
   ],
   "source": [
    "dfc = snp[snp['snapshot_id'].astype(str).str.contains('55615823')] \n",
    "print(dfc) "
   ]
  },
  {
   "cell_type": "code",
   "execution_count": 37,
   "id": "59c64d8f-2f90-44b5-ae40-abd6d96d9b56",
   "metadata": {},
   "outputs": [
    {
     "name": "stdout",
     "output_type": "stream",
     "text": [
      "2.2.2\n"
     ]
    }
   ],
   "source": [
    " print(pd.__version__)"
   ]
  },
  {
   "cell_type": "code",
   "execution_count": null,
   "id": "345057f3-03a3-44c0-8da4-557f2393d787",
   "metadata": {},
   "outputs": [],
   "source": []
  }
 ],
 "metadata": {
  "kernelspec": {
   "display_name": "Python 3 (ipykernel)",
   "language": "python",
   "name": "python3"
  },
  "language_info": {
   "codemirror_mode": {
    "name": "ipython",
    "version": 3
   },
   "file_extension": ".py",
   "mimetype": "text/x-python",
   "name": "python",
   "nbconvert_exporter": "python",
   "pygments_lexer": "ipython3",
   "version": "3.12.4"
  }
 },
 "nbformat": 4,
 "nbformat_minor": 5
}
