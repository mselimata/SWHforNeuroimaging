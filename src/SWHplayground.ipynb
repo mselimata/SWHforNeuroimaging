{
 "cells": [
  {
   "cell_type": "code",
   "execution_count": 1,
   "id": "74678864-298d-4501-9ae3-c91e5436c173",
   "metadata": {},
   "outputs": [],
   "source": [
    "import json\n",
    "import requests"
   ]
  },
  {
   "cell_type": "code",
   "execution_count": 2,
   "id": "51448d87-e0ab-4f44-8eae-8ed18383ef7a",
   "metadata": {},
   "outputs": [],
   "source": [
    "def jprint(obj):\n",
    "    # create a formatted string of the Python JSON object\n",
    "    print(json.dumps(obj, sort_keys=True, indent=4))"
   ]
  },
  {
   "cell_type": "code",
   "execution_count": 6,
   "id": "c452bac2-3007-4caf-a181-84e6bdb56c35",
   "metadata": {},
   "outputs": [
    {
     "name": "stdout",
     "output_type": "stream",
     "text": [
      "We found 70 entries.\n",
      "- https://github.com/sinpsarkar/Python---Assignment7\n",
      "- https://github.com/juskly/awesome-python\n",
      "- https://github.com/Artipel/PythonFlask\n",
      "- https://github.com/drmnbastrk/python-notlarim\n",
      "- https://github.com/rangeet/Python-EDA\n",
      "- https://github.com/venkatesh9542/Python-Flask-RestAPI\n",
      "- https://github.com/CDBiddulph/vfh-python\n",
      "- https://files.pythonhosted.org/packages/source/p/pykwalify/pykwalify-1.7.0.tar.gz\n",
      "- https://github.com/PriscaTida/python-formation\n"
     ]
    }
   ],
   "source": [
    "resp = requests.get(\"https://archive.softwareheritage.org/api/1/origin//\")\n",
    "origins = resp.json()\n",
    "print(f\"We found {len(origins)} entries.\")\n",
    "for origin in origins[1:10]:\n",
    "    print(f\"- {origin['url']}\")\n"
   ]
  },
  {
   "cell_type": "code",
   "execution_count": 4,
   "id": "68ced668-0ae5-4375-a017-fada484cc8d5",
   "metadata": {},
   "outputs": [
    {
     "name": "stdout",
     "output_type": "stream",
     "text": [
      "[{'url': 'https://github.com/afnida-ashraf/angular-new', 'visit_types': ['git'], 'has_visits': True, 'origin_visits_url': 'https://archive.softwareheritage.org/api/1/origin/https://github.com/afnida-ashraf/angular-new/visits/', 'metadata_authorities_url': 'https://archive.softwareheritage.org/api/1/raw-extrinsic-metadata/swhid/swh:1:ori:0018a4e3198e2c74175827411a48145d52205d3b/authorities/'}, {'url': 'https://github.com/lhansn/afni_resting_state_pipeline', 'visit_types': ['git'], 'has_visits': False, 'origin_visits_url': 'https://archive.softwareheritage.org/api/1/origin/https://github.com/lhansn/afni_resting_state_pipeline/visits/', 'metadata_authorities_url': 'https://archive.softwareheritage.org/api/1/raw-extrinsic-metadata/swhid/swh:1:ori:00c1cd8b9987b15969fe6a8b6b424c890fd07d2d/authorities/'}, {'url': 'https://github.com/Afnidou/spring-security-jwt-micro-service', 'visit_types': ['git'], 'has_visits': True, 'origin_visits_url': 'https://archive.softwareheritage.org/api/1/origin/https://github.com/Afnidou/spring-security-jwt-micro-service/visits/', 'metadata_authorities_url': 'https://archive.softwareheritage.org/api/1/raw-extrinsic-metadata/swhid/swh:1:ori:00cb783c1562707b25673d84d7cc783a9fbfd5a7/authorities/'}, {'url': 'https://github.com/afnizarnur/design-boilerplate', 'visit_types': ['git'], 'has_visits': True, 'origin_visits_url': 'https://archive.softwareheritage.org/api/1/origin/https://github.com/afnizarnur/design-boilerplate/visits/', 'metadata_authorities_url': 'https://archive.softwareheritage.org/api/1/raw-extrinsic-metadata/swhid/swh:1:ori:00e79e7d94d5d68d83ecb362d9f423c6779e8de1/authorities/'}, {'url': 'https://www.npmjs.com/package/@afnidelia/afnidelia01-d', 'visit_types': ['npm'], 'has_visits': True, 'origin_visits_url': 'https://archive.softwareheritage.org/api/1/origin/https://www.npmjs.com/package/@afnidelia/afnidelia01-d/visits/', 'metadata_authorities_url': 'https://archive.softwareheritage.org/api/1/raw-extrinsic-metadata/swhid/swh:1:ori:00ef7444c68dbd5a147edb8ee7e288a52c38c9fd/authorities/'}, {'url': 'https://github.com/afnikitina/snap-concert', 'visit_types': ['git'], 'has_visits': True, 'origin_visits_url': 'https://archive.softwareheritage.org/api/1/origin/https://github.com/afnikitina/snap-concert/visits/', 'metadata_authorities_url': 'https://archive.softwareheritage.org/api/1/raw-extrinsic-metadata/swhid/swh:1:ori:00f1a3badb49b6b8e879b5dac086c7343120edcd/authorities/'}, {'url': 'https://github.com/afninice/tugas-dicoding3', 'visit_types': ['git'], 'has_visits': True, 'origin_visits_url': 'https://archive.softwareheritage.org/api/1/origin/https://github.com/afninice/tugas-dicoding3/visits/', 'metadata_authorities_url': 'https://archive.softwareheritage.org/api/1/raw-extrinsic-metadata/swhid/swh:1:ori:01074996510dd7c645cb77f160db92a2843ffc87/authorities/'}, {'url': 'https://github.com/afniedermayer/empiricalio2021cergy', 'visit_types': ['git'], 'has_visits': False, 'origin_visits_url': 'https://archive.softwareheritage.org/api/1/origin/https://github.com/afniedermayer/empiricalio2021cergy/visits/', 'metadata_authorities_url': 'https://archive.softwareheritage.org/api/1/raw-extrinsic-metadata/swhid/swh:1:ori:011e36c5979f23055abc6103011b2ce4da6a5caa/authorities/'}, {'url': 'https://github.com/martin3141/afni_arch', 'visit_types': ['git'], 'has_visits': True, 'origin_visits_url': 'https://archive.softwareheritage.org/api/1/origin/https://github.com/martin3141/afni_arch/visits/', 'metadata_authorities_url': 'https://archive.softwareheritage.org/api/1/raw-extrinsic-metadata/swhid/swh:1:ori:01ace1e3bb84419755d703932015cf32a04c90af/authorities/'}, {'url': 'https://github.com/tharvik/afni', 'visit_types': ['git'], 'has_visits': True, 'origin_visits_url': 'https://archive.softwareheritage.org/api/1/origin/https://github.com/tharvik/afni/visits/', 'metadata_authorities_url': 'https://archive.softwareheritage.org/api/1/raw-extrinsic-metadata/swhid/swh:1:ori:0272d9073c02e80bae7979e77540c95bef41445f/authorities/'}, {'url': 'https://github.com/crossmanith/afni', 'visit_types': ['git'], 'has_visits': True, 'origin_visits_url': 'https://archive.softwareheritage.org/api/1/origin/https://github.com/crossmanith/afni/visits/', 'metadata_authorities_url': 'https://archive.softwareheritage.org/api/1/raw-extrinsic-metadata/swhid/swh:1:ori:02c8c5e685bb9c493c7f467b73ae5fce377db9c7/authorities/'}, {'url': 'https://github.com/kevincar/afni_python', 'visit_types': ['git'], 'has_visits': True, 'origin_visits_url': 'https://archive.softwareheritage.org/api/1/origin/https://github.com/kevincar/afni_python/visits/', 'metadata_authorities_url': 'https://archive.softwareheritage.org/api/1/raw-extrinsic-metadata/swhid/swh:1:ori:02d690803358fad3b4fb0e1494eac21b05b9027c/authorities/'}, {'url': 'https://github.com/afninazara/afninazara.github.io', 'visit_types': ['git'], 'has_visits': True, 'origin_visits_url': 'https://archive.softwareheritage.org/api/1/origin/https://github.com/afninazara/afninazara.github.io/visits/', 'metadata_authorities_url': 'https://archive.softwareheritage.org/api/1/raw-extrinsic-metadata/swhid/swh:1:ori:035480cc6a8e75cebe87aa652dea0905aae2a5cd/authorities/'}, {'url': 'https://github.com/afnizarnur/sepakbola.json', 'visit_types': ['git'], 'has_visits': True, 'origin_visits_url': 'https://archive.softwareheritage.org/api/1/origin/https://github.com/afnizarnur/sepakbola.json/visits/', 'metadata_authorities_url': 'https://archive.softwareheritage.org/api/1/raw-extrinsic-metadata/swhid/swh:1:ori:035ea76ba0c8bc3727fc3892cf69bec87b182eee/authorities/'}, {'url': 'https://github.com/JBranham/Afni_training', 'visit_types': ['git'], 'has_visits': True, 'origin_visits_url': 'https://archive.softwareheritage.org/api/1/origin/https://github.com/JBranham/Afni_training/visits/', 'metadata_authorities_url': 'https://archive.softwareheritage.org/api/1/raw-extrinsic-metadata/swhid/swh:1:ori:0364dad0b8ab9f56189817fc19f04232c83dfc6e/authorities/'}, {'url': 'https://github.com/nno/afni', 'visit_types': ['git'], 'has_visits': True, 'origin_visits_url': 'https://archive.softwareheritage.org/api/1/origin/https://github.com/nno/afni/visits/', 'metadata_authorities_url': 'https://archive.softwareheritage.org/api/1/raw-extrinsic-metadata/swhid/swh:1:ori:03778a07b69b079e587fda2ee85d71d07f2e3447/authorities/'}, {'url': 'https://github.com/Afnidou/SQLite_Android-Complete_Tutorial', 'visit_types': ['git'], 'has_visits': True, 'origin_visits_url': 'https://archive.softwareheritage.org/api/1/origin/https://github.com/Afnidou/SQLite_Android-Complete_Tutorial/visits/', 'metadata_authorities_url': 'https://archive.softwareheritage.org/api/1/raw-extrinsic-metadata/swhid/swh:1:ori:03a8b9e1d5a1d782b462e4e1802eba3396440266/authorities/'}, {'url': 'https://github.com/afni/afni_boutiques', 'visit_types': ['git'], 'has_visits': True, 'origin_visits_url': 'https://archive.softwareheritage.org/api/1/origin/https://github.com/afni/afni_boutiques/visits/', 'metadata_authorities_url': 'https://archive.softwareheritage.org/api/1/raw-extrinsic-metadata/swhid/swh:1:ori:03b7bda24f4ec9e5797b54e08cb8d850372d4870/authorities/'}, {'url': 'https://github.com/kjamison/afni', 'visit_types': ['git'], 'has_visits': True, 'origin_visits_url': 'https://archive.softwareheritage.org/api/1/origin/https://github.com/kjamison/afni/visits/', 'metadata_authorities_url': 'https://archive.softwareheritage.org/api/1/raw-extrinsic-metadata/swhid/swh:1:ori:040d8581c1ff4e0a5827e49f6120e4d48e6bbebd/authorities/'}, {'url': 'https://gitlab.com/afnilzf/simpa.git', 'visit_types': ['git'], 'has_visits': True, 'origin_visits_url': 'https://archive.softwareheritage.org/api/1/origin/https://gitlab.com/afnilzf/simpa.git/visits/', 'metadata_authorities_url': 'https://archive.softwareheritage.org/api/1/raw-extrinsic-metadata/swhid/swh:1:ori:0437c51002aee57bb3f3f27f475e6d45659d129a/authorities/'}, {'url': 'https://github.com/aloijm/afni_scripts', 'visit_types': ['git'], 'has_visits': True, 'origin_visits_url': 'https://archive.softwareheritage.org/api/1/origin/https://github.com/aloijm/afni_scripts/visits/', 'metadata_authorities_url': 'https://archive.softwareheritage.org/api/1/raw-extrinsic-metadata/swhid/swh:1:ori:04563c0d382b035f19b21b64a85ed88f0e8d8e93/authorities/'}, {'url': 'https://github.com/ccc57/afni', 'visit_types': ['git'], 'has_visits': True, 'origin_visits_url': 'https://archive.softwareheritage.org/api/1/origin/https://github.com/ccc57/afni/visits/', 'metadata_authorities_url': 'https://archive.softwareheritage.org/api/1/raw-extrinsic-metadata/swhid/swh:1:ori:0562adeff1a649304954fe0c6cd9fe87e2666f1f/authorities/'}, {'url': 'https://github.com/afnizanfaizal/trapellium', 'visit_types': ['git'], 'has_visits': True, 'origin_visits_url': 'https://archive.softwareheritage.org/api/1/origin/https://github.com/afnizanfaizal/trapellium/visits/', 'metadata_authorities_url': 'https://archive.softwareheritage.org/api/1/raw-extrinsic-metadata/swhid/swh:1:ori:057491349860c950cd18edac93161304ba9d3980/authorities/'}, {'url': 'https://github.com/afninurvita/backend_hotel', 'visit_types': ['git'], 'has_visits': True, 'origin_visits_url': 'https://archive.softwareheritage.org/api/1/origin/https://github.com/afninurvita/backend_hotel/visits/', 'metadata_authorities_url': 'https://archive.softwareheritage.org/api/1/raw-extrinsic-metadata/swhid/swh:1:ori:05aea3cd100192530949d48b68c6e127dbe8db99/authorities/'}, {'url': 'https://github.com/afnizarnur/framer-firebase', 'visit_types': ['git'], 'has_visits': True, 'origin_visits_url': 'https://archive.softwareheritage.org/api/1/origin/https://github.com/afnizarnur/framer-firebase/visits/', 'metadata_authorities_url': 'https://archive.softwareheritage.org/api/1/raw-extrinsic-metadata/swhid/swh:1:ori:05d650c755564872e068411e2a64cf69a0894eef/authorities/'}, {'url': 'https://github.com/afniwar/recipes', 'visit_types': ['git'], 'has_visits': True, 'origin_visits_url': 'https://archive.softwareheritage.org/api/1/origin/https://github.com/afniwar/recipes/visits/', 'metadata_authorities_url': 'https://archive.softwareheritage.org/api/1/raw-extrinsic-metadata/swhid/swh:1:ori:062168634038acf890051d2f40b4c01ca648888f/authorities/'}, {'url': 'https://github.com/afniteratec/devopscon-1', 'visit_types': ['git'], 'has_visits': True, 'origin_visits_url': 'https://archive.softwareheritage.org/api/1/origin/https://github.com/afniteratec/devopscon-1/visits/', 'metadata_authorities_url': 'https://archive.softwareheritage.org/api/1/raw-extrinsic-metadata/swhid/swh:1:ori:06226cefad2ff3b2e100066e0407d049944c0d15/authorities/'}, {'url': 'https://github.com/afnikitina/css-challenge', 'visit_types': ['git'], 'has_visits': True, 'origin_visits_url': 'https://archive.softwareheritage.org/api/1/origin/https://github.com/afnikitina/css-challenge/visits/', 'metadata_authorities_url': 'https://archive.softwareheritage.org/api/1/raw-extrinsic-metadata/swhid/swh:1:ori:062f22a0b2e39dbda25ab41aa2c4e853f47f716e/authorities/'}, {'url': 'https://github.com/yarikoptic/afni', 'visit_types': ['git'], 'has_visits': True, 'origin_visits_url': 'https://archive.softwareheritage.org/api/1/origin/https://github.com/yarikoptic/afni/visits/', 'metadata_authorities_url': 'https://archive.softwareheritage.org/api/1/raw-extrinsic-metadata/swhid/swh:1:ori:067969601e76a5cc8c45f159478f77d5448f5050/authorities/'}, {'url': 'https://github.com/Afnidou/Geoinf', 'visit_types': ['git'], 'has_visits': True, 'origin_visits_url': 'https://archive.softwareheritage.org/api/1/origin/https://github.com/Afnidou/Geoinf/visits/', 'metadata_authorities_url': 'https://archive.softwareheritage.org/api/1/raw-extrinsic-metadata/swhid/swh:1:ori:06a63f22db19e79fbcf2d2c5dc91a61088f1e2fc/authorities/'}, {'url': 'https://github.com/afnid/CoreEFI', 'visit_types': ['git'], 'has_visits': True, 'origin_visits_url': 'https://archive.softwareheritage.org/api/1/origin/https://github.com/afnid/CoreEFI/visits/', 'metadata_authorities_url': 'https://archive.softwareheritage.org/api/1/raw-extrinsic-metadata/swhid/swh:1:ori:06d21d2e956010af9935c2fe6e5da8fb4b17d1d2/authorities/'}, {'url': 'https://www.npmjs.com/package/@afnidelia/afnidelia02-e', 'visit_types': ['npm'], 'has_visits': True, 'origin_visits_url': 'https://archive.softwareheritage.org/api/1/origin/https://www.npmjs.com/package/@afnidelia/afnidelia02-e/visits/', 'metadata_authorities_url': 'https://archive.softwareheritage.org/api/1/raw-extrinsic-metadata/swhid/swh:1:ori:0718631cb293bfb22d94537e7f5de8168318c30d/authorities/'}, {'url': 'https://github.com/nih-fmrif/afni_proc_BIDS_app', 'visit_types': ['git'], 'has_visits': True, 'origin_visits_url': 'https://archive.softwareheritage.org/api/1/origin/https://github.com/nih-fmrif/afni_proc_BIDS_app/visits/', 'metadata_authorities_url': 'https://archive.softwareheritage.org/api/1/raw-extrinsic-metadata/swhid/swh:1:ori:076150d7293bafbb511525de4b23a24afc98aaae/authorities/'}, {'url': 'https://github.com/afnitaa/afnitaa', 'visit_types': ['git'], 'has_visits': True, 'origin_visits_url': 'https://archive.softwareheritage.org/api/1/origin/https://github.com/afnitaa/afnitaa/visits/', 'metadata_authorities_url': 'https://archive.softwareheritage.org/api/1/raw-extrinsic-metadata/swhid/swh:1:ori:07662057a041b3e3902c418f5d9104223f9c7350/authorities/'}, {'url': 'https://github.com/Carrot80/AFNIScripts', 'visit_types': ['git'], 'has_visits': True, 'origin_visits_url': 'https://archive.softwareheritage.org/api/1/origin/https://github.com/Carrot80/AFNIScripts/visits/', 'metadata_authorities_url': 'https://archive.softwareheritage.org/api/1/raw-extrinsic-metadata/swhid/swh:1:ori:08080a3f82f4fd51e50a0ff50a79da615c499679/authorities/'}, {'url': 'https://github.com/Afnisse/gsb-medecins-android', 'visit_types': ['git'], 'has_visits': True, 'origin_visits_url': 'https://archive.softwareheritage.org/api/1/origin/https://github.com/Afnisse/gsb-medecins-android/visits/', 'metadata_authorities_url': 'https://archive.softwareheritage.org/api/1/raw-extrinsic-metadata/swhid/swh:1:ori:0882108f0cf07281d8458cc454082844a13050a0/authorities/'}, {'url': 'https://github.com/samtorrisi/afni', 'visit_types': ['git'], 'has_visits': False, 'origin_visits_url': 'https://archive.softwareheritage.org/api/1/origin/https://github.com/samtorrisi/afni/visits/', 'metadata_authorities_url': 'https://archive.softwareheritage.org/api/1/raw-extrinsic-metadata/swhid/swh:1:ori:090a38b08e48e73d1ca40029f78bb7d0410e600d/authorities/'}, {'url': 'https://github.com/afnizarnur/java-inner-class-threading', 'visit_types': ['git'], 'has_visits': False, 'origin_visits_url': 'https://archive.softwareheritage.org/api/1/origin/https://github.com/afnizarnur/java-inner-class-threading/visits/', 'metadata_authorities_url': 'https://archive.softwareheritage.org/api/1/raw-extrinsic-metadata/swhid/swh:1:ori:09139f32e411fdaf0c9ffd553c918d70ba360e27/authorities/'}, {'url': 'https://github.com/afnikitina/functions', 'visit_types': ['git'], 'has_visits': True, 'origin_visits_url': 'https://archive.softwareheritage.org/api/1/origin/https://github.com/afnikitina/functions/visits/', 'metadata_authorities_url': 'https://archive.softwareheritage.org/api/1/raw-extrinsic-metadata/swhid/swh:1:ori:091f350e252723c9c44c7b90810942e54410306e/authorities/'}, {'url': 'https://github.com/afnitafitri/tugas_akhir_html', 'visit_types': ['git'], 'has_visits': True, 'origin_visits_url': 'https://archive.softwareheritage.org/api/1/origin/https://github.com/afnitafitri/tugas_akhir_html/visits/', 'metadata_authorities_url': 'https://archive.softwareheritage.org/api/1/raw-extrinsic-metadata/swhid/swh:1:ori:0959965b8d6bd1d2ad86959436593f81ee68c850/authorities/'}, {'url': 'https://github.com/aur-mirror/afni', 'visit_types': ['git'], 'has_visits': False, 'origin_visits_url': 'https://archive.softwareheritage.org/api/1/origin/https://github.com/aur-mirror/afni/visits/', 'metadata_authorities_url': 'https://archive.softwareheritage.org/api/1/raw-extrinsic-metadata/swhid/swh:1:ori:09686db8735f71477154f80062be31f28e5dadb0/authorities/'}, {'url': 'https://github.com/ahedgesmuncy/afni_python', 'visit_types': ['git'], 'has_visits': True, 'origin_visits_url': 'https://archive.softwareheritage.org/api/1/origin/https://github.com/ahedgesmuncy/afni_python/visits/', 'metadata_authorities_url': 'https://archive.softwareheritage.org/api/1/raw-extrinsic-metadata/swhid/swh:1:ori:0978b75b958a83e2ae50a4314b9741080138a08a/authorities/'}, {'url': 'https://github.com/fcc-ea-mirror/2AFNI', 'visit_types': ['git'], 'has_visits': True, 'origin_visits_url': 'https://archive.softwareheritage.org/api/1/origin/https://github.com/fcc-ea-mirror/2AFNI/visits/', 'metadata_authorities_url': 'https://archive.softwareheritage.org/api/1/raw-extrinsic-metadata/swhid/swh:1:ori:0a02f8ab28ce00ea8c94873129f9c5eb6763f581/authorities/'}, {'url': 'https://github.com/imnotamember/afni_matlab_to_python', 'visit_types': ['git'], 'has_visits': True, 'origin_visits_url': 'https://archive.softwareheritage.org/api/1/origin/https://github.com/imnotamember/afni_matlab_to_python/visits/', 'metadata_authorities_url': 'https://archive.softwareheritage.org/api/1/raw-extrinsic-metadata/swhid/swh:1:ori:0a769020e041f3e04a3ad2e40f67afa5c8e925a9/authorities/'}, {'url': 'https://github.com/incf-nidash/nidm-results_afni', 'visit_types': ['git'], 'has_visits': True, 'origin_visits_url': 'https://archive.softwareheritage.org/api/1/origin/https://github.com/incf-nidash/nidm-results_afni/visits/', 'metadata_authorities_url': 'https://archive.softwareheritage.org/api/1/raw-extrinsic-metadata/swhid/swh:1:ori:0a7b63ecb760ee2bb9a420117f21921510f90f27/authorities/'}, {'url': 'https://gitlab.com/AfniSriMinarti/bizzyQualityTeam.git', 'visit_types': ['git'], 'has_visits': True, 'origin_visits_url': 'https://archive.softwareheritage.org/api/1/origin/https://gitlab.com/AfniSriMinarti/bizzyQualityTeam.git/visits/', 'metadata_authorities_url': 'https://archive.softwareheritage.org/api/1/raw-extrinsic-metadata/swhid/swh:1:ori:0aad1447f9b263e8ab29150531eb2a5d78cc00f3/authorities/'}, {'url': 'https://github.com/afnida-ashraf/new', 'visit_types': ['git'], 'has_visits': True, 'origin_visits_url': 'https://archive.softwareheritage.org/api/1/origin/https://github.com/afnida-ashraf/new/visits/', 'metadata_authorities_url': 'https://archive.softwareheritage.org/api/1/raw-extrinsic-metadata/swhid/swh:1:ori:0b87eb73375d00650222d2cd28a7302d8394a4f2/authorities/'}, {'url': 'https://github.com/afniko/springLibraryBook', 'visit_types': ['git'], 'has_visits': True, 'origin_visits_url': 'https://archive.softwareheritage.org/api/1/origin/https://github.com/afniko/springLibraryBook/visits/', 'metadata_authorities_url': 'https://archive.softwareheritage.org/api/1/raw-extrinsic-metadata/swhid/swh:1:ori:0ba6e81f6fdc9a6127a8fab29b45b8a604028d04/authorities/'}, {'url': 'https://bitbucket.org/afniedermayer/quantresearch-public/wiki', 'visit_types': ['hg'], 'has_visits': True, 'origin_visits_url': 'https://archive.softwareheritage.org/api/1/origin/https://bitbucket.org/afniedermayer/quantresearch-public/wiki/visits/', 'metadata_authorities_url': 'https://archive.softwareheritage.org/api/1/raw-extrinsic-metadata/swhid/swh:1:ori:0c1ecec3e001600c5e8f95549d54e0742c62dc7e/authorities/'}, {'url': 'https://github.com/Shotgunosine/afni_proc', 'visit_types': ['git'], 'has_visits': True, 'origin_visits_url': 'https://archive.softwareheritage.org/api/1/origin/https://github.com/Shotgunosine/afni_proc/visits/', 'metadata_authorities_url': 'https://archive.softwareheritage.org/api/1/raw-extrinsic-metadata/swhid/swh:1:ori:0c5b85a22247c92ce830f4d368fa6e0cbf0ad50c/authorities/'}, {'url': 'https://bitbucket.org/afniedermayer/fast_critical_line_algorithm', 'visit_types': ['hg'], 'has_visits': True, 'origin_visits_url': 'https://archive.softwareheritage.org/api/1/origin/https://bitbucket.org/afniedermayer/fast_critical_line_algorithm/visits/', 'metadata_authorities_url': 'https://archive.softwareheritage.org/api/1/raw-extrinsic-metadata/swhid/swh:1:ori:0c9516054c2d79158b961c9e10b6e9b17adf2636/authorities/'}, {'url': 'https://github.com/azraq27/AFNI.jl', 'visit_types': ['git'], 'has_visits': True, 'origin_visits_url': 'https://archive.softwareheritage.org/api/1/origin/https://github.com/azraq27/AFNI.jl/visits/', 'metadata_authorities_url': 'https://archive.softwareheritage.org/api/1/raw-extrinsic-metadata/swhid/swh:1:ori:0d4918e65118fd8b2e2ed5ec8453c73ccc2c5c41/authorities/'}, {'url': 'https://github.com/ZhifangYe/afni_docker', 'visit_types': ['git'], 'has_visits': False, 'origin_visits_url': 'https://archive.softwareheritage.org/api/1/origin/https://github.com/ZhifangYe/afni_docker/visits/', 'metadata_authorities_url': 'https://archive.softwareheritage.org/api/1/raw-extrinsic-metadata/swhid/swh:1:ori:0d68a120d2dc1e202d0f29bc823cd1b184b1f352/authorities/'}, {'url': 'https://github.com/afnilnahidah/practice123-1', 'visit_types': ['git'], 'has_visits': True, 'origin_visits_url': 'https://archive.softwareheritage.org/api/1/origin/https://github.com/afnilnahidah/practice123-1/visits/', 'metadata_authorities_url': 'https://archive.softwareheritage.org/api/1/raw-extrinsic-metadata/swhid/swh:1:ori:0d8ade193d1c72566e221d168d5f847ac290921c/authorities/'}, {'url': 'https://github.com/chyleonardo/processing-using-afni', 'visit_types': ['git'], 'has_visits': True, 'origin_visits_url': 'https://archive.softwareheritage.org/api/1/origin/https://github.com/chyleonardo/processing-using-afni/visits/', 'metadata_authorities_url': 'https://archive.softwareheritage.org/api/1/raw-extrinsic-metadata/swhid/swh:1:ori:0e53412e0965671f2f4650a7d2cb78d27ac9b721/authorities/'}, {'url': 'https://github.com/zsaad/afni_matlab', 'visit_types': ['git'], 'has_visits': True, 'origin_visits_url': 'https://archive.softwareheritage.org/api/1/origin/https://github.com/zsaad/afni_matlab/visits/', 'metadata_authorities_url': 'https://archive.softwareheritage.org/api/1/raw-extrinsic-metadata/swhid/swh:1:ori:0efca05894df62f053ac4d4516a716d3cef5aa98/authorities/'}, {'url': 'https://github.com/afnilnahidah/practice123', 'visit_types': ['git'], 'has_visits': True, 'origin_visits_url': 'https://archive.softwareheritage.org/api/1/origin/https://github.com/afnilnahidah/practice123/visits/', 'metadata_authorities_url': 'https://archive.softwareheritage.org/api/1/raw-extrinsic-metadata/swhid/swh:1:ori:0f21614c3a289d4f3643727d37b98795888a2708/authorities/'}, {'url': 'https://github.com/afnizanfaizal/TensorFlow-Examples', 'visit_types': ['git'], 'has_visits': True, 'origin_visits_url': 'https://archive.softwareheritage.org/api/1/origin/https://github.com/afnizanfaizal/TensorFlow-Examples/visits/', 'metadata_authorities_url': 'https://archive.softwareheritage.org/api/1/raw-extrinsic-metadata/swhid/swh:1:ori:0f5e4b92372dfc64ba5a42bd7fecee3fd36d4ad7/authorities/'}, {'url': 'https://github.com/neurodebian/afni-sources-scripts', 'visit_types': ['git'], 'has_visits': True, 'origin_visits_url': 'https://archive.softwareheritage.org/api/1/origin/https://github.com/neurodebian/afni-sources-scripts/visits/', 'metadata_authorities_url': 'https://archive.softwareheritage.org/api/1/raw-extrinsic-metadata/swhid/swh:1:ori:0f788015114b21a4108f9c3632ddead114b0d343/authorities/'}, {'url': 'https://github.com/Onasis007/Capt-Rio-DPO-AFNI', 'visit_types': ['git'], 'has_visits': True, 'origin_visits_url': 'https://archive.softwareheritage.org/api/1/origin/https://github.com/Onasis007/Capt-Rio-DPO-AFNI/visits/', 'metadata_authorities_url': 'https://archive.softwareheritage.org/api/1/raw-extrinsic-metadata/swhid/swh:1:ori:0fa3bb663faa272d78d810870c3ed5e4155bc338/authorities/'}, {'url': 'https://github.com/afnikitina/my-cloudinary', 'visit_types': ['git'], 'has_visits': True, 'origin_visits_url': 'https://archive.softwareheritage.org/api/1/origin/https://github.com/afnikitina/my-cloudinary/visits/', 'metadata_authorities_url': 'https://archive.softwareheritage.org/api/1/raw-extrinsic-metadata/swhid/swh:1:ori:0fcfa6a2dcc348cb91b30bb1fc1fc73eb8902e8b/authorities/'}, {'url': 'https://github.com/afniahmed/afniahmed', 'visit_types': ['git'], 'has_visits': True, 'origin_visits_url': 'https://archive.softwareheritage.org/api/1/origin/https://github.com/afniahmed/afniahmed/visits/', 'metadata_authorities_url': 'https://archive.softwareheritage.org/api/1/raw-extrinsic-metadata/swhid/swh:1:ori:1037eb4001e98bc48a69f0ca9078a50dfb69d6b1/authorities/'}, {'url': 'https://github.com/afnida-ashraf/afnida', 'visit_types': ['git'], 'has_visits': True, 'origin_visits_url': 'https://archive.softwareheritage.org/api/1/origin/https://github.com/afnida-ashraf/afnida/visits/', 'metadata_authorities_url': 'https://archive.softwareheritage.org/api/1/raw-extrinsic-metadata/swhid/swh:1:ori:10680b77f66e0748d53eb1264b75ee765070e08b/authorities/'}, {'url': 'https://github.com/afnizanfaizal/arduino-robot-car-01', 'visit_types': ['git'], 'has_visits': True, 'origin_visits_url': 'https://archive.softwareheritage.org/api/1/origin/https://github.com/afnizanfaizal/arduino-robot-car-01/visits/', 'metadata_authorities_url': 'https://archive.softwareheritage.org/api/1/raw-extrinsic-metadata/swhid/swh:1:ori:109e7141c34927ebcfa7e80968a9f4a114851d34/authorities/'}, {'url': 'https://github.com/afnitafitri/tugas_20_html', 'visit_types': ['git'], 'has_visits': True, 'origin_visits_url': 'https://archive.softwareheritage.org/api/1/origin/https://github.com/afnitafitri/tugas_20_html/visits/', 'metadata_authorities_url': 'https://archive.softwareheritage.org/api/1/raw-extrinsic-metadata/swhid/swh:1:ori:10b02daed037e61be7becef5e33ab1d2f0922315/authorities/'}, {'url': 'https://github.com/afnindar/merf', 'visit_types': ['git'], 'has_visits': True, 'origin_visits_url': 'https://archive.softwareheritage.org/api/1/origin/https://github.com/afnindar/merf/visits/', 'metadata_authorities_url': 'https://archive.softwareheritage.org/api/1/raw-extrinsic-metadata/swhid/swh:1:ori:10d989924afe348f788a611c1fe07a25a7213044/authorities/'}, {'url': 'https://www.npmjs.com/package/@afnidelia/afnidelia02-c', 'visit_types': ['npm'], 'has_visits': True, 'origin_visits_url': 'https://archive.softwareheritage.org/api/1/origin/https://www.npmjs.com/package/@afnidelia/afnidelia02-c/visits/', 'metadata_authorities_url': 'https://archive.softwareheritage.org/api/1/raw-extrinsic-metadata/swhid/swh:1:ori:1140765b7380348ce0a3ea780db07c1c268ba5e6/authorities/'}, {'url': 'https://github.com/afniedermayer/frame_split', 'visit_types': ['git'], 'has_visits': True, 'origin_visits_url': 'https://archive.softwareheritage.org/api/1/origin/https://github.com/afniedermayer/frame_split/visits/', 'metadata_authorities_url': 'https://archive.softwareheritage.org/api/1/raw-extrinsic-metadata/swhid/swh:1:ori:119032232b8f3f15cf127445c3b9b5a594b5f944/authorities/'}, {'url': 'https://github.com/snastase/AFNI', 'visit_types': ['git'], 'has_visits': True, 'origin_visits_url': 'https://archive.softwareheritage.org/api/1/origin/https://github.com/snastase/AFNI/visits/', 'metadata_authorities_url': 'https://archive.softwareheritage.org/api/1/raw-extrinsic-metadata/swhid/swh:1:ori:11946459b32f30f84e930e5c4158d09421e4b13f/authorities/'}, {'url': 'https://gitlab.com/kalasekarang/afni.git', 'visit_types': ['git'], 'has_visits': True, 'origin_visits_url': 'https://archive.softwareheritage.org/api/1/origin/https://gitlab.com/kalasekarang/afni.git/visits/', 'metadata_authorities_url': 'https://archive.softwareheritage.org/api/1/raw-extrinsic-metadata/swhid/swh:1:ori:11b07929d2f4f857b839fe3f3c424c6edfea5a35/authorities/'}]\n"
     ]
    }
   ],
   "source": [
    "print(origins)"
   ]
  },
  {
   "cell_type": "code",
   "execution_count": 12,
   "id": "6a1d2a7f-2714-4c3a-bdf7-072e11b7e16c",
   "metadata": {},
   "outputs": [
    {
     "name": "stdout",
     "output_type": "stream",
     "text": [
      "{\n",
      "    \"metadata_authorities_url\": \"https://archive.softwareheritage.org/api/1/raw-extrinsic-metadata/swhid/swh:1:ori:ddea9fa846486e2f1f1c8b6aabf2e897ee2a4e47/authorities/\",\n",
      "    \"origin_visits_url\": \"https://archive.softwareheritage.org/api/1/origin/https://github.com/spm/spm/visits/\",\n",
      "    \"url\": \"https://github.com/spm/spm\",\n",
      "    \"visit_types\": [\n",
      "        \"git\"\n",
      "    ]\n",
      "}\n"
     ]
    }
   ],
   "source": [
    "resp = requests.get(\"https://archive.softwareheritage.org/api/1/origin/https://github.com/spm/spm/get/\")\n",
    "found = resp.json()\n",
    "jprint(found)"
   ]
  },
  {
   "cell_type": "code",
   "execution_count": 19,
   "id": "057b5519-3d2c-4cc4-bf00-45226ddbaeaa",
   "metadata": {},
   "outputs": [
    {
     "name": "stdout",
     "output_type": "stream",
     "text": [
      "[{'origin': 'https://github.com/spm/spm', 'visit': 17, 'date': '2024-03-31T21:07:36.833383+00:00', 'status': 'full', 'snapshot': '07bfd6858334f34bbb6490c37b10c40635c33331', 'type': 'git', 'metadata': {}, 'origin_visit_url': 'https://archive.softwareheritage.org/api/1/origin/https://github.com/spm/spm/visit/17/', 'snapshot_url': 'https://archive.softwareheritage.org/api/1/snapshot/07bfd6858334f34bbb6490c37b10c40635c33331/'}, {'origin': 'https://github.com/spm/spm', 'visit': 16, 'date': '2024-03-09T17:33:34.335945+00:00', 'status': 'full', 'snapshot': '4a956e6c57b08b0a107353e4b187631947322c40', 'type': 'git', 'metadata': {}, 'origin_visit_url': 'https://archive.softwareheritage.org/api/1/origin/https://github.com/spm/spm/visit/16/', 'snapshot_url': 'https://archive.softwareheritage.org/api/1/snapshot/4a956e6c57b08b0a107353e4b187631947322c40/'}, {'origin': 'https://github.com/spm/spm', 'visit': 15, 'date': '2024-02-13T22:40:05.056450+00:00', 'status': 'full', 'snapshot': '2f2ca088eae07a256cb8c1b673d5bfc81e60f2d8', 'type': 'git', 'metadata': {}, 'origin_visit_url': 'https://archive.softwareheritage.org/api/1/origin/https://github.com/spm/spm/visit/15/', 'snapshot_url': 'https://archive.softwareheritage.org/api/1/snapshot/2f2ca088eae07a256cb8c1b673d5bfc81e60f2d8/'}, {'origin': 'https://github.com/spm/spm', 'visit': 14, 'date': '2024-01-29T22:26:05.775684+00:00', 'status': 'full', 'snapshot': '66e19a2d627a96c09af6fc7f8396ae2d081912e9', 'type': 'git', 'metadata': {}, 'origin_visit_url': 'https://archive.softwareheritage.org/api/1/origin/https://github.com/spm/spm/visit/14/', 'snapshot_url': 'https://archive.softwareheritage.org/api/1/snapshot/66e19a2d627a96c09af6fc7f8396ae2d081912e9/'}, {'origin': 'https://github.com/spm/spm', 'visit': 13, 'date': '2024-01-18T08:39:12.766398+00:00', 'status': 'full', 'snapshot': 'c98a5b3464b971c1aee29c8d93228fe33784525d', 'type': 'git', 'metadata': {}, 'origin_visit_url': 'https://archive.softwareheritage.org/api/1/origin/https://github.com/spm/spm/visit/13/', 'snapshot_url': 'https://archive.softwareheritage.org/api/1/snapshot/c98a5b3464b971c1aee29c8d93228fe33784525d/'}, {'origin': 'https://github.com/spm/spm', 'visit': 12, 'date': '2023-12-20T09:41:09.679371+00:00', 'status': 'full', 'snapshot': 'c405b0d9c80f6f9d6ab00bf16cda1f330de158cf', 'type': 'git', 'metadata': {}, 'origin_visit_url': 'https://archive.softwareheritage.org/api/1/origin/https://github.com/spm/spm/visit/12/', 'snapshot_url': 'https://archive.softwareheritage.org/api/1/snapshot/c405b0d9c80f6f9d6ab00bf16cda1f330de158cf/'}, {'origin': 'https://github.com/spm/spm', 'visit': 11, 'date': '2023-11-24T19:14:39.953189+00:00', 'status': 'full', 'snapshot': '3c5180237285a9f21fa8cbb0b9d0307feb4c4c60', 'type': 'git', 'metadata': {}, 'origin_visit_url': 'https://archive.softwareheritage.org/api/1/origin/https://github.com/spm/spm/visit/11/', 'snapshot_url': 'https://archive.softwareheritage.org/api/1/snapshot/3c5180237285a9f21fa8cbb0b9d0307feb4c4c60/'}, {'origin': 'https://github.com/spm/spm', 'visit': 10, 'date': '2023-11-08T18:58:05.902932+00:00', 'status': 'full', 'snapshot': 'a77371f409717c97a901aa4fbb466ae46ca910cc', 'type': 'git', 'metadata': {}, 'origin_visit_url': 'https://archive.softwareheritage.org/api/1/origin/https://github.com/spm/spm/visit/10/', 'snapshot_url': 'https://archive.softwareheritage.org/api/1/snapshot/a77371f409717c97a901aa4fbb466ae46ca910cc/'}, {'origin': 'https://github.com/spm/spm', 'visit': 9, 'date': '2023-10-04T20:30:42.524308+00:00', 'status': 'full', 'snapshot': 'c7ddbd37bec7f7c41e3f18fe13ca8202ec83d711', 'type': 'git', 'metadata': {}, 'origin_visit_url': 'https://archive.softwareheritage.org/api/1/origin/https://github.com/spm/spm/visit/9/', 'snapshot_url': 'https://archive.softwareheritage.org/api/1/snapshot/c7ddbd37bec7f7c41e3f18fe13ca8202ec83d711/'}, {'origin': 'https://github.com/spm/spm', 'visit': 8, 'date': '2023-09-15T23:22:37.913958+00:00', 'status': 'full', 'snapshot': '2c805d9d2caa4b5eb5719bad4de3b08801b84a4f', 'type': 'git', 'metadata': {}, 'origin_visit_url': 'https://archive.softwareheritage.org/api/1/origin/https://github.com/spm/spm/visit/8/', 'snapshot_url': 'https://archive.softwareheritage.org/api/1/snapshot/2c805d9d2caa4b5eb5719bad4de3b08801b84a4f/'}]\n",
      "Number of visits found: 10.\n",
      "With dates:\n",
      "- 17 2024-03-31T21:07:36.833383+00:00\n",
      "- 16 2024-03-09T17:33:34.335945+00:00\n",
      "- 15 2024-02-13T22:40:05.056450+00:00\n",
      "- 14 2024-01-29T22:26:05.775684+00:00\n",
      "- 13 2024-01-18T08:39:12.766398+00:00\n",
      "- 12 2023-12-20T09:41:09.679371+00:00\n",
      "- 11 2023-11-24T19:14:39.953189+00:00\n",
      "- 10 2023-11-08T18:58:05.902932+00:00\n",
      "- 9 2023-10-04T20:30:42.524308+00:00\n",
      "- 8 2023-09-15T23:22:37.913958+00:00\n",
      "\n",
      "Example of a single visit entry:\n",
      "{\n",
      "    \"date\": \"2024-03-31T21:07:36.833383+00:00\",\n",
      "    \"metadata\": {},\n",
      "    \"origin\": \"https://github.com/spm/spm\",\n",
      "    \"origin_visit_url\": \"https://archive.softwareheritage.org/api/1/origin/https://github.com/spm/spm/visit/17/\",\n",
      "    \"snapshot\": \"07bfd6858334f34bbb6490c37b10c40635c33331\",\n",
      "    \"snapshot_url\": \"https://archive.softwareheritage.org/api/1/snapshot/07bfd6858334f34bbb6490c37b10c40635c33331/\",\n",
      "    \"status\": \"full\",\n",
      "    \"type\": \"git\",\n",
      "    \"visit\": 17\n",
      "}\n"
     ]
    }
   ],
   "source": [
    "resp = requests.get(\"https://archive.softwareheritage.org/api/1/origin/https://github.com/spm/spm/visits/\")\n",
    "found = resp.json()\n",
    "length = len(found)\n",
    "print(f\"Number of visits found: {format(length)}.\")\n",
    "print(\"With dates:\")\n",
    "for visit in found:\n",
    "    print(f\"- {visit['visit']} {visit['date']}\")\n",
    "print(\"\\nExample of a single visit entry:\")\n",
    "jprint(found[0])"
   ]
  },
  {
   "cell_type": "code",
   "execution_count": 17,
   "id": "9cf7a773-996f-40bf-81db-6c9a3f4c7970",
   "metadata": {},
   "outputs": [
    {
     "name": "stdout",
     "output_type": "stream",
     "text": [
      "[\n",
      "    {\n",
      "        \"date\": \"2024-04-06T15:03:11.569925+00:00\",\n",
      "        \"metadata\": {},\n",
      "        \"origin\": \"https://github.com/Inria-Empenn/narps_open_pipelines\",\n",
      "        \"origin_visit_url\": \"https://archive.softwareheritage.org/api/1/origin/https://github.com/Inria-Empenn/narps_open_pipelines/visit/10/\",\n",
      "        \"snapshot\": \"e8f3f0673f7e11979df7de70beef433c02b5f452\",\n",
      "        \"snapshot_url\": \"https://archive.softwareheritage.org/api/1/snapshot/e8f3f0673f7e11979df7de70beef433c02b5f452/\",\n",
      "        \"status\": \"full\",\n",
      "        \"type\": \"git\",\n",
      "        \"visit\": 10\n",
      "    },\n",
      "    {\n",
      "        \"date\": \"2024-04-02T07:37:06.175356+00:00\",\n",
      "        \"metadata\": {},\n",
      "        \"origin\": \"https://github.com/Inria-Empenn/narps_open_pipelines\",\n",
      "        \"origin_visit_url\": \"https://archive.softwareheritage.org/api/1/origin/https://github.com/Inria-Empenn/narps_open_pipelines/visit/9/\",\n",
      "        \"snapshot\": \"a8ec488c16a34fc477ed089d74438d0f708b6f3a\",\n",
      "        \"snapshot_url\": \"https://archive.softwareheritage.org/api/1/snapshot/a8ec488c16a34fc477ed089d74438d0f708b6f3a/\",\n",
      "        \"status\": \"full\",\n",
      "        \"type\": \"git\",\n",
      "        \"visit\": 9\n",
      "    },\n",
      "    {\n",
      "        \"date\": \"2024-03-17T04:06:07.728598+00:00\",\n",
      "        \"metadata\": {},\n",
      "        \"origin\": \"https://github.com/Inria-Empenn/narps_open_pipelines\",\n",
      "        \"origin_visit_url\": \"https://archive.softwareheritage.org/api/1/origin/https://github.com/Inria-Empenn/narps_open_pipelines/visit/8/\",\n",
      "        \"snapshot\": \"814d927d611cfc891f10e588c974918acca73767\",\n",
      "        \"snapshot_url\": \"https://archive.softwareheritage.org/api/1/snapshot/814d927d611cfc891f10e588c974918acca73767/\",\n",
      "        \"status\": \"full\",\n",
      "        \"type\": \"git\",\n",
      "        \"visit\": 8\n",
      "    },\n",
      "    {\n",
      "        \"date\": \"2024-02-09T08:14:02.516304+00:00\",\n",
      "        \"metadata\": {},\n",
      "        \"origin\": \"https://github.com/Inria-Empenn/narps_open_pipelines\",\n",
      "        \"origin_visit_url\": \"https://archive.softwareheritage.org/api/1/origin/https://github.com/Inria-Empenn/narps_open_pipelines/visit/7/\",\n",
      "        \"snapshot\": \"3d336c444c1ef5e982c32e7555d376ee0d9720a9\",\n",
      "        \"snapshot_url\": \"https://archive.softwareheritage.org/api/1/snapshot/3d336c444c1ef5e982c32e7555d376ee0d9720a9/\",\n",
      "        \"status\": \"full\",\n",
      "        \"type\": \"git\",\n",
      "        \"visit\": 7\n",
      "    },\n",
      "    {\n",
      "        \"date\": \"2024-01-29T06:27:54.753721+00:00\",\n",
      "        \"metadata\": {},\n",
      "        \"origin\": \"https://github.com/Inria-Empenn/narps_open_pipelines\",\n",
      "        \"origin_visit_url\": \"https://archive.softwareheritage.org/api/1/origin/https://github.com/Inria-Empenn/narps_open_pipelines/visit/6/\",\n",
      "        \"snapshot\": \"cc53ed4b468f2138a37225602b09a280d702ddc6\",\n",
      "        \"snapshot_url\": \"https://archive.softwareheritage.org/api/1/snapshot/cc53ed4b468f2138a37225602b09a280d702ddc6/\",\n",
      "        \"status\": \"full\",\n",
      "        \"type\": \"git\",\n",
      "        \"visit\": 6\n",
      "    },\n",
      "    {\n",
      "        \"date\": \"2024-01-22T03:33:53.904404+00:00\",\n",
      "        \"metadata\": {},\n",
      "        \"origin\": \"https://github.com/Inria-Empenn/narps_open_pipelines\",\n",
      "        \"origin_visit_url\": \"https://archive.softwareheritage.org/api/1/origin/https://github.com/Inria-Empenn/narps_open_pipelines/visit/5/\",\n",
      "        \"snapshot\": \"28debfa8dce6573be58861f29b6adeab3cffe6c9\",\n",
      "        \"snapshot_url\": \"https://archive.softwareheritage.org/api/1/snapshot/28debfa8dce6573be58861f29b6adeab3cffe6c9/\",\n",
      "        \"status\": \"full\",\n",
      "        \"type\": \"git\",\n",
      "        \"visit\": 5\n",
      "    },\n",
      "    {\n",
      "        \"date\": \"2024-01-01T21:05:03.350911+00:00\",\n",
      "        \"metadata\": {},\n",
      "        \"origin\": \"https://github.com/Inria-Empenn/narps_open_pipelines\",\n",
      "        \"origin_visit_url\": \"https://archive.softwareheritage.org/api/1/origin/https://github.com/Inria-Empenn/narps_open_pipelines/visit/4/\",\n",
      "        \"snapshot\": \"bb2707f930f7fb42002b1745c67323565771816f\",\n",
      "        \"snapshot_url\": \"https://archive.softwareheritage.org/api/1/snapshot/bb2707f930f7fb42002b1745c67323565771816f/\",\n",
      "        \"status\": \"full\",\n",
      "        \"type\": \"git\",\n",
      "        \"visit\": 4\n",
      "    },\n",
      "    {\n",
      "        \"date\": \"2023-12-20T02:50:08.427614+00:00\",\n",
      "        \"metadata\": {},\n",
      "        \"origin\": \"https://github.com/Inria-Empenn/narps_open_pipelines\",\n",
      "        \"origin_visit_url\": \"https://archive.softwareheritage.org/api/1/origin/https://github.com/Inria-Empenn/narps_open_pipelines/visit/3/\",\n",
      "        \"snapshot\": \"226fe9be52eaacd5cc1f70510ddcbf9e867f66f6\",\n",
      "        \"snapshot_url\": \"https://archive.softwareheritage.org/api/1/snapshot/226fe9be52eaacd5cc1f70510ddcbf9e867f66f6/\",\n",
      "        \"status\": \"full\",\n",
      "        \"type\": \"git\",\n",
      "        \"visit\": 3\n",
      "    },\n",
      "    {\n",
      "        \"date\": \"2023-12-12T21:11:51.508679+00:00\",\n",
      "        \"metadata\": {},\n",
      "        \"origin\": \"https://github.com/Inria-Empenn/narps_open_pipelines\",\n",
      "        \"origin_visit_url\": \"https://archive.softwareheritage.org/api/1/origin/https://github.com/Inria-Empenn/narps_open_pipelines/visit/2/\",\n",
      "        \"snapshot\": \"4507fb84d8e034ab25e0dc68ece4d1e3f9baa46e\",\n",
      "        \"snapshot_url\": \"https://archive.softwareheritage.org/api/1/snapshot/4507fb84d8e034ab25e0dc68ece4d1e3f9baa46e/\",\n",
      "        \"status\": \"full\",\n",
      "        \"type\": \"git\",\n",
      "        \"visit\": 2\n",
      "    },\n",
      "    {\n",
      "        \"date\": \"2023-12-12T13:56:04.229112+00:00\",\n",
      "        \"metadata\": {},\n",
      "        \"origin\": \"https://github.com/Inria-Empenn/narps_open_pipelines\",\n",
      "        \"origin_visit_url\": \"https://archive.softwareheritage.org/api/1/origin/https://github.com/Inria-Empenn/narps_open_pipelines/visit/1/\",\n",
      "        \"snapshot\": \"9e93b19d21012ca819496bb8076810891a077f58\",\n",
      "        \"snapshot_url\": \"https://archive.softwareheritage.org/api/1/snapshot/9e93b19d21012ca819496bb8076810891a077f58/\",\n",
      "        \"status\": \"full\",\n",
      "        \"type\": \"git\",\n",
      "        \"visit\": 1\n",
      "    }\n",
      "]\n"
     ]
    }
   ],
   "source": [
    "jprint(found)"
   ]
  },
  {
   "cell_type": "code",
   "execution_count": 8,
   "id": "3b05c6fd-2937-45ea-b75c-3d073247bbb6",
   "metadata": {},
   "outputs": [
    {
     "name": "stdout",
     "output_type": "stream",
     "text": [
      "Snapshot is e8f3f0673f7e11979df7de70beef433c02b5f452.\n"
     ]
    }
   ],
   "source": [
    "# Store snapshot id\n",
    "snapshot = found[0]['snapshot']\n",
    "print(f\"Snapshot is {format(snapshot)}.\")"
   ]
  },
  {
   "cell_type": "code",
   "execution_count": 9,
   "id": "14d94636-a1eb-4cb3-aa9d-a9837671e238",
   "metadata": {},
   "outputs": [
    {
     "name": "stdout",
     "output_type": "stream",
     "text": [
      "{\n",
      "    \"branches\": {\n",
      "        \"HEAD\": {\n",
      "            \"target\": \"refs/heads/main\",\n",
      "            \"target_type\": \"alias\",\n",
      "            \"target_url\": \"https://archive.softwareheritage.org/api/1/revision/fb023412e0d61f5d226a53e5a7e90bfce8470cda/\"\n",
      "        },\n",
      "        \"refs/heads/cmaumet-patch-1\": {\n",
      "            \"target\": \"f6acf793be82541e75bcbc28f5c11016325b2b6b\",\n",
      "            \"target_type\": \"revision\",\n",
      "            \"target_url\": \"https://archive.softwareheritage.org/api/1/revision/f6acf793be82541e75bcbc28f5c11016325b2b6b/\"\n",
      "        },\n",
      "        \"refs/heads/install-datalad-m1\": {\n",
      "            \"target\": \"eb6f7be8bd331c94e20089a0c5e3e8664724031e\",\n",
      "            \"target_type\": \"revision\",\n",
      "            \"target_url\": \"https://archive.softwareheritage.org/api/1/revision/eb6f7be8bd331c94e20089a0c5e3e8664724031e/\"\n",
      "        },\n",
      "        \"refs/heads/main\": {\n",
      "            \"target\": \"fb023412e0d61f5d226a53e5a7e90bfce8470cda\",\n",
      "            \"target_type\": \"revision\",\n",
      "            \"target_url\": \"https://archive.softwareheritage.org/api/1/revision/fb023412e0d61f5d226a53e5a7e90bfce8470cda/\"\n",
      "        },\n",
      "        \"refs/pull/10/head\": {\n",
      "            \"target\": \"a1a5dca8036dce44abb639f4050d2e4b11093209\",\n",
      "            \"target_type\": \"revision\",\n",
      "            \"target_url\": \"https://archive.softwareheritage.org/api/1/revision/a1a5dca8036dce44abb639f4050d2e4b11093209/\"\n",
      "        },\n",
      "        \"refs/pull/101/head\": {\n",
      "            \"target\": \"c10083b32e5da3f59390ddddf832ca9f8d987b3a\",\n",
      "            \"target_type\": \"revision\",\n",
      "            \"target_url\": \"https://archive.softwareheritage.org/api/1/revision/c10083b32e5da3f59390ddddf832ca9f8d987b3a/\"\n",
      "        },\n",
      "        \"refs/pull/102/head\": {\n",
      "            \"target\": \"3572489a197a19bda87fca00adb00e4fcf6b98dd\",\n",
      "            \"target_type\": \"revision\",\n",
      "            \"target_url\": \"https://archive.softwareheritage.org/api/1/revision/3572489a197a19bda87fca00adb00e4fcf6b98dd/\"\n",
      "        },\n",
      "        \"refs/pull/103/head\": {\n",
      "            \"target\": \"b9e02d4d9327fa306787774b594da9ceb94f962a\",\n",
      "            \"target_type\": \"revision\",\n",
      "            \"target_url\": \"https://archive.softwareheritage.org/api/1/revision/b9e02d4d9327fa306787774b594da9ceb94f962a/\"\n",
      "        },\n",
      "        \"refs/pull/106/head\": {\n",
      "            \"target\": \"c31742e6d3c5fb8b2bb7d8a8d6b6520e3e007bbd\",\n",
      "            \"target_type\": \"revision\",\n",
      "            \"target_url\": \"https://archive.softwareheritage.org/api/1/revision/c31742e6d3c5fb8b2bb7d8a8d6b6520e3e007bbd/\"\n",
      "        },\n",
      "        \"refs/pull/108/head\": {\n",
      "            \"target\": \"933e87f98c21b0fa0c70b3e21421f0325920b115\",\n",
      "            \"target_type\": \"revision\",\n",
      "            \"target_url\": \"https://archive.softwareheritage.org/api/1/revision/933e87f98c21b0fa0c70b3e21421f0325920b115/\"\n",
      "        },\n",
      "        \"refs/pull/109/head\": {\n",
      "            \"target\": \"e18ea00a378335217dec12b07b637b5dcd6e0e23\",\n",
      "            \"target_type\": \"revision\",\n",
      "            \"target_url\": \"https://archive.softwareheritage.org/api/1/revision/e18ea00a378335217dec12b07b637b5dcd6e0e23/\"\n",
      "        },\n",
      "        \"refs/pull/11/head\": {\n",
      "            \"target\": \"d8a4c979e20422299217e56c6edae01ace6511d0\",\n",
      "            \"target_type\": \"revision\",\n",
      "            \"target_url\": \"https://archive.softwareheritage.org/api/1/revision/d8a4c979e20422299217e56c6edae01ace6511d0/\"\n",
      "        },\n",
      "        \"refs/pull/112/head\": {\n",
      "            \"target\": \"73a38759d7cf65fd98da42339a5f2b1eed4432ed\",\n",
      "            \"target_type\": \"revision\",\n",
      "            \"target_url\": \"https://archive.softwareheritage.org/api/1/revision/73a38759d7cf65fd98da42339a5f2b1eed4432ed/\"\n",
      "        },\n",
      "        \"refs/pull/113/head\": {\n",
      "            \"target\": \"bfae743669b3dfbc9040dc9a7c6daa9e7c86d2ab\",\n",
      "            \"target_type\": \"revision\",\n",
      "            \"target_url\": \"https://archive.softwareheritage.org/api/1/revision/bfae743669b3dfbc9040dc9a7c6daa9e7c86d2ab/\"\n",
      "        },\n",
      "        \"refs/pull/114/head\": {\n",
      "            \"target\": \"340fe4d75ee970ecbf189a011f9b36b948f19661\",\n",
      "            \"target_type\": \"revision\",\n",
      "            \"target_url\": \"https://archive.softwareheritage.org/api/1/revision/340fe4d75ee970ecbf189a011f9b36b948f19661/\"\n",
      "        },\n",
      "        \"refs/pull/116/head\": {\n",
      "            \"target\": \"4ec7dfec38c86a1a4f0d2e58988985ff1d3775e8\",\n",
      "            \"target_type\": \"revision\",\n",
      "            \"target_url\": \"https://archive.softwareheritage.org/api/1/revision/4ec7dfec38c86a1a4f0d2e58988985ff1d3775e8/\"\n",
      "        },\n",
      "        \"refs/pull/117/head\": {\n",
      "            \"target\": \"3733e16615b27fe20f1af2a5e7f40191effd39ce\",\n",
      "            \"target_type\": \"revision\",\n",
      "            \"target_url\": \"https://archive.softwareheritage.org/api/1/revision/3733e16615b27fe20f1af2a5e7f40191effd39ce/\"\n",
      "        },\n",
      "        \"refs/pull/119/head\": {\n",
      "            \"target\": \"8741d5e7ffeb9653daa293a4f887344a5de89c8d\",\n",
      "            \"target_type\": \"revision\",\n",
      "            \"target_url\": \"https://archive.softwareheritage.org/api/1/revision/8741d5e7ffeb9653daa293a4f887344a5de89c8d/\"\n",
      "        },\n",
      "        \"refs/pull/121/head\": {\n",
      "            \"target\": \"3250a6d069d8374c8d5d5f8a8f9ea556136f4e69\",\n",
      "            \"target_type\": \"revision\",\n",
      "            \"target_url\": \"https://archive.softwareheritage.org/api/1/revision/3250a6d069d8374c8d5d5f8a8f9ea556136f4e69/\"\n",
      "        },\n",
      "        \"refs/pull/122/head\": {\n",
      "            \"target\": \"9cd68fdfca6b5079fcb2977f6a1b01f4485b1963\",\n",
      "            \"target_type\": \"revision\",\n",
      "            \"target_url\": \"https://archive.softwareheritage.org/api/1/revision/9cd68fdfca6b5079fcb2977f6a1b01f4485b1963/\"\n",
      "        },\n",
      "        \"refs/pull/123/head\": {\n",
      "            \"target\": \"0ecbf58c5bcebfa2cc897d2fcf9a079279112c76\",\n",
      "            \"target_type\": \"revision\",\n",
      "            \"target_url\": \"https://archive.softwareheritage.org/api/1/revision/0ecbf58c5bcebfa2cc897d2fcf9a079279112c76/\"\n",
      "        },\n",
      "        \"refs/pull/124/head\": {\n",
      "            \"target\": \"f2d197d8c2705a64c43453df936083edabf4e792\",\n",
      "            \"target_type\": \"revision\",\n",
      "            \"target_url\": \"https://archive.softwareheritage.org/api/1/revision/f2d197d8c2705a64c43453df936083edabf4e792/\"\n",
      "        },\n",
      "        \"refs/pull/125/head\": {\n",
      "            \"target\": \"aee7cc1bc85d723c04e0426abf20327b8c15799e\",\n",
      "            \"target_type\": \"revision\",\n",
      "            \"target_url\": \"https://archive.softwareheritage.org/api/1/revision/aee7cc1bc85d723c04e0426abf20327b8c15799e/\"\n",
      "        },\n",
      "        \"refs/pull/128/head\": {\n",
      "            \"target\": \"e32e2370805e7ac0bc1ae9d0f8428e0434a023f8\",\n",
      "            \"target_type\": \"revision\",\n",
      "            \"target_url\": \"https://archive.softwareheritage.org/api/1/revision/e32e2370805e7ac0bc1ae9d0f8428e0434a023f8/\"\n",
      "        },\n",
      "        \"refs/pull/129/head\": {\n",
      "            \"target\": \"08dd3410f17a8b18487fc6f8d26859848e95887f\",\n",
      "            \"target_type\": \"revision\",\n",
      "            \"target_url\": \"https://archive.softwareheritage.org/api/1/revision/08dd3410f17a8b18487fc6f8d26859848e95887f/\"\n",
      "        },\n",
      "        \"refs/pull/13/head\": {\n",
      "            \"target\": \"35d0a93fe8add822726ddcf3153a5cf1c753e7d2\",\n",
      "            \"target_type\": \"revision\",\n",
      "            \"target_url\": \"https://archive.softwareheritage.org/api/1/revision/35d0a93fe8add822726ddcf3153a5cf1c753e7d2/\"\n",
      "        },\n",
      "        \"refs/pull/130/head\": {\n",
      "            \"target\": \"0748a46fddb2f283bf212b93bd16447c8e9b0963\",\n",
      "            \"target_type\": \"revision\",\n",
      "            \"target_url\": \"https://archive.softwareheritage.org/api/1/revision/0748a46fddb2f283bf212b93bd16447c8e9b0963/\"\n",
      "        },\n",
      "        \"refs/pull/134/head\": {\n",
      "            \"target\": \"84a823e73b2ad7322245b655768c4f27fdab56e2\",\n",
      "            \"target_type\": \"revision\",\n",
      "            \"target_url\": \"https://archive.softwareheritage.org/api/1/revision/84a823e73b2ad7322245b655768c4f27fdab56e2/\"\n",
      "        },\n",
      "        \"refs/pull/136/head\": {\n",
      "            \"target\": \"eb6f7be8bd331c94e20089a0c5e3e8664724031e\",\n",
      "            \"target_type\": \"revision\",\n",
      "            \"target_url\": \"https://archive.softwareheritage.org/api/1/revision/eb6f7be8bd331c94e20089a0c5e3e8664724031e/\"\n",
      "        },\n",
      "        \"refs/pull/137/head\": {\n",
      "            \"target\": \"7d5fa82471ccedef23ae3d8e1d6af12ffb944f57\",\n",
      "            \"target_type\": \"revision\",\n",
      "            \"target_url\": \"https://archive.softwareheritage.org/api/1/revision/7d5fa82471ccedef23ae3d8e1d6af12ffb944f57/\"\n",
      "        },\n",
      "        \"refs/pull/138/head\": {\n",
      "            \"target\": \"13c0393687d62613f2020e83f25f47dc4aadb2b3\",\n",
      "            \"target_type\": \"revision\",\n",
      "            \"target_url\": \"https://archive.softwareheritage.org/api/1/revision/13c0393687d62613f2020e83f25f47dc4aadb2b3/\"\n",
      "        },\n",
      "        \"refs/pull/139/head\": {\n",
      "            \"target\": \"a016bdd964c8f3434a583ff22f0c56c07f557913\",\n",
      "            \"target_type\": \"revision\",\n",
      "            \"target_url\": \"https://archive.softwareheritage.org/api/1/revision/a016bdd964c8f3434a583ff22f0c56c07f557913/\"\n",
      "        },\n",
      "        \"refs/pull/14/head\": {\n",
      "            \"target\": \"cef5a2f2645175a5dc7291a3b45c65d9b7ef039d\",\n",
      "            \"target_type\": \"revision\",\n",
      "            \"target_url\": \"https://archive.softwareheritage.org/api/1/revision/cef5a2f2645175a5dc7291a3b45c65d9b7ef039d/\"\n",
      "        },\n",
      "        \"refs/pull/140/head\": {\n",
      "            \"target\": \"a73f3c3346eb589b43ebdaa756367d8fb7e45b72\",\n",
      "            \"target_type\": \"revision\",\n",
      "            \"target_url\": \"https://archive.softwareheritage.org/api/1/revision/a73f3c3346eb589b43ebdaa756367d8fb7e45b72/\"\n",
      "        },\n",
      "        \"refs/pull/141/head\": {\n",
      "            \"target\": \"f51801239624cd76649d6573bbe295f706da36e9\",\n",
      "            \"target_type\": \"revision\",\n",
      "            \"target_url\": \"https://archive.softwareheritage.org/api/1/revision/f51801239624cd76649d6573bbe295f706da36e9/\"\n",
      "        },\n",
      "        \"refs/pull/142/head\": {\n",
      "            \"target\": \"35ef3ce67e0f4b69861cf18477fae70627203eac\",\n",
      "            \"target_type\": \"revision\",\n",
      "            \"target_url\": \"https://archive.softwareheritage.org/api/1/revision/35ef3ce67e0f4b69861cf18477fae70627203eac/\"\n",
      "        },\n",
      "        \"refs/pull/148/head\": {\n",
      "            \"target\": \"416ec56bf685f29527827266d442ed6115e7d278\",\n",
      "            \"target_type\": \"revision\",\n",
      "            \"target_url\": \"https://archive.softwareheritage.org/api/1/revision/416ec56bf685f29527827266d442ed6115e7d278/\"\n",
      "        },\n",
      "        \"refs/pull/149/head\": {\n",
      "            \"target\": \"2cb35a3a5225b7279d524554d3c70e0f6f4b8f66\",\n",
      "            \"target_type\": \"revision\",\n",
      "            \"target_url\": \"https://archive.softwareheritage.org/api/1/revision/2cb35a3a5225b7279d524554d3c70e0f6f4b8f66/\"\n",
      "        },\n",
      "        \"refs/pull/15/head\": {\n",
      "            \"target\": \"578e7f8d142ea0ea1be9614a9d01792abefeb9a7\",\n",
      "            \"target_type\": \"revision\",\n",
      "            \"target_url\": \"https://archive.softwareheritage.org/api/1/revision/578e7f8d142ea0ea1be9614a9d01792abefeb9a7/\"\n",
      "        },\n",
      "        \"refs/pull/150/head\": {\n",
      "            \"target\": \"5effd4c1c2ae5d5304a5ff09c27e4a50dd41e61a\",\n",
      "            \"target_type\": \"revision\",\n",
      "            \"target_url\": \"https://archive.softwareheritage.org/api/1/revision/5effd4c1c2ae5d5304a5ff09c27e4a50dd41e61a/\"\n",
      "        },\n",
      "        \"refs/pull/151/head\": {\n",
      "            \"target\": \"c2610e15fe4ec33ca13f1e223ba5b5120f8a0813\",\n",
      "            \"target_type\": \"revision\",\n",
      "            \"target_url\": \"https://archive.softwareheritage.org/api/1/revision/c2610e15fe4ec33ca13f1e223ba5b5120f8a0813/\"\n",
      "        },\n",
      "        \"refs/pull/153/head\": {\n",
      "            \"target\": \"b608ed8efa420c1ae4decbf7cc467f80c4aa22e1\",\n",
      "            \"target_type\": \"revision\",\n",
      "            \"target_url\": \"https://archive.softwareheritage.org/api/1/revision/b608ed8efa420c1ae4decbf7cc467f80c4aa22e1/\"\n",
      "        },\n",
      "        \"refs/pull/154/head\": {\n",
      "            \"target\": \"4bab2534e79c8c6a7f8e2e2da9fd8ef3def1df8b\",\n",
      "            \"target_type\": \"revision\",\n",
      "            \"target_url\": \"https://archive.softwareheritage.org/api/1/revision/4bab2534e79c8c6a7f8e2e2da9fd8ef3def1df8b/\"\n",
      "        },\n",
      "        \"refs/pull/155/head\": {\n",
      "            \"target\": \"bbcf2d767c62a657bca5cb39f28ace7bc10e71a7\",\n",
      "            \"target_type\": \"revision\",\n",
      "            \"target_url\": \"https://archive.softwareheritage.org/api/1/revision/bbcf2d767c62a657bca5cb39f28ace7bc10e71a7/\"\n",
      "        },\n",
      "        \"refs/pull/16/head\": {\n",
      "            \"target\": \"f7271ef0827788de47928dfed1851d759ec08683\",\n",
      "            \"target_type\": \"revision\",\n",
      "            \"target_url\": \"https://archive.softwareheritage.org/api/1/revision/f7271ef0827788de47928dfed1851d759ec08683/\"\n",
      "        },\n",
      "        \"refs/pull/160/head\": {\n",
      "            \"target\": \"9bc97014eac397008d741239f024fe7d6dd3442d\",\n",
      "            \"target_type\": \"revision\",\n",
      "            \"target_url\": \"https://archive.softwareheritage.org/api/1/revision/9bc97014eac397008d741239f024fe7d6dd3442d/\"\n",
      "        },\n",
      "        \"refs/pull/161/head\": {\n",
      "            \"target\": \"6e2ff1ce006014e2bafa68eab65d12c015b997d4\",\n",
      "            \"target_type\": \"revision\",\n",
      "            \"target_url\": \"https://archive.softwareheritage.org/api/1/revision/6e2ff1ce006014e2bafa68eab65d12c015b997d4/\"\n",
      "        },\n",
      "        \"refs/pull/163/head\": {\n",
      "            \"target\": \"65703b2321a0cedb3f855d4ecb72035c7aad73a6\",\n",
      "            \"target_type\": \"revision\",\n",
      "            \"target_url\": \"https://archive.softwareheritage.org/api/1/revision/65703b2321a0cedb3f855d4ecb72035c7aad73a6/\"\n",
      "        },\n",
      "        \"refs/pull/17/head\": {\n",
      "            \"target\": \"b4d9c9a2bb6c312a9d5b56784b3234ef5e6f891c\",\n",
      "            \"target_type\": \"revision\",\n",
      "            \"target_url\": \"https://archive.softwareheritage.org/api/1/revision/b4d9c9a2bb6c312a9d5b56784b3234ef5e6f891c/\"\n",
      "        },\n",
      "        \"refs/pull/170/head\": {\n",
      "            \"target\": \"805509d5c8a35693e7b28ac5ef45b6cb48bfa1c1\",\n",
      "            \"target_type\": \"revision\",\n",
      "            \"target_url\": \"https://archive.softwareheritage.org/api/1/revision/805509d5c8a35693e7b28ac5ef45b6cb48bfa1c1/\"\n",
      "        },\n",
      "        \"refs/pull/173/head\": {\n",
      "            \"target\": \"e63f066263ffd8462ddce2256bf0523d6d2cedf9\",\n",
      "            \"target_type\": \"revision\",\n",
      "            \"target_url\": \"https://archive.softwareheritage.org/api/1/revision/e63f066263ffd8462ddce2256bf0523d6d2cedf9/\"\n",
      "        },\n",
      "        \"refs/pull/174/head\": {\n",
      "            \"target\": \"206d80886edf22aec08a866eeedc1f06cc120509\",\n",
      "            \"target_type\": \"revision\",\n",
      "            \"target_url\": \"https://archive.softwareheritage.org/api/1/revision/206d80886edf22aec08a866eeedc1f06cc120509/\"\n",
      "        },\n",
      "        \"refs/pull/176/head\": {\n",
      "            \"target\": \"83765ebe5dc9b0a527bccdb5c5f17349e8917dc7\",\n",
      "            \"target_type\": \"revision\",\n",
      "            \"target_url\": \"https://archive.softwareheritage.org/api/1/revision/83765ebe5dc9b0a527bccdb5c5f17349e8917dc7/\"\n",
      "        },\n",
      "        \"refs/pull/177/head\": {\n",
      "            \"target\": \"f4455ff7f0b3754d0cb2cde91caf329c798b556a\",\n",
      "            \"target_type\": \"revision\",\n",
      "            \"target_url\": \"https://archive.softwareheritage.org/api/1/revision/f4455ff7f0b3754d0cb2cde91caf329c798b556a/\"\n",
      "        },\n",
      "        \"refs/pull/179/head\": {\n",
      "            \"target\": \"fe5325d84dbb76025def9d4f360409c4f3257fcb\",\n",
      "            \"target_type\": \"revision\",\n",
      "            \"target_url\": \"https://archive.softwareheritage.org/api/1/revision/fe5325d84dbb76025def9d4f360409c4f3257fcb/\"\n",
      "        },\n",
      "        \"refs/pull/18/head\": {\n",
      "            \"target\": \"0cc720332d31cea4c394fe71d7d8cddded86f0bb\",\n",
      "            \"target_type\": \"revision\",\n",
      "            \"target_url\": \"https://archive.softwareheritage.org/api/1/revision/0cc720332d31cea4c394fe71d7d8cddded86f0bb/\"\n",
      "        },\n",
      "        \"refs/pull/180/head\": {\n",
      "            \"target\": \"c46a7984ff332cd52362270e30e1028e4714b404\",\n",
      "            \"target_type\": \"revision\",\n",
      "            \"target_url\": \"https://archive.softwareheritage.org/api/1/revision/c46a7984ff332cd52362270e30e1028e4714b404/\"\n",
      "        },\n",
      "        \"refs/pull/181/head\": {\n",
      "            \"target\": \"b9222b484529d59b98e61c9d6b181b3ea0b3fd0b\",\n",
      "            \"target_type\": \"revision\",\n",
      "            \"target_url\": \"https://archive.softwareheritage.org/api/1/revision/b9222b484529d59b98e61c9d6b181b3ea0b3fd0b/\"\n",
      "        },\n",
      "        \"refs/pull/182/head\": {\n",
      "            \"target\": \"c94ea807463bf137a73e27ee13d5b41cb5a1dc41\",\n",
      "            \"target_type\": \"revision\",\n",
      "            \"target_url\": \"https://archive.softwareheritage.org/api/1/revision/c94ea807463bf137a73e27ee13d5b41cb5a1dc41/\"\n",
      "        },\n",
      "        \"refs/pull/183/head\": {\n",
      "            \"target\": \"4b123c89d2515bc6f0a0178dea6a33cc6be0dda2\",\n",
      "            \"target_type\": \"revision\",\n",
      "            \"target_url\": \"https://archive.softwareheritage.org/api/1/revision/4b123c89d2515bc6f0a0178dea6a33cc6be0dda2/\"\n",
      "        },\n",
      "        \"refs/pull/184/head\": {\n",
      "            \"target\": \"8c07549841dd36a5be792b9b62dc93a1bd0e0f24\",\n",
      "            \"target_type\": \"revision\",\n",
      "            \"target_url\": \"https://archive.softwareheritage.org/api/1/revision/8c07549841dd36a5be792b9b62dc93a1bd0e0f24/\"\n",
      "        },\n",
      "        \"refs/pull/185/head\": {\n",
      "            \"target\": \"bc9d7c731a6be3d4b9d32766b8f740d18c209802\",\n",
      "            \"target_type\": \"revision\",\n",
      "            \"target_url\": \"https://archive.softwareheritage.org/api/1/revision/bc9d7c731a6be3d4b9d32766b8f740d18c209802/\"\n",
      "        },\n",
      "        \"refs/pull/19/head\": {\n",
      "            \"target\": \"dc4be7a83be09d42bd0d6224c0d3c2b39a776094\",\n",
      "            \"target_type\": \"revision\",\n",
      "            \"target_url\": \"https://archive.softwareheritage.org/api/1/revision/dc4be7a83be09d42bd0d6224c0d3c2b39a776094/\"\n",
      "        },\n",
      "        \"refs/pull/20/head\": {\n",
      "            \"target\": \"566efb97369cd7cf6c0bb1bed8aa2f8dc6639e77\",\n",
      "            \"target_type\": \"revision\",\n",
      "            \"target_url\": \"https://archive.softwareheritage.org/api/1/revision/566efb97369cd7cf6c0bb1bed8aa2f8dc6639e77/\"\n",
      "        },\n",
      "        \"refs/pull/21/head\": {\n",
      "            \"target\": \"cc746362ff3e2b49d688c88cb50134a154b0146e\",\n",
      "            \"target_type\": \"revision\",\n",
      "            \"target_url\": \"https://archive.softwareheritage.org/api/1/revision/cc746362ff3e2b49d688c88cb50134a154b0146e/\"\n",
      "        },\n",
      "        \"refs/pull/22/head\": {\n",
      "            \"target\": \"6fe6d3f43dbc7e60ae4ad54cf81bd50b64a591e9\",\n",
      "            \"target_type\": \"revision\",\n",
      "            \"target_url\": \"https://archive.softwareheritage.org/api/1/revision/6fe6d3f43dbc7e60ae4ad54cf81bd50b64a591e9/\"\n",
      "        },\n",
      "        \"refs/pull/23/head\": {\n",
      "            \"target\": \"1523ad6998b6ee837d03996681a2d434569a45ba\",\n",
      "            \"target_type\": \"revision\",\n",
      "            \"target_url\": \"https://archive.softwareheritage.org/api/1/revision/1523ad6998b6ee837d03996681a2d434569a45ba/\"\n",
      "        },\n",
      "        \"refs/pull/24/head\": {\n",
      "            \"target\": \"3c54cb9b14031d114319e4938737d1dc4e486cbb\",\n",
      "            \"target_type\": \"revision\",\n",
      "            \"target_url\": \"https://archive.softwareheritage.org/api/1/revision/3c54cb9b14031d114319e4938737d1dc4e486cbb/\"\n",
      "        },\n",
      "        \"refs/pull/25/head\": {\n",
      "            \"target\": \"0c566292593915b01c90228e07b175c80e181a3f\",\n",
      "            \"target_type\": \"revision\",\n",
      "            \"target_url\": \"https://archive.softwareheritage.org/api/1/revision/0c566292593915b01c90228e07b175c80e181a3f/\"\n",
      "        },\n",
      "        \"refs/pull/26/head\": {\n",
      "            \"target\": \"dde2714190ca258bf2436e2c426076af1e22d1e4\",\n",
      "            \"target_type\": \"revision\",\n",
      "            \"target_url\": \"https://archive.softwareheritage.org/api/1/revision/dde2714190ca258bf2436e2c426076af1e22d1e4/\"\n",
      "        },\n",
      "        \"refs/pull/27/head\": {\n",
      "            \"target\": \"95b2cf6c3f0f6047439cfa53f9e3ef64b1f0226b\",\n",
      "            \"target_type\": \"revision\",\n",
      "            \"target_url\": \"https://archive.softwareheritage.org/api/1/revision/95b2cf6c3f0f6047439cfa53f9e3ef64b1f0226b/\"\n",
      "        },\n",
      "        \"refs/pull/28/head\": {\n",
      "            \"target\": \"baa19f804a269ef248914a4675109f4ea7f9a2b0\",\n",
      "            \"target_type\": \"revision\",\n",
      "            \"target_url\": \"https://archive.softwareheritage.org/api/1/revision/baa19f804a269ef248914a4675109f4ea7f9a2b0/\"\n",
      "        },\n",
      "        \"refs/pull/29/head\": {\n",
      "            \"target\": \"6b8bab23889674a5c3d7eb4c28cb8ab0d1a1285e\",\n",
      "            \"target_type\": \"revision\",\n",
      "            \"target_url\": \"https://archive.softwareheritage.org/api/1/revision/6b8bab23889674a5c3d7eb4c28cb8ab0d1a1285e/\"\n",
      "        },\n",
      "        \"refs/pull/30/head\": {\n",
      "            \"target\": \"aebc6603ed91d239ca3869217b8fb9277e12a3b9\",\n",
      "            \"target_type\": \"revision\",\n",
      "            \"target_url\": \"https://archive.softwareheritage.org/api/1/revision/aebc6603ed91d239ca3869217b8fb9277e12a3b9/\"\n",
      "        },\n",
      "        \"refs/pull/31/head\": {\n",
      "            \"target\": \"8c87d1e66c63493aec28805356346edf0e58c2ff\",\n",
      "            \"target_type\": \"revision\",\n",
      "            \"target_url\": \"https://archive.softwareheritage.org/api/1/revision/8c87d1e66c63493aec28805356346edf0e58c2ff/\"\n",
      "        },\n",
      "        \"refs/pull/32/head\": {\n",
      "            \"target\": \"4ac73c36132b2f91829915ac9b724db9b586cb67\",\n",
      "            \"target_type\": \"revision\",\n",
      "            \"target_url\": \"https://archive.softwareheritage.org/api/1/revision/4ac73c36132b2f91829915ac9b724db9b586cb67/\"\n",
      "        },\n",
      "        \"refs/pull/33/head\": {\n",
      "            \"target\": \"7004bd6a17f67a5e61956a0e54cc70c43c218600\",\n",
      "            \"target_type\": \"revision\",\n",
      "            \"target_url\": \"https://archive.softwareheritage.org/api/1/revision/7004bd6a17f67a5e61956a0e54cc70c43c218600/\"\n",
      "        },\n",
      "        \"refs/pull/37/head\": {\n",
      "            \"target\": \"c83679882f02f389202b88944200fd93040a4add\",\n",
      "            \"target_type\": \"revision\",\n",
      "            \"target_url\": \"https://archive.softwareheritage.org/api/1/revision/c83679882f02f389202b88944200fd93040a4add/\"\n",
      "        },\n",
      "        \"refs/pull/38/head\": {\n",
      "            \"target\": \"abf343757fa91be350b392cb279a4dd5bfdb34cc\",\n",
      "            \"target_type\": \"revision\",\n",
      "            \"target_url\": \"https://archive.softwareheritage.org/api/1/revision/abf343757fa91be350b392cb279a4dd5bfdb34cc/\"\n",
      "        },\n",
      "        \"refs/pull/41/head\": {\n",
      "            \"target\": \"180892fbecf458dc539b0eaeefc473fb3d9d5889\",\n",
      "            \"target_type\": \"revision\",\n",
      "            \"target_url\": \"https://archive.softwareheritage.org/api/1/revision/180892fbecf458dc539b0eaeefc473fb3d9d5889/\"\n",
      "        },\n",
      "        \"refs/pull/45/head\": {\n",
      "            \"target\": \"96e20466136c8c93b788af70a2bcc7a1e5f5cde5\",\n",
      "            \"target_type\": \"revision\",\n",
      "            \"target_url\": \"https://archive.softwareheritage.org/api/1/revision/96e20466136c8c93b788af70a2bcc7a1e5f5cde5/\"\n",
      "        },\n",
      "        \"refs/pull/47/head\": {\n",
      "            \"target\": \"6caafe479f624fc616822d328f243b81b5912c9f\",\n",
      "            \"target_type\": \"revision\",\n",
      "            \"target_url\": \"https://archive.softwareheritage.org/api/1/revision/6caafe479f624fc616822d328f243b81b5912c9f/\"\n",
      "        },\n",
      "        \"refs/pull/48/head\": {\n",
      "            \"target\": \"c278f5f92c25e24fc9612e726461c81e912ec707\",\n",
      "            \"target_type\": \"revision\",\n",
      "            \"target_url\": \"https://archive.softwareheritage.org/api/1/revision/c278f5f92c25e24fc9612e726461c81e912ec707/\"\n",
      "        },\n",
      "        \"refs/pull/5/head\": {\n",
      "            \"target\": \"54c08a6c993c094233dd9fed144caec6a3b875e4\",\n",
      "            \"target_type\": \"revision\",\n",
      "            \"target_url\": \"https://archive.softwareheritage.org/api/1/revision/54c08a6c993c094233dd9fed144caec6a3b875e4/\"\n",
      "        },\n",
      "        \"refs/pull/50/head\": {\n",
      "            \"target\": \"5b7ddfac156dff1d77ff8fced4d974fed9f81a55\",\n",
      "            \"target_type\": \"revision\",\n",
      "            \"target_url\": \"https://archive.softwareheritage.org/api/1/revision/5b7ddfac156dff1d77ff8fced4d974fed9f81a55/\"\n",
      "        },\n",
      "        \"refs/pull/52/head\": {\n",
      "            \"target\": \"29acb93818a92ac601d5e933b70da25441bb1f90\",\n",
      "            \"target_type\": \"revision\",\n",
      "            \"target_url\": \"https://archive.softwareheritage.org/api/1/revision/29acb93818a92ac601d5e933b70da25441bb1f90/\"\n",
      "        },\n",
      "        \"refs/pull/55/head\": {\n",
      "            \"target\": \"a5b086eb76df656fb1ab4fcca59f9ce55cb60242\",\n",
      "            \"target_type\": \"revision\",\n",
      "            \"target_url\": \"https://archive.softwareheritage.org/api/1/revision/a5b086eb76df656fb1ab4fcca59f9ce55cb60242/\"\n",
      "        },\n",
      "        \"refs/pull/59/head\": {\n",
      "            \"target\": \"b2a9ff85c3c45ee371a568d96f32d027b89fd163\",\n",
      "            \"target_type\": \"revision\",\n",
      "            \"target_url\": \"https://archive.softwareheritage.org/api/1/revision/b2a9ff85c3c45ee371a568d96f32d027b89fd163/\"\n",
      "        },\n",
      "        \"refs/pull/6/head\": {\n",
      "            \"target\": \"9b791011bce6eea33db60aea0aab075bf32c1d21\",\n",
      "            \"target_type\": \"revision\",\n",
      "            \"target_url\": \"https://archive.softwareheritage.org/api/1/revision/9b791011bce6eea33db60aea0aab075bf32c1d21/\"\n",
      "        },\n",
      "        \"refs/pull/62/head\": {\n",
      "            \"target\": \"60e17d817c7d0a1a23ccb506f8a729f95cd97604\",\n",
      "            \"target_type\": \"revision\",\n",
      "            \"target_url\": \"https://archive.softwareheritage.org/api/1/revision/60e17d817c7d0a1a23ccb506f8a729f95cd97604/\"\n",
      "        },\n",
      "        \"refs/pull/63/head\": {\n",
      "            \"target\": \"c8b3e07d5fb438844ff215d0dd906360fc95cae5\",\n",
      "            \"target_type\": \"revision\",\n",
      "            \"target_url\": \"https://archive.softwareheritage.org/api/1/revision/c8b3e07d5fb438844ff215d0dd906360fc95cae5/\"\n",
      "        },\n",
      "        \"refs/pull/64/head\": {\n",
      "            \"target\": \"aab92ee554121b071feda2d94ebdef2f78001fd4\",\n",
      "            \"target_type\": \"revision\",\n",
      "            \"target_url\": \"https://archive.softwareheritage.org/api/1/revision/aab92ee554121b071feda2d94ebdef2f78001fd4/\"\n",
      "        },\n",
      "        \"refs/pull/65/head\": {\n",
      "            \"target\": \"cbf80553ba2d0044ef94aaed68a9d768abfc1fd6\",\n",
      "            \"target_type\": \"revision\",\n",
      "            \"target_url\": \"https://archive.softwareheritage.org/api/1/revision/cbf80553ba2d0044ef94aaed68a9d768abfc1fd6/\"\n",
      "        },\n",
      "        \"refs/pull/66/head\": {\n",
      "            \"target\": \"34dcc28e23a52a74da53fcaf1ed4a28de6bce513\",\n",
      "            \"target_type\": \"revision\",\n",
      "            \"target_url\": \"https://archive.softwareheritage.org/api/1/revision/34dcc28e23a52a74da53fcaf1ed4a28de6bce513/\"\n",
      "        },\n",
      "        \"refs/pull/68/head\": {\n",
      "            \"target\": \"20201e9a56fc3a0618bef4321a7ebcc13264c6de\",\n",
      "            \"target_type\": \"revision\",\n",
      "            \"target_url\": \"https://archive.softwareheritage.org/api/1/revision/20201e9a56fc3a0618bef4321a7ebcc13264c6de/\"\n",
      "        },\n",
      "        \"refs/pull/69/head\": {\n",
      "            \"target\": \"40284fa51b606ccd606b13a3321c699f44f7d905\",\n",
      "            \"target_type\": \"revision\",\n",
      "            \"target_url\": \"https://archive.softwareheritage.org/api/1/revision/40284fa51b606ccd606b13a3321c699f44f7d905/\"\n",
      "        },\n",
      "        \"refs/pull/7/head\": {\n",
      "            \"target\": \"5b77766678a751f8c20dccc3687047ae9d0d121d\",\n",
      "            \"target_type\": \"revision\",\n",
      "            \"target_url\": \"https://archive.softwareheritage.org/api/1/revision/5b77766678a751f8c20dccc3687047ae9d0d121d/\"\n",
      "        },\n",
      "        \"refs/pull/72/head\": {\n",
      "            \"target\": \"ab00ac342b0dbf8cf57c3570e5ad738d1a084f6e\",\n",
      "            \"target_type\": \"revision\",\n",
      "            \"target_url\": \"https://archive.softwareheritage.org/api/1/revision/ab00ac342b0dbf8cf57c3570e5ad738d1a084f6e/\"\n",
      "        },\n",
      "        \"refs/pull/74/head\": {\n",
      "            \"target\": \"e7d74a55fd48858ab072145c501dafc58dce3820\",\n",
      "            \"target_type\": \"revision\",\n",
      "            \"target_url\": \"https://archive.softwareheritage.org/api/1/revision/e7d74a55fd48858ab072145c501dafc58dce3820/\"\n",
      "        },\n",
      "        \"refs/pull/75/head\": {\n",
      "            \"target\": \"8f0225aca3e8ea1d6e6d0fac8d196a2cef6b281c\",\n",
      "            \"target_type\": \"revision\",\n",
      "            \"target_url\": \"https://archive.softwareheritage.org/api/1/revision/8f0225aca3e8ea1d6e6d0fac8d196a2cef6b281c/\"\n",
      "        },\n",
      "        \"refs/pull/77/head\": {\n",
      "            \"target\": \"2aacae4e47367813067461968942770caedbb1c3\",\n",
      "            \"target_type\": \"revision\",\n",
      "            \"target_url\": \"https://archive.softwareheritage.org/api/1/revision/2aacae4e47367813067461968942770caedbb1c3/\"\n",
      "        },\n",
      "        \"refs/pull/78/head\": {\n",
      "            \"target\": \"04dd434f2a147eb4a353b68afa8f109d2500ef7f\",\n",
      "            \"target_type\": \"revision\",\n",
      "            \"target_url\": \"https://archive.softwareheritage.org/api/1/revision/04dd434f2a147eb4a353b68afa8f109d2500ef7f/\"\n",
      "        },\n",
      "        \"refs/pull/8/head\": {\n",
      "            \"target\": \"8d67c8d6b05cc5f6a9126a76522b4a81e46162cf\",\n",
      "            \"target_type\": \"revision\",\n",
      "            \"target_url\": \"https://archive.softwareheritage.org/api/1/revision/8d67c8d6b05cc5f6a9126a76522b4a81e46162cf/\"\n",
      "        },\n",
      "        \"refs/pull/80/head\": {\n",
      "            \"target\": \"b2dd3815b4babace941f455834958ee90aec9d84\",\n",
      "            \"target_type\": \"revision\",\n",
      "            \"target_url\": \"https://archive.softwareheritage.org/api/1/revision/b2dd3815b4babace941f455834958ee90aec9d84/\"\n",
      "        },\n",
      "        \"refs/pull/81/head\": {\n",
      "            \"target\": \"babdf1b8a6181812ded3e3f037ce1e39324e0d2a\",\n",
      "            \"target_type\": \"revision\",\n",
      "            \"target_url\": \"https://archive.softwareheritage.org/api/1/revision/babdf1b8a6181812ded3e3f037ce1e39324e0d2a/\"\n",
      "        },\n",
      "        \"refs/pull/82/head\": {\n",
      "            \"target\": \"d48322cbde2c85e9b4894f1a51447452a3f6b074\",\n",
      "            \"target_type\": \"revision\",\n",
      "            \"target_url\": \"https://archive.softwareheritage.org/api/1/revision/d48322cbde2c85e9b4894f1a51447452a3f6b074/\"\n",
      "        },\n",
      "        \"refs/pull/83/head\": {\n",
      "            \"target\": \"318987b0746f68306268c0afb807bf91aef15b91\",\n",
      "            \"target_type\": \"revision\",\n",
      "            \"target_url\": \"https://archive.softwareheritage.org/api/1/revision/318987b0746f68306268c0afb807bf91aef15b91/\"\n",
      "        },\n",
      "        \"refs/pull/85/head\": {\n",
      "            \"target\": \"08d81d7a098eff4b72cd936903df38998a703c0d\",\n",
      "            \"target_type\": \"revision\",\n",
      "            \"target_url\": \"https://archive.softwareheritage.org/api/1/revision/08d81d7a098eff4b72cd936903df38998a703c0d/\"\n",
      "        },\n",
      "        \"refs/pull/86/head\": {\n",
      "            \"target\": \"5c20c6bf61d884982dafc3a9bf448baaa03451b2\",\n",
      "            \"target_type\": \"revision\",\n",
      "            \"target_url\": \"https://archive.softwareheritage.org/api/1/revision/5c20c6bf61d884982dafc3a9bf448baaa03451b2/\"\n",
      "        },\n",
      "        \"refs/pull/87/head\": {\n",
      "            \"target\": \"f6acf793be82541e75bcbc28f5c11016325b2b6b\",\n",
      "            \"target_type\": \"revision\",\n",
      "            \"target_url\": \"https://archive.softwareheritage.org/api/1/revision/f6acf793be82541e75bcbc28f5c11016325b2b6b/\"\n",
      "        },\n",
      "        \"refs/pull/89/head\": {\n",
      "            \"target\": \"39084e2d6223ea6739e526253b0fdbd2ebcafe48\",\n",
      "            \"target_type\": \"revision\",\n",
      "            \"target_url\": \"https://archive.softwareheritage.org/api/1/revision/39084e2d6223ea6739e526253b0fdbd2ebcafe48/\"\n",
      "        },\n",
      "        \"refs/pull/9/head\": {\n",
      "            \"target\": \"14014c84ddbf52bdc15d5dd01ed10c9a8bd9a5a8\",\n",
      "            \"target_type\": \"revision\",\n",
      "            \"target_url\": \"https://archive.softwareheritage.org/api/1/revision/14014c84ddbf52bdc15d5dd01ed10c9a8bd9a5a8/\"\n",
      "        },\n",
      "        \"refs/pull/90/head\": {\n",
      "            \"target\": \"a7a88dbafab0a1d9d4a0bdcae10a124a99c87312\",\n",
      "            \"target_type\": \"revision\",\n",
      "            \"target_url\": \"https://archive.softwareheritage.org/api/1/revision/a7a88dbafab0a1d9d4a0bdcae10a124a99c87312/\"\n",
      "        },\n",
      "        \"refs/pull/91/head\": {\n",
      "            \"target\": \"1c10790376d4e4384e71e274d13ad0b1453ad096\",\n",
      "            \"target_type\": \"revision\",\n",
      "            \"target_url\": \"https://archive.softwareheritage.org/api/1/revision/1c10790376d4e4384e71e274d13ad0b1453ad096/\"\n",
      "        },\n",
      "        \"refs/pull/92/head\": {\n",
      "            \"target\": \"f0ae175cf60e0715a68fcfc6449b94526af2eccb\",\n",
      "            \"target_type\": \"revision\",\n",
      "            \"target_url\": \"https://archive.softwareheritage.org/api/1/revision/f0ae175cf60e0715a68fcfc6449b94526af2eccb/\"\n",
      "        },\n",
      "        \"refs/pull/93/head\": {\n",
      "            \"target\": \"7f256705d3840fab716a289c4a995db4dcf903dc\",\n",
      "            \"target_type\": \"revision\",\n",
      "            \"target_url\": \"https://archive.softwareheritage.org/api/1/revision/7f256705d3840fab716a289c4a995db4dcf903dc/\"\n",
      "        },\n",
      "        \"refs/pull/94/head\": {\n",
      "            \"target\": \"c14b5e8f6f6b6b89c785efcb54303db0b2b8d0e6\",\n",
      "            \"target_type\": \"revision\",\n",
      "            \"target_url\": \"https://archive.softwareheritage.org/api/1/revision/c14b5e8f6f6b6b89c785efcb54303db0b2b8d0e6/\"\n",
      "        },\n",
      "        \"refs/pull/99/head\": {\n",
      "            \"target\": \"91bfcbff44263d3acfc60ead138d2f0ec6dde6b1\",\n",
      "            \"target_type\": \"revision\",\n",
      "            \"target_url\": \"https://archive.softwareheritage.org/api/1/revision/91bfcbff44263d3acfc60ead138d2f0ec6dde6b1/\"\n",
      "        }\n",
      "    },\n",
      "    \"id\": \"e8f3f0673f7e11979df7de70beef433c02b5f452\",\n",
      "    \"next_branch\": null\n",
      "}\n"
     ]
    }
   ],
   "source": [
    "snapshotr = requests.get(\"https://archive.softwareheritage.org/api/1/snapshot/{}/\".format(snapshot))\n",
    "snapshotj = snapshotr.json()\n",
    "jprint(snapshotj)"
   ]
  },
  {
   "cell_type": "code",
   "execution_count": 10,
   "id": "78238119-dbb1-4b81-9335-7a82e82283d1",
   "metadata": {},
   "outputs": [
    {
     "name": "stdout",
     "output_type": "stream",
     "text": [
      "Revision ID is e8f3f0673f7e11979df7de70beef433c02b5f452.\n",
      "{\n",
      "    \"author\": {\n",
      "        \"email\": \"117362283+bclenet@users.noreply.github.com\",\n",
      "        \"fullname\": \"Boris Cl\\u00e9net <117362283+bclenet@users.noreply.github.com>\",\n",
      "        \"name\": \"Boris Cl\\u00e9net\"\n",
      "    },\n",
      "    \"committer\": {\n",
      "        \"email\": \"noreply@github.com\",\n",
      "        \"fullname\": \"GitHub <noreply@github.com>\",\n",
      "        \"name\": \"GitHub\"\n",
      "    },\n",
      "    \"committer_date\": \"2024-03-18T10:10:45+01:00\",\n",
      "    \"date\": \"2024-03-18T10:10:45+01:00\",\n",
      "    \"directory\": \"56587cba5e1aae5c28822df0e1952e0abaab8fb9\",\n",
      "    \"directory_url\": \"https://archive.softwareheritage.org/api/1/directory/56587cba5e1aae5c28822df0e1952e0abaab8fb9/\",\n",
      "    \"extra_headers\": [\n",
      "        [\n",
      "            \"gpgsig\",\n",
      "            \"-----BEGIN PGP SIGNATURE-----\\n\\nwsFcBAABCAAQBQJl+AUVCRC1aQ7uu5UhlAAA2KIQAHVpv3Am1ezonsPexCJ2WK6d\\njUm4+EwkeIIWm4m9Ik39x6LKG3KSiD2GQBU+YBNiBAcLQr2NCnPRbLqYiTFf+3eC\\nqYhkO140TvqaUNzJYjFmYcwf/i4BZP8pY1OjSbhRTScwH26tbA1xOX0G6Nw2B8/3\\nbtdVfib88ngUn56fZ39l/a2hOVcWGJnbU3D1UTRolfTqViniWOBMukAE2OWcNfo0\\nsKsCjDNSoITptDU5XVBnLaftGwXhBaLWDQf9JppiXxU2oVbIV9af38St1XJ/HNT1\\nKgig5geRRiqHQmRtPsqu/XXX1hIKV4eeM5gIEDPeROmbloVWVpJtrTUDGoNgJdxt\\nFpG3k7YI8kC74xc4UhQwGnD/tkySzpy1x9/nEGK5Qstem3gPnppBMSxxwWzAoUK3\\nh0nICfSf7yOZgNcJllEp8VUXYe5SdJmnMw+2DB+pWOMuaKYHvXz61EGYUJkRH7ZM\\nhEU0LUF4Bzwfvp3CXfmcBS69Hs6GNGAj8QSJsXAmcEf3KakRRK4DRLWQhEYJY8QT\\nHMEQr0eoTibo34xOfyIy8CgvtSYmNrhUebTFTb/anJ4azER8+5zMCLryE0aRe/H1\\nz/Y6lSW5l4lYBLUptYam5t0oojfRPB/F3P1tZEFk/6Njxn64vER/PRuEwXF7wpdi\\nv4G4KyMCVSrzTVuVKeoO\\n=JR0m\\n-----END PGP SIGNATURE-----\\n\"\n",
      "        ]\n",
      "    ],\n",
      "    \"history_url\": \"https://archive.softwareheritage.org/api/1/revision/fb023412e0d61f5d226a53e5a7e90bfce8470cda/log/\",\n",
      "    \"id\": \"fb023412e0d61f5d226a53e5a7e90bfce8470cda\",\n",
      "    \"merge\": false,\n",
      "    \"message\": \"R9K3 reproduction (#181)\\n\\n* [R9K3][TEST] code and tests for the pipeline\\r\\n\\r\\n* [BUG] smoothing outputs\\r\\n\\r\\n* [BUG] contrast definitions\\r\\n\\r\\n* [BUG] input func from derivs\\r\\n\\r\\n* Select file template naming error\\r\\n\\r\\n* Correcting hypothesis files\\r\\n\\r\\n* Hypotheses files names\",\n",
      "    \"metadata\": {},\n",
      "    \"parents\": [\n",
      "        {\n",
      "            \"id\": \"273a8d7c3a24ac67831de6d7fc42f228c9b6bf95\",\n",
      "            \"url\": \"https://archive.softwareheritage.org/api/1/revision/273a8d7c3a24ac67831de6d7fc42f228c9b6bf95/\"\n",
      "        }\n",
      "    ],\n",
      "    \"synthetic\": false,\n",
      "    \"type\": \"git\",\n",
      "    \"url\": \"https://archive.softwareheritage.org/api/1/revision/fb023412e0d61f5d226a53e5a7e90bfce8470cda/\"\n",
      "}\n"
     ]
    }
   ],
   "source": [
    "print(f\"Revision ID is {snapshotj['id']}.\")\n",
    "master_url = snapshotj['branches']['refs/heads/main']['target_url']\n",
    "masterr = requests.get(master_url)\n",
    "masterj = masterr.json()\n",
    "jprint(masterj)"
   ]
  },
  {
   "cell_type": "code",
   "execution_count": 11,
   "id": "9bbd7238-cbd7-4465-bd71-f1b422c2536e",
   "metadata": {},
   "outputs": [
    {
     "name": "stdout",
     "output_type": "stream",
     "text": [
      "[{\"dir_id\":\"56587cba5e1aae5c28822df0e1952e0abaab8fb9\",\"type\":\"file\",\"target\":\"f898a0f35570960f4944d21b7bf3b787c651ff85\",\"name\":\".codespellrc\",\"perms\":33188,\"status\":\"visible\",\"length\":159,\"checksums\":{\"sha1\":\"4f85316e6b5efe102f225c32c0311894a1010f2d\",\"sha256\":\"c2af719a9fe5a13a058bee580850cc49a07ff4ffff3f8f985645d5dc2c36f7a5\",\"sha1_git\":\"f898a0f35570960f4944d21b7bf3b787c651ff85\"},\"target_url\":\"https://archive.softwareheritage.org/api/1/content/sha1_git:f898a0f35570960f4944d21b7bf3b787c651ff85/\"},{\"dir_id\":\"56587cba5e1aae5c28822df0e1952e0abaab8fb9\",\"type\":\"dir\",\"target\":\"7a1082b8a6275eb7358680d95101a4a92d384496\",\"name\":\".github\",\"perms\":16384,\"length\":null,\"target_url\":\"https://archive.softwareheritage.org/api/1/directory/7a1082b8a6275eb7358680d95101a4a92d384496/\"},{\"dir_id\":\"56587cba5e1aae5c28822df0e1952e0abaab8fb9\",\"type\":\"file\",\"target\":\"d8afe95217945848aae8cca179923b3aa646ddcc\",\"name\":\".gitignore\",\"perms\":33188,\"status\":\"visible\",\"length\":1937,\"checksums\":{\"sha1\":\"14e5658bcf0d67598b348841f979a1541f357939\",\"sha256\":\"1c5303eb91498e7d8e7f919cfdef45604c0025d9227e9ed4cd6ebc82a6fddf04\",\"sha1_git\":\"d8afe95217945848aae8cca179923b3aa646ddcc\"},\"target_url\":\"https://archive.softwareheritage.org/api/1/content/sha1_git:d8afe95217945848aae8cca179923b3aa646ddcc/\"},{\"dir_id\":\"56587cba5e1aae5c28822df0e1952e0abaab8fb9\",\"type\":\"file\",\"target\":\"9800e6cf937ab45c3c803453c97441149883ea9a\",\"name\":\".gitlab-ci.yml\",\"perms\":33188,\"status\":\"visible\",\"length\":4007,\"checksums\":{\"sha1\":\"d32c384bfd2f933465a8618434b4c7f812bbcbb1\",\"sha256\":\"4d6b5c87ca9d317fe63e77eb4c00125392b1cc3b74a2940e9fa3e09d456c85ac\",\"sha1_git\":\"9800e6cf937ab45c3c803453c97441149883ea9a\"},\"target_url\":\"https://archive.softwareheritage.org/api/1/content/sha1_git:9800e6cf937ab45c3c803453c97441149883ea9a/\"},{\"dir_id\":\"56587cba5e1aae5c28822df0e1952e0abaab8fb9\",\"type\":\"file\",\"target\":\"364a3345eed60bd0c8c97219fb875fce12a7f9cb\",\"name\":\".gitmodules\",\"perms\":33188,\"status\":\"visible\",\"length\":486,\"checksums\":{\"sha1\":\"9a297baa3ef684398fb3b172a5324027dfee0518\",\"sha256\":\"82f0811628f46cd039a8629b36e0140a5aa1d8992e807351521d273b1e2464f1\",\"sha1_git\":\"364a3345eed60bd0c8c97219fb875fce12a7f9cb\"},\"target_url\":\"https://archive.softwareheritage.org/api/1/content/sha1_git:364a3345eed60bd0c8c97219fb875fce12a7f9cb/\"},{\"dir_id\":\"56587cba5e1aae5c28822df0e1952e0abaab8fb9\",\"type\":\"file\",\"target\":\"3bfeb5eef0445fb1fbac98217f02c47958b6a226\",\"name\":\".pylintrc\",\"perms\":33261,\"status\":\"visible\",\"length\":21241,\"checksums\":{\"sha1\":\"3c9cafcc156e43cb1ff4c6ed79f26d6d2b74284e\",\"sha256\":\"d67ad6d6242fd6ed8bf509a139b9937494612836f669cc127d4dee700debad60\",\"sha1_git\":\"3bfeb5eef0445fb1fbac98217f02c47958b6a226\"},\"target_url\":\"https://archive.softwareheritage.org/api/1/content/sha1_git:3bfeb5eef0445fb1fbac98217f02c47958b6a226/\"},{\"dir_id\":\"56587cba5e1aae5c28822df0e1952e0abaab8fb9\",\"type\":\"dir\",\"target\":\"a3e920372f918ca9c8cb39e33c88fb55968968ea\",\"name\":\".vscode\",\"perms\":16384,\"length\":null,\"target_url\":\"https://archive.softwareheritage.org/api/1/directory/a3e920372f918ca9c8cb39e33c88fb55968968ea/\"},{\"dir_id\":\"56587cba5e1aae5c28822df0e1952e0abaab8fb9\",\"type\":\"file\",\"target\":\"2ed9dd157b1623497b881bbdc516a460ff9ed972\",\"name\":\"CODE_OF_CONDUCT.md\",\"perms\":33188,\"status\":\"visible\",\"length\":5506,\"checksums\":{\"sha1\":\"ad0cffc7aeb5ca286e763dbd6c4139b7869ccc9a\",\"sha256\":\"b55302f4b4086cba811e41a70aeb7b19e49edfdf227373a3566dd891a2f2d925\",\"sha1_git\":\"2ed9dd157b1623497b881bbdc516a460ff9ed972\"},\"target_url\":\"https://archive.softwareheritage.org/api/1/content/sha1_git:2ed9dd157b1623497b881bbdc516a460ff9ed972/\"},{\"dir_id\":\"56587cba5e1aae5c28822df0e1952e0abaab8fb9\",\"type\":\"file\",\"target\":\"5fbeed5a0a88676aa98f811680d95d4e4f97a9a4\",\"name\":\"CONTENT.md\",\"perms\":33188,\"status\":\"visible\",\"length\":635,\"checksums\":{\"sha1\":\"41ec8f2e9b71959930703d55d946dfc71860f2e6\",\"sha256\":\"89e0922d50b4b44eef790472a6d9ba2326f6a8f036735058dd278b5e96bee613\",\"sha1_git\":\"5fbeed5a0a88676aa98f811680d95d4e4f97a9a4\"},\"target_url\":\"https://archive.softwareheritage.org/api/1/content/sha1_git:5fbeed5a0a88676aa98f811680d95d4e4f97a9a4/\"},{\"dir_id\":\"56587cba5e1aae5c28822df0e1952e0abaab8fb9\",\"type\":\"file\",\"target\":\"dcc8bd6f82a85ca5255528e8490040c8a23d4dc4\",\"name\":\"CONTRIBUTING.md\",\"perms\":33188,\"status\":\"visible\",\"length\":4691,\"checksums\":{\"sha1\":\"4bb8a0a9e0449060065eb093f7f2c39701bfab94\",\"sha256\":\"098e754fd4f6a339ac288a945bbf6ce6829184a8e353dc96aa4ac6e19139e879\",\"sha1_git\":\"dcc8bd6f82a85ca5255528e8490040c8a23d4dc4\"},\"target_url\":\"https://archive.softwareheritage.org/api/1/content/sha1_git:dcc8bd6f82a85ca5255528e8490040c8a23d4dc4/\"},{\"dir_id\":\"56587cba5e1aae5c28822df0e1952e0abaab8fb9\",\"type\":\"file\",\"target\":\"13b22194e1c114a9ccdc719ad8a716bc598086b7\",\"name\":\"Dockerfile\",\"perms\":33261,\"status\":\"visible\",\"length\":10695,\"checksums\":{\"sha1\":\"6dfc3e85de54896d82ebb29bd7836ae95fe7c309\",\"sha256\":\"be2c16c4ef0ef0581bc8dfef3f76efb4a82196d980ffa1e530757444d82b6109\",\"sha1_git\":\"13b22194e1c114a9ccdc719ad8a716bc598086b7\"},\"target_url\":\"https://archive.softwareheritage.org/api/1/content/sha1_git:13b22194e1c114a9ccdc719ad8a716bc598086b7/\"},{\"dir_id\":\"56587cba5e1aae5c28822df0e1952e0abaab8fb9\",\"type\":\"file\",\"target\":\"e9f124baa3289009ad94603866f811116fa183c3\",\"name\":\"INSTALL.md\",\"perms\":33188,\"status\":\"visible\",\"length\":4538,\"checksums\":{\"sha1\":\"58cd75f62cf2daedbb3aa5bbd1c170dc3114b1ec\",\"sha256\":\"765460bf1bfd71d6534f9052c3dabc91264f356d3efeb2a46092d767576e92a6\",\"sha1_git\":\"e9f124baa3289009ad94603866f811116fa183c3\"},\"target_url\":\"https://archive.softwareheritage.org/api/1/content/sha1_git:e9f124baa3289009ad94603866f811116fa183c3/\"},{\"dir_id\":\"56587cba5e1aae5c28822df0e1952e0abaab8fb9\",\"type\":\"file\",\"target\":\"f5faad890ed058868e2e060a5936eac9211feceb\",\"name\":\"LICENSE\",\"perms\":33188,\"status\":\"visible\",\"length\":1070,\"checksums\":{\"sha1\":\"d8110ad2be6bcb230b01ea3f3187214213ecb481\",\"sha256\":\"8219879983b7dee366eb1ada55377bb7587c4dd9235833e0d9e924682a0a974e\",\"sha1_git\":\"f5faad890ed058868e2e060a5936eac9211feceb\"},\"target_url\":\"https://archive.softwareheritage.org/api/1/content/sha1_git:f5faad890ed058868e2e060a5936eac9211feceb/\"},{\"dir_id\":\"56587cba5e1aae5c28822df0e1952e0abaab8fb9\",\"type\":\"file\",\"target\":\"3eae73538074e356cefaf56bb17faa9d34da1da5\",\"name\":\"README.md\",\"perms\":33188,\"status\":\"visible\",\"length\":4615,\"checksums\":{\"sha1\":\"86ac03fc8d8867dbeed1e9485188f2d5400c78e8\",\"sha256\":\"49a146cd4b6e65effe9dc509e2c4462a7bc5e92ec3e6c92bd1c7b3b164ea89ba\",\"sha1_git\":\"3eae73538074e356cefaf56bb17faa9d34da1da5\"},\"target_url\":\"https://archive.softwareheritage.org/api/1/content/sha1_git:3eae73538074e356cefaf56bb17faa9d34da1da5/\"},{\"dir_id\":\"56587cba5e1aae5c28822df0e1952e0abaab8fb9\",\"type\":\"dir\",\"target\":\"1b8f85dad2a166612db6a6e0d756012bf4e076a9\",\"name\":\"assets\",\"perms\":16384,\"length\":null,\"target_url\":\"https://archive.softwareheritage.org/api/1/directory/1b8f85dad2a166612db6a6e0d756012bf4e076a9/\"},{\"dir_id\":\"56587cba5e1aae5c28822df0e1952e0abaab8fb9\",\"type\":\"dir\",\"target\":\"4bb4c29219ef3bc8da922bb21d2709c4abd56ca2\",\"name\":\"data\",\"perms\":16384,\"length\":null,\"target_url\":\"https://archive.softwareheritage.org/api/1/directory/4bb4c29219ef3bc8da922bb21d2709c4abd56ca2/\"},{\"dir_id\":\"56587cba5e1aae5c28822df0e1952e0abaab8fb9\",\"type\":\"dir\",\"target\":\"6d007730c37c1909b22425a18f492277d4fac3ea\",\"name\":\"docs\",\"perms\":16384,\"length\":null,\"target_url\":\"https://archive.softwareheritage.org/api/1/directory/6d007730c37c1909b22425a18f492277d4fac3ea/\"},{\"dir_id\":\"56587cba5e1aae5c28822df0e1952e0abaab8fb9\",\"type\":\"file\",\"target\":\"e2fa4b951bb6efe2586c4af1c3d2ea658c7422f3\",\"name\":\"environment.yml\",\"perms\":33188,\"status\":\"visible\",\"length\":212,\"checksums\":{\"sha1\":\"8116c64cbdc47dab8e9fc617de21cc0004b1f48a\",\"sha256\":\"b6ba24ae0e2d1d3dfb88447e6e9501ef7fb6a0667c5308f44136457482277e0f\",\"sha1_git\":\"e2fa4b951bb6efe2586c4af1c3d2ea658c7422f3\"},\"target_url\":\"https://archive.softwareheritage.org/api/1/content/sha1_git:e2fa4b951bb6efe2586c4af1c3d2ea658c7422f3/\"},{\"dir_id\":\"56587cba5e1aae5c28822df0e1952e0abaab8fb9\",\"type\":\"dir\",\"target\":\"9ba34cd86c69805b59ff7b5c45c677716ed0c9ba\",\"name\":\"examples\",\"perms\":16384,\"length\":null,\"target_url\":\"https://archive.softwareheritage.org/api/1/directory/9ba34cd86c69805b59ff7b5c45c677716ed0c9ba/\"},{\"dir_id\":\"56587cba5e1aae5c28822df0e1952e0abaab8fb9\",\"type\":\"dir\",\"target\":\"54a7798d15c06edae4fe20db965c16aa76d5e5ec\",\"name\":\"narps_open\",\"perms\":16384,\"length\":null,\"target_url\":\"https://archive.softwareheritage.org/api/1/directory/54a7798d15c06edae4fe20db965c16aa76d5e5ec/\"},{\"dir_id\":\"56587cba5e1aae5c28822df0e1952e0abaab8fb9\",\"type\":\"file\",\"target\":\"f949712a3a649910375d20216c20b7f3c9e467e3\",\"name\":\"pytest.ini\",\"perms\":33188,\"status\":\"visible\",\"length\":199,\"checksums\":{\"sha1\":\"3ebca680622e68893c4488d98debc937c059e9c5\",\"sha256\":\"225500044b20a513c2c9a6d440a230a4c63e0e19ce80067053a2580ba6cf1e00\",\"sha1_git\":\"f949712a3a649910375d20216c20b7f3c9e467e3\"},\"target_url\":\"https://archive.softwareheritage.org/api/1/content/sha1_git:f949712a3a649910375d20216c20b7f3c9e467e3/\"},{\"dir_id\":\"56587cba5e1aae5c28822df0e1952e0abaab8fb9\",\"type\":\"file\",\"target\":\"7da1f9608ee1595463f3aefec0e087e57ca6c49f\",\"name\":\"setup.cfg\",\"perms\":33188,\"status\":\"visible\",\"length\":31,\"checksums\":{\"sha1\":\"3295b0360192b786460eccf999b010c589ae972a\",\"sha256\":\"eda03f3b4590bf808a342f504995cb21e869a04c304787550c059f1c1580445f\",\"sha1_git\":\"7da1f9608ee1595463f3aefec0e087e57ca6c49f\"},\"target_url\":\"https://archive.softwareheritage.org/api/1/content/sha1_git:7da1f9608ee1595463f3aefec0e087e57ca6c49f/\"},{\"dir_id\":\"56587cba5e1aae5c28822df0e1952e0abaab8fb9\",\"type\":\"file\",\"target\":\"b17409b64ddfaf93dcbc10173b82dabb928abdb8\",\"name\":\"setup.py\",\"perms\":33188,\"status\":\"visible\",\"length\":2913,\"checksums\":{\"sha1\":\"80cb2a03483763baa68805dd51c0429727cd4336\",\"sha256\":\"705118fff0cd2c53cbc4de06a2147d46b3a7e80db17c41d6b7c8067c10a9287f\",\"sha1_git\":\"b17409b64ddfaf93dcbc10173b82dabb928abdb8\"},\"target_url\":\"https://archive.softwareheritage.org/api/1/content/sha1_git:b17409b64ddfaf93dcbc10173b82dabb928abdb8/\"},{\"dir_id\":\"56587cba5e1aae5c28822df0e1952e0abaab8fb9\",\"type\":\"dir\",\"target\":\"b3d4ec5ef0cac61d37ccbbc375f2699c5f62b88e\",\"name\":\"src\",\"perms\":16384,\"length\":null,\"target_url\":\"https://archive.softwareheritage.org/api/1/directory/b3d4ec5ef0cac61d37ccbbc375f2699c5f62b88e/\"},{\"dir_id\":\"56587cba5e1aae5c28822df0e1952e0abaab8fb9\",\"type\":\"dir\",\"target\":\"03330d02d7dd485c7d54742386637e63eee20484\",\"name\":\"tests\",\"perms\":16384,\"length\":null,\"target_url\":\"https://archive.softwareheritage.org/api/1/directory/03330d02d7dd485c7d54742386637e63eee20484/\"}]"
     ]
    }
   ],
   "source": [
    "!GET https://archive.softwareheritage.org/api/1/directory/56587cba5e1aae5c28822df0e1952e0abaab8fb9/"
   ]
  },
  {
   "cell_type": "code",
   "execution_count": 12,
   "id": "2dc8a743-3959-43be-a025-09af5a7c3021",
   "metadata": {},
   "outputs": [
    {
     "name": "stdout",
     "output_type": "stream",
     "text": [
      "- .codespellrc.\n",
      "- .github.\n",
      "- .gitignore.\n",
      "- .gitlab-ci.yml.\n",
      "- .gitmodules.\n",
      "- .pylintrc.\n",
      "- .vscode.\n",
      "- CODE_OF_CONDUCT.md.\n",
      "- CONTENT.md.\n",
      "- CONTRIBUTING.md.\n",
      "- Dockerfile.\n",
      "- INSTALL.md.\n",
      "- LICENSE.\n",
      "- README.md.\n",
      "- assets.\n",
      "- data.\n",
      "- docs.\n",
      "- environment.yml.\n",
      "- examples.\n",
      "- narps_open.\n",
      "- pytest.ini.\n",
      "- setup.cfg.\n",
      "- setup.py.\n",
      "- src.\n",
      "- tests.\n"
     ]
    }
   ],
   "source": [
    "root_url = masterj['directory_url']\n",
    "rootr = requests.get(root_url)\n",
    "rootj = rootr.json()\n",
    "for f in rootj:\n",
    "    print(f\"- {f['name']}.\")\n"
   ]
  },
  {
   "cell_type": "code",
   "execution_count": 14,
   "id": "70596b2c-88fd-482c-8280-bbd5e48fb50e",
   "metadata": {},
   "outputs": [
    {
     "name": "stdout",
     "output_type": "stream",
     "text": [
      "{\n",
      "    \"fetch_url\": \"https://archive.softwareheritage.org/api/1/vault/flat/swh:1:dir:54a7798d15c06edae4fe20db965c16aa76d5e5ec/raw/\",\n",
      "    \"id\": 416781426,\n",
      "    \"obj_id\": \"54a7798d15c06edae4fe20db965c16aa76d5e5ec\",\n",
      "    \"obj_type\": \"directory\",\n",
      "    \"progress_message\": null,\n",
      "    \"status\": \"new\",\n",
      "    \"swhid\": \"swh:1:dir:54a7798d15c06edae4fe20db965c16aa76d5e5ec\"\n",
      "}\n"
     ]
    }
   ],
   "source": [
    "# narps open directory\n",
    "githubdir = requests.post(\"https://archive.softwareheritage.org/api/1/vault/directory/54a7798d15c06edae4fe20db965c16aa76d5e5ec/\")\n",
    "githubdirj = githubdir.json()\n",
    "jprint(githubdirj)"
   ]
  },
  {
   "cell_type": "code",
   "execution_count": 15,
   "id": "3ae11a82-3c1e-49a4-8984-9d04c13ac34d",
   "metadata": {},
   "outputs": [
    {
     "name": "stdout",
     "output_type": "stream",
     "text": [
      "{\n",
      "    \"fetch_url\": \"https://archive.softwareheritage.org/api/1/vault/flat/swh:1:dir:54a7798d15c06edae4fe20db965c16aa76d5e5ec/raw/\",\n",
      "    \"id\": 416781426,\n",
      "    \"obj_id\": \"54a7798d15c06edae4fe20db965c16aa76d5e5ec\",\n",
      "    \"obj_type\": \"directory\",\n",
      "    \"progress_message\": null,\n",
      "    \"status\": \"done\",\n",
      "    \"swhid\": \"swh:1:dir:54a7798d15c06edae4fe20db965c16aa76d5e5ec\"\n",
      "}\n"
     ]
    }
   ],
   "source": [
    "statusr = requests.get(\"https://archive.softwareheritage.org/api/1/vault/directory/54a7798d15c06edae4fe20db965c16aa76d5e5ec/\")\n",
    "statusj = statusr.json()\n",
    "jprint(statusj)"
   ]
  },
  {
   "cell_type": "code",
   "execution_count": 1,
   "id": "ec739e26-73f1-46ce-ae52-b6772019c142",
   "metadata": {},
   "outputs": [
    {
     "name": "stdout",
     "output_type": "stream",
     "text": [
      "  % Total    % Received % Xferd  Average Speed   Time    Time     Time  Current\n",
      "                                 Dload  Upload   Total   Spent    Left  Speed\n",
      "  0     0    0     0    0     0      0      0 --:--:-- --:--:-- --:--:--     0\n",
      "  0     0    0     0    0     0      0      0 --:--:-- --:--:-- --:--:--     0\n",
      "100  260k  100  260k    0     0   336k      0 --:--:-- --:--:-- --:--:--  336k\n"
     ]
    }
   ],
   "source": [
    "!curl -L https://archive.softwareheritage.org/api/1/vault/directory/54a7798d15c06edae4fe20db965c16aa76d5e5ec/raw/ -o narpsarchive.tar.gz"
   ]
  },
  {
   "cell_type": "code",
   "execution_count": 1,
   "id": "6199fe63-dc41-403b-b5c1-7e47b08c6543",
   "metadata": {},
   "outputs": [],
   "source": [
    "import requests\n",
    "\n"
   ]
  },
  {
   "cell_type": "code",
   "execution_count": 2,
   "id": "e8c1e66e-4318-4e8c-93f0-7749bc91cd82",
   "metadata": {},
   "outputs": [
    {
     "name": "stdout",
     "output_type": "stream",
     "text": [
      "{'data': {'origins': {'pageInfo': {'hasNextPage': True, 'endCursor': 'Mw=='}, 'edges': [{'node': {'url': 'https://github.com/hylang/hy'}}, {'node': {'url': 'https://github.com/torvalds/linux'}}]}}}\n"
     ]
    }
   ],
   "source": [
    "url = \"https://archive.softwareheritage.org/graphql/\"\n",
    "query = \"\"\"\n",
    "{\n",
    "  origins(first: 2) {\n",
    "    pageInfo {\n",
    "      hasNextPage\n",
    "        endCursor\n",
    "    }\n",
    "    edges {\n",
    "      node {\n",
    "        url\n",
    "      }\n",
    "    }\n",
    "  }\n",
    "}\n",
    "\"\"\"\n",
    "json = {\"query\" : query}\n",
    "headers = {}\n",
    "# api_token = \"your-api-token\"\n",
    "# headers = {'Authorization': 'Bearer %s' % api_token}\n",
    "r = requests.post(url=url, json=json, headers=headers)\n",
    "print (r.json())"
   ]
  },
  {
   "cell_type": "code",
   "execution_count": 1,
   "id": "424db07f-6e28-423f-8626-13e9cf86bf9d",
   "metadata": {},
   "outputs": [],
   "source": [
    "import grpc"
   ]
  },
  {
   "cell_type": "code",
   "execution_count": 5,
   "id": "922b0d6f-ce15-4f7a-b484-030d5fdde74c",
   "metadata": {},
   "outputs": [
    {
     "name": "stdout",
     "output_type": "stream",
     "text": [
      "WARNING:swh.core.sentry:Sentry DSN not provided, events will not be sent.\n",
      "Usage: swh graph rpc-serve [OPTIONS]\n",
      "Try 'swh graph rpc-serve -h' for help.\n",
      "\n",
      "Error: Missing option '--graph' / '-g'.\n"
     ]
    }
   ],
   "source": [
    "!swh graph rpc-serve"
   ]
  },
  {
   "cell_type": "code",
   "execution_count": 4,
   "id": "91bd4bb7-2d15-46e3-806a-015aac90f39b",
   "metadata": {},
   "outputs": [
    {
     "name": "stdout",
     "output_type": "stream",
     "text": [
      "Received an error when querying services endpoint.\n",
      "ServerReflectionInfo rpc failed. Error code: 14, message: failed to connect to all addresses; last error: UNKNOWN: Failed to connect to remote host: Connection refused, debug info: UNKNOWN:Failed to pick subchannel {file:\"/builddir/build/BUILD/grpc-1.48.4/src/core/ext/filters/client_channel/client_channel.cc\", file_line:3246, created_time:\"2024-07-17T10:54:55.494276671+02:00\", children:[UNKNOWN:failed to connect to all addresses; last error: UNKNOWN: Failed to connect to remote host: Connection refused {grpc_status:14, created_time:\"2024-07-17T10:54:55.494273492+02:00\", file_line:173, file:\"/builddir/build/BUILD/grpc-1.48.4/src/core/lib/transport/error_utils.cc\"}]}\n"
     ]
    }
   ],
   "source": [
    "!grpc_cli ls localhost:50091 swh.graph.TraversalService"
   ]
  },
  {
   "cell_type": "code",
   "execution_count": 7,
   "id": "4260600f-1691-4e61-8c3c-229bb0b0d996",
   "metadata": {},
   "outputs": [
    {
     "ename": "_InactiveRpcError",
     "evalue": "<_InactiveRpcError of RPC that terminated with:\n\tstatus = StatusCode.UNAVAILABLE\n\tdetails = \"DNS resolution failed for granet.internal.softwareheritage.org:50091: C-ares status is not ARES_SUCCESS qtype=A name=granet.internal.softwareheritage.org is_balancer=0: Domain name not found\"\n\tdebug_error_string = \"UNKNOWN:Error received from peer  {created_time:\"2024-07-17T10:58:20.932457685+02:00\", grpc_status:14, grpc_message:\"DNS resolution failed for granet.internal.softwareheritage.org:50091: C-ares status is not ARES_SUCCESS qtype=A name=granet.internal.softwareheritage.org is_balancer=0: Domain name not found\"}\"\n>",
     "output_type": "error",
     "traceback": [
      "\u001b[0;31m---------------------------------------------------------------------------\u001b[0m",
      "\u001b[0;31m_InactiveRpcError\u001b[0m                         Traceback (most recent call last)",
      "Cell \u001b[0;32mIn[7], line 8\u001b[0m\n\u001b[1;32m      6\u001b[0m \u001b[38;5;28;01mwith\u001b[39;00m grpc\u001b[38;5;241m.\u001b[39minsecure_channel(GRAPH_GRPC_SERVER) \u001b[38;5;28;01mas\u001b[39;00m channel:\n\u001b[1;32m      7\u001b[0m     stub \u001b[38;5;241m=\u001b[39m swhgraph_grpc\u001b[38;5;241m.\u001b[39mTraversalServiceStub(channel)\n\u001b[0;32m----> 8\u001b[0m     response \u001b[38;5;241m=\u001b[39m \u001b[43mstub\u001b[49m\u001b[38;5;241;43m.\u001b[39;49m\u001b[43mStats\u001b[49m\u001b[43m(\u001b[49m\u001b[43mswhgraph\u001b[49m\u001b[38;5;241;43m.\u001b[39;49m\u001b[43mStatsRequest\u001b[49m\u001b[43m(\u001b[49m\u001b[43m)\u001b[49m\u001b[43m)\u001b[49m\n\u001b[1;32m      9\u001b[0m     \u001b[38;5;28mprint\u001b[39m(response)\n\u001b[1;32m     10\u001b[0m     \u001b[38;5;28mprint\u001b[39m(\u001b[38;5;124m\"\u001b[39m\u001b[38;5;124mCompression ratio:\u001b[39m\u001b[38;5;124m\"\u001b[39m, response\u001b[38;5;241m.\u001b[39mcompression_ratio \u001b[38;5;241m*\u001b[39m \u001b[38;5;241m100\u001b[39m, \u001b[38;5;124m\"\u001b[39m\u001b[38;5;124m%\u001b[39m\u001b[38;5;124m\"\u001b[39m)\n",
      "File \u001b[0;32m~/.virtualenvs/swh/lib64/python3.12/site-packages/grpc/_channel.py:1181\u001b[0m, in \u001b[0;36m_UnaryUnaryMultiCallable.__call__\u001b[0;34m(self, request, timeout, metadata, credentials, wait_for_ready, compression)\u001b[0m\n\u001b[1;32m   1166\u001b[0m \u001b[38;5;28;01mdef\u001b[39;00m \u001b[38;5;21m__call__\u001b[39m(\n\u001b[1;32m   1167\u001b[0m     \u001b[38;5;28mself\u001b[39m,\n\u001b[1;32m   1168\u001b[0m     request: Any,\n\u001b[0;32m   (...)\u001b[0m\n\u001b[1;32m   1173\u001b[0m     compression: Optional[grpc\u001b[38;5;241m.\u001b[39mCompression] \u001b[38;5;241m=\u001b[39m \u001b[38;5;28;01mNone\u001b[39;00m,\n\u001b[1;32m   1174\u001b[0m ) \u001b[38;5;241m-\u001b[39m\u001b[38;5;241m>\u001b[39m Any:\n\u001b[1;32m   1175\u001b[0m     (\n\u001b[1;32m   1176\u001b[0m         state,\n\u001b[1;32m   1177\u001b[0m         call,\n\u001b[1;32m   1178\u001b[0m     ) \u001b[38;5;241m=\u001b[39m \u001b[38;5;28mself\u001b[39m\u001b[38;5;241m.\u001b[39m_blocking(\n\u001b[1;32m   1179\u001b[0m         request, timeout, metadata, credentials, wait_for_ready, compression\n\u001b[1;32m   1180\u001b[0m     )\n\u001b[0;32m-> 1181\u001b[0m     \u001b[38;5;28;01mreturn\u001b[39;00m \u001b[43m_end_unary_response_blocking\u001b[49m\u001b[43m(\u001b[49m\u001b[43mstate\u001b[49m\u001b[43m,\u001b[49m\u001b[43m \u001b[49m\u001b[43mcall\u001b[49m\u001b[43m,\u001b[49m\u001b[43m \u001b[49m\u001b[38;5;28;43;01mFalse\u001b[39;49;00m\u001b[43m,\u001b[49m\u001b[43m \u001b[49m\u001b[38;5;28;43;01mNone\u001b[39;49;00m\u001b[43m)\u001b[49m\n",
      "File \u001b[0;32m~/.virtualenvs/swh/lib64/python3.12/site-packages/grpc/_channel.py:1006\u001b[0m, in \u001b[0;36m_end_unary_response_blocking\u001b[0;34m(state, call, with_call, deadline)\u001b[0m\n\u001b[1;32m   1004\u001b[0m         \u001b[38;5;28;01mreturn\u001b[39;00m state\u001b[38;5;241m.\u001b[39mresponse\n\u001b[1;32m   1005\u001b[0m \u001b[38;5;28;01melse\u001b[39;00m:\n\u001b[0;32m-> 1006\u001b[0m     \u001b[38;5;28;01mraise\u001b[39;00m _InactiveRpcError(state)\n",
      "\u001b[0;31m_InactiveRpcError\u001b[0m: <_InactiveRpcError of RPC that terminated with:\n\tstatus = StatusCode.UNAVAILABLE\n\tdetails = \"DNS resolution failed for granet.internal.softwareheritage.org:50091: C-ares status is not ARES_SUCCESS qtype=A name=granet.internal.softwareheritage.org is_balancer=0: Domain name not found\"\n\tdebug_error_string = \"UNKNOWN:Error received from peer  {created_time:\"2024-07-17T10:58:20.932457685+02:00\", grpc_status:14, grpc_message:\"DNS resolution failed for granet.internal.softwareheritage.org:50091: C-ares status is not ARES_SUCCESS qtype=A name=granet.internal.softwareheritage.org is_balancer=0: Domain name not found\"}\"\n>"
     ]
    }
   ],
   "source": [
    "import swh.graph.grpc.swhgraph_pb2 as swhgraph\n",
    "import swh.graph.grpc.swhgraph_pb2_grpc as swhgraph_grpc\n",
    "\n",
    "GRAPH_GRPC_SERVER = \"granet.internal.softwareheritage.org:50091\"\n",
    "\n",
    "with grpc.insecure_channel(GRAPH_GRPC_SERVER) as channel:\n",
    "    stub = swhgraph_grpc.TraversalServiceStub(channel)\n",
    "    response = stub.Stats(swhgraph.StatsRequest())\n",
    "    print(response)\n",
    "    print(\"Compression ratio:\", response.compression_ratio * 100, \"%\")"
   ]
  },
  {
   "cell_type": "code",
   "execution_count": 1,
   "id": "5a2b8483-85ff-4592-aa1f-ad646ccdf1b6",
   "metadata": {},
   "outputs": [],
   "source": [
    "import numpy as np\n",
    "import pandas as pd\n",
    "import pyarrow as pa\n",
    "import pyarrow.parquet as pq"
   ]
  },
  {
   "cell_type": "code",
   "execution_count": 2,
   "id": "6c8dd127-a2a6-4a14-8a91-0b82ee17a2d0",
   "metadata": {},
   "outputs": [],
   "source": [
    "df = pd.DataFrame({'one': [-1, np.nan, 2.5],\n",
    "\n",
    "                   'two': ['foo', 'bar', 'baz'],\n",
    "\n",
    "                   'three': [True, False, True]},\n",
    "\n",
    "                   index=list('abc'))"
   ]
  },
  {
   "cell_type": "code",
   "execution_count": 3,
   "id": "1b1b6ca5-f647-40b0-a76d-a39357847dc4",
   "metadata": {},
   "outputs": [],
   "source": [
    "table = pa.Table.from_pandas(df)"
   ]
  },
  {
   "cell_type": "code",
   "execution_count": 4,
   "id": "cdf2b53f-978f-4f28-afef-cdba8bc4a256",
   "metadata": {},
   "outputs": [],
   "source": [
    "pq.write_table(table, 'example.parquet')"
   ]
  },
  {
   "cell_type": "code",
   "execution_count": 5,
   "id": "7c3d5f2e-1259-46ef-b891-a99e600c527e",
   "metadata": {},
   "outputs": [],
   "source": [
    "table2 = pq.read_table('example.parquet')"
   ]
  },
  {
   "cell_type": "code",
   "execution_count": 6,
   "id": "515da86d-cdeb-441b-9b64-a14a011272b2",
   "metadata": {},
   "outputs": [
    {
     "data": {
      "text/html": [
       "<div>\n",
       "<style scoped>\n",
       "    .dataframe tbody tr th:only-of-type {\n",
       "        vertical-align: middle;\n",
       "    }\n",
       "\n",
       "    .dataframe tbody tr th {\n",
       "        vertical-align: top;\n",
       "    }\n",
       "\n",
       "    .dataframe thead th {\n",
       "        text-align: right;\n",
       "    }\n",
       "</style>\n",
       "<table border=\"1\" class=\"dataframe\">\n",
       "  <thead>\n",
       "    <tr style=\"text-align: right;\">\n",
       "      <th></th>\n",
       "      <th>one</th>\n",
       "      <th>two</th>\n",
       "      <th>three</th>\n",
       "    </tr>\n",
       "  </thead>\n",
       "  <tbody>\n",
       "    <tr>\n",
       "      <th>a</th>\n",
       "      <td>-1.0</td>\n",
       "      <td>foo</td>\n",
       "      <td>True</td>\n",
       "    </tr>\n",
       "    <tr>\n",
       "      <th>b</th>\n",
       "      <td>NaN</td>\n",
       "      <td>bar</td>\n",
       "      <td>False</td>\n",
       "    </tr>\n",
       "    <tr>\n",
       "      <th>c</th>\n",
       "      <td>2.5</td>\n",
       "      <td>baz</td>\n",
       "      <td>True</td>\n",
       "    </tr>\n",
       "  </tbody>\n",
       "</table>\n",
       "</div>"
      ],
      "text/plain": [
       "   one  two  three\n",
       "a -1.0  foo   True\n",
       "b  NaN  bar  False\n",
       "c  2.5  baz   True"
      ]
     },
     "execution_count": 6,
     "metadata": {},
     "output_type": "execute_result"
    }
   ],
   "source": [
    "table2.to_pandas()"
   ]
  },
  {
   "cell_type": "code",
   "execution_count": 8,
   "id": "6ab1dab6-77f5-440e-be7b-a308a0b9fe47",
   "metadata": {},
   "outputs": [
    {
     "data": {
      "text/plain": [
       "pyarrow.Table\n",
       "one: double\n",
       "three: bool\n",
       "----\n",
       "one: [[-1,null,2.5]]\n",
       "three: [[true,false,true]]"
      ]
     },
     "execution_count": 8,
     "metadata": {},
     "output_type": "execute_result"
    }
   ],
   "source": [
    "pq.read_table('example.parquet', columns=['one', 'three'])"
   ]
  },
  {
   "cell_type": "code",
   "execution_count": 9,
   "id": "dce95e92-d07d-43bb-b7e5-383481fbba57",
   "metadata": {},
   "outputs": [
    {
     "data": {
      "text/html": [
       "<div>\n",
       "<style scoped>\n",
       "    .dataframe tbody tr th:only-of-type {\n",
       "        vertical-align: middle;\n",
       "    }\n",
       "\n",
       "    .dataframe tbody tr th {\n",
       "        vertical-align: top;\n",
       "    }\n",
       "\n",
       "    .dataframe thead th {\n",
       "        text-align: right;\n",
       "    }\n",
       "</style>\n",
       "<table border=\"1\" class=\"dataframe\">\n",
       "  <thead>\n",
       "    <tr style=\"text-align: right;\">\n",
       "      <th></th>\n",
       "      <th>two</th>\n",
       "    </tr>\n",
       "  </thead>\n",
       "  <tbody>\n",
       "    <tr>\n",
       "      <th>a</th>\n",
       "      <td>foo</td>\n",
       "    </tr>\n",
       "    <tr>\n",
       "      <th>b</th>\n",
       "      <td>bar</td>\n",
       "    </tr>\n",
       "    <tr>\n",
       "      <th>c</th>\n",
       "      <td>baz</td>\n",
       "    </tr>\n",
       "  </tbody>\n",
       "</table>\n",
       "</div>"
      ],
      "text/plain": [
       "   two\n",
       "a  foo\n",
       "b  bar\n",
       "c  baz"
      ]
     },
     "execution_count": 9,
     "metadata": {},
     "output_type": "execute_result"
    }
   ],
   "source": [
    "pq.read_pandas('example.parquet', columns=['two']).to_pandas()"
   ]
  },
  {
   "cell_type": "code",
   "execution_count": 18,
   "id": "0e322cff-b503-4ac5-8685-eae4f2ebc6dd",
   "metadata": {},
   "outputs": [],
   "source": [
    "import pathlib"
   ]
  },
  {
   "cell_type": "code",
   "execution_count": 10,
   "id": "7288a323-44ce-488f-a1ef-486832961c50",
   "metadata": {},
   "outputs": [],
   "source": [
    "import pyarrow.dataset as ds"
   ]
  },
  {
   "cell_type": "code",
   "execution_count": 16,
   "id": "c005be48-38a3-4eb5-a217-3b758d014044",
   "metadata": {},
   "outputs": [],
   "source": [
    "basepath = \"/home/matay/2019-01-28-popular-4k/parquet/\""
   ]
  },
  {
   "cell_type": "code",
   "execution_count": 20,
   "id": "5f6091ff-e87c-4367-a921-696efdab6b41",
   "metadata": {},
   "outputs": [],
   "source": [
    "base = pathlib.Path(base)"
   ]
  },
  {
   "cell_type": "code",
   "execution_count": 22,
   "id": "a80c6c88-69b0-4f9a-adb5-b7264c4b4681",
   "metadata": {},
   "outputs": [],
   "source": [
    "dataset = ds.dataset(base / \"content.parquet\", format=\"parquet\")"
   ]
  },
  {
   "cell_type": "code",
   "execution_count": 23,
   "id": "c26eda09-9578-4467-9912-c7fd6c95a0a9",
   "metadata": {},
   "outputs": [
    {
     "data": {
      "text/plain": [
       "<pyarrow._dataset.FileSystemDataset at 0x7f0475755840>"
      ]
     },
     "execution_count": 23,
     "metadata": {},
     "output_type": "execute_result"
    }
   ],
   "source": [
    "dataset"
   ]
  },
  {
   "cell_type": "code",
   "execution_count": 24,
   "id": "63169fe5-97b5-44c9-9a39-45d49d128659",
   "metadata": {},
   "outputs": [
    {
     "data": {
      "text/plain": [
       "['/home/matay/2019-01-28-popular-4k/parquet/content.parquet']"
      ]
     },
     "execution_count": 24,
     "metadata": {},
     "output_type": "execute_result"
    }
   ],
   "source": [
    "dataset.files"
   ]
  },
  {
   "cell_type": "code",
   "execution_count": 26,
   "id": "cdafbf00-25ec-4ff9-a435-d12d093fe1a9",
   "metadata": {},
   "outputs": [
    {
     "name": "stdout",
     "output_type": "stream",
     "text": [
      "sha1: binary\n",
      "sha1_git: binary\n",
      "length: int64\n",
      "__index_level_0__: int64\n",
      "-- schema metadata --\n",
      "org.apache.spark.sql.parquet.row.metadata: '{\"type\":\"struct\",\"fields\":[{\"' + 262\n"
     ]
    }
   ],
   "source": [
    "print(dataset.schema.to_string(show_field_metadata=True))"
   ]
  },
  {
   "cell_type": "code",
   "execution_count": 27,
   "id": "8561222d-2db9-4205-83cf-aac5f25688dc",
   "metadata": {},
   "outputs": [
    {
     "data": {
      "text/plain": [
       "pyarrow.Table\n",
       "sha1: binary\n",
       "sha1_git: binary\n",
       "length: int64\n",
       "__index_level_0__: int64\n",
       "----\n",
       "sha1: [[606E2D00B96C69EF977FBF62DB4F795F7B67FA9F,65B048C62B17E27ED430B7DB22451B0D287959EB,3B4B4FF36DF80F2046290F2C81CAFB73A211A611,65FE2A9BE38332BD327EC894780FA0C57DBA5C61,4F206D1326830E0BC9BBA420F6BC0283ABA41C81,...,F8EE4A55B06D592B8451894E99261CA64EA202C1,1262E90F8A7200D6E93C215474BC300A593C41D6,D63A76C42CC7A664C9753D963211E16317D671CD,37E822CA61FD82A61BCFA29054D383C87D3B634B,2ECCC424EC36DEB950179C464AA26A3461F062E5],[9B608A2DCBBB689219940C87240C5BAAFD395A87,EE6F61E7EE3BA3C03621D7588D02F7C26FDD138D,D78601B7C853D2777725E0857AB10FEDFA926D84,919C68E20450294BC8F81A5D90E8EB09AC4A95F3,2EB7E316E876C9FCF83AC5C0EFD95C81DABA93BE,...,34557A219B556BE0052D8ADD55CF18CC5E8E8D89,08283F0961B43625B374BFFB5897D53C024FC87D,01C25D0E9A4AFE849B888E94EDFCF8559E028973,7EDDA6F4A03F71B91BE681B02637AC4FDB1F047D,94BF40A7DEC32A84EAEF98983D54456B7604C925],...,[39153644A81B3DABE25CB17B5706E714BA053486,0CE9C25A822E9BF5EA8A45B369B7AF18AE6A0277,8B62455D4ADB4C9A277A608DBACDC846577D39B0,775F9CEF90D2B11E44A03B83F42813A93316A884,0D010BC89750D5C16C9346078AB2B73B1F99E14F,...,807E70DAEE250F88E372BA26D0732FAA3A7D4D3F,4B7050440F8A03AE90EFE42FE21C72EE6CB419B8,96B38BA0F6212DCF14D5FB445BD0235DF9572A87,9704982D2BCCD8027A0EB149B2F0DD78FF65A4BF,18C708FCED07C1C04F595685C52AF77639D64FFA],[41B8B47E79AE629D2CCA205210B20B47052F2E30,F9DA02D745C45F35C63BF8FC6A5B9341E5B6A708,E2A5B5E8B0B71E2272456FB5FE1F94D717E66328,DD8DF049849FB20593BA583D84AA64F4F9122E95,42DD6A909937906D7A0AE768C444B059F0521243,...,0A74A7C39C2B223557963B038C4B9B0490640AEA,1A3065BAEA4DF9CC1D5FE43A6F68120710DD24BE,F4224446D0E2C8A8F8FCECD1DB8FE9437ABCD2FA,25DAF9012F13D97C17EDB0DDF46261151C7677B2,6F05FC53B739DCBD9A873B4402C5262E5C6FB9F9]]\n",
       "sha1_git: [[00048D34682E61116A7520731DD9A709AA573217,0054727EDB416553F54248E8A04046AD89DED257,007CAA00E84CC6084F1B7941C472BAAA8AFB4EDC,009C85ADAE4C5036BE4351C2BD020753AF5BEFC5,0155CD2218EDCA852B20B2E092D70EF3CD522388,...,79EB492303D1D3109A2E84BB9619E01205CD114A,7ACCB5223DD5F8E1A1D8496ADC17E3ADE5D3FC22,7AD0376426393F55E8257CA145FCB69C3FA9492D,7B7DEB3AA6FC82FD110E1E30BB7E968E551A431E,7BC74FC24EB79F03742BF46F2814089391C10770],[7C5FF226501256893521A8A53E5A6A0C6D7657CF,7C85A436529E4EE875F53F2AD344A916CE2E199C,7CD245E6A905787D8C51E32B41F2B7C041CF66B4,7E0323CC0B7DEF209546AF2DD99D1B26F7D2B53D,7E0D59236D55A156AC1D66E54A3D99E5EFE5AD15,...,FE22153D2EBCC9E88FD3371340A47DBAC41618B3,FE49D4D16B61C49FE894F557AE43A97790A7C8A2,FEB6D0CC2AF66B10D1E9C1DC2BAB86E724F74EAB,FEC57B33C325BA3DCEB7B2F75AB838365A8D81B6,FFFFF7F80600407786A34670FEE81EADA588B845],...,[0025DE472A8D40FE5EA78DCD2D6FD25B5442E159,00AFD9CBC08085E7A5F8F20765B1D6BBE7ABEC3C,01E2B4F1512E53D438877ACD0A473883ED983B80,01E5B7025E5B755F45EA3FFF23600B6D8E599DFB,0237FC2ADE3DFDF681EEA3737C2B95636597EFEF,...,4EA04150D85DD82F171CD62B3AD3676C7E0A57DF,4EC5CA0EEDB30025B7B732C319655BD4D0A1C44B,4EEA200C23A1A0B67D32CE0189E6A7C2E4CB4F3D,4EF2545D0AAF968093DAC8C9A384272E8BBE4C12,4EFC5038ED29B310205C680E12E75DE76161DC46],[4F278AEA9C521A445DF8D35D1848BBC8E51B3E0F,4F533267FF440B0F639FDCD8A2DE98FE8EF4474B,4FEAB38C4F12F65D6C354CC4794DAFDC1B00E768,5038FBD01B01A8253A9F6F3036F243FE533CC77D,506EAC88B8B9523B654CBF0B7C446922E1A9EB62,...,FF3A6A508728825DDF480A5810DAC0B44C14EEC0,FF695C43A91ABCDA17AD92F6A412B7D0A3E7BF36,FFB905CDD8E061EF69F08E8F9AF0A9296DC6EC63,FFC4D3AE53DE3079481751ACB81C297DB8E42E86,FFF240E1332D9CA92341E2B63B468AF1C1BBD4C7]]\n",
       "length: [[68077,937,1333,134628,104076,...,7479,981,795,163439,6338],[10904,12732,44,33070,1693,...,20530,18870,96,2529,102869],...,[1708,24716,9094,12360,710,...,282,3334,2119,421925,10986],[675,6416,93730,28055,869,...,193386,701,16517,19654,10344]]\n",
       "__index_level_0__: [[9468,8169,4830,4783,2043,...,8268,2502,6215,9012,153],[3957,6717,8823,1588,2500,...,9767,3252,1828,5563,9727],...,[6653,2785,5583,227,5304,...,1266,7936,7559,3606,3103],[3884,6787,4552,7234,2706,...,5359,4765,5433,9162,1189]]"
      ]
     },
     "execution_count": 27,
     "metadata": {},
     "output_type": "execute_result"
    }
   ],
   "source": [
    "dataset.to_table()"
   ]
  },
  {
   "cell_type": "code",
   "execution_count": 28,
   "id": "2e882469-c619-4b78-be51-271caae80b8b",
   "metadata": {},
   "outputs": [
    {
     "data": {
      "text/html": [
       "<div>\n",
       "<style scoped>\n",
       "    .dataframe tbody tr th:only-of-type {\n",
       "        vertical-align: middle;\n",
       "    }\n",
       "\n",
       "    .dataframe tbody tr th {\n",
       "        vertical-align: top;\n",
       "    }\n",
       "\n",
       "    .dataframe thead th {\n",
       "        text-align: right;\n",
       "    }\n",
       "</style>\n",
       "<table border=\"1\" class=\"dataframe\">\n",
       "  <thead>\n",
       "    <tr style=\"text-align: right;\">\n",
       "      <th></th>\n",
       "      <th>sha1</th>\n",
       "      <th>sha1_git</th>\n",
       "      <th>length</th>\n",
       "      <th>__index_level_0__</th>\n",
       "    </tr>\n",
       "  </thead>\n",
       "  <tbody>\n",
       "    <tr>\n",
       "      <th>0</th>\n",
       "      <td>b'`n-\\x00\\xb9li\\xef\\x97\\x7f\\xbfb\\xdbOy_{g\\xfa\\...</td>\n",
       "      <td>b'\\x00\\x04\\x8d4h.a\\x11ju s\\x1d\\xd9\\xa7\\t\\xaaW2...</td>\n",
       "      <td>68077</td>\n",
       "      <td>9468</td>\n",
       "    </tr>\n",
       "    <tr>\n",
       "      <th>1</th>\n",
       "      <td>b'e\\xb0H\\xc6+\\x17\\xe2~\\xd40\\xb7\\xdb\"E\\x1b\\r(yY...</td>\n",
       "      <td>b'\\x00Tr~\\xdbAeS\\xf5BH\\xe8\\xa0@F\\xad\\x89\\xde\\x...</td>\n",
       "      <td>937</td>\n",
       "      <td>8169</td>\n",
       "    </tr>\n",
       "    <tr>\n",
       "      <th>2</th>\n",
       "      <td>b';KO\\xf3m\\xf8\\x0f F)\\x0f,\\x81\\xca\\xfbs\\xa2\\x1...</td>\n",
       "      <td>b'\\x00|\\xaa\\x00\\xe8L\\xc6\\x08O\\x1byA\\xc4r\\xba\\x...</td>\n",
       "      <td>1333</td>\n",
       "      <td>4830</td>\n",
       "    </tr>\n",
       "    <tr>\n",
       "      <th>3</th>\n",
       "      <td>b'e\\xfe*\\x9b\\xe3\\x832\\xbd2~\\xc8\\x94x\\x0f\\xa0\\x...</td>\n",
       "      <td>b'\\x00\\x9c\\x85\\xad\\xaeLP6\\xbeCQ\\xc2\\xbd\\x02\\x0...</td>\n",
       "      <td>134628</td>\n",
       "      <td>4783</td>\n",
       "    </tr>\n",
       "    <tr>\n",
       "      <th>4</th>\n",
       "      <td>b'O m\\x13&amp;\\x83\\x0e\\x0b\\xc9\\xbb\\xa4 \\xf6\\xbc\\x0...</td>\n",
       "      <td>b'\\x01U\\xcd\"\\x18\\xed\\xca\\x85+ \\xb2\\xe0\\x92\\xd7...</td>\n",
       "      <td>104076</td>\n",
       "      <td>2043</td>\n",
       "    </tr>\n",
       "    <tr>\n",
       "      <th>...</th>\n",
       "      <td>...</td>\n",
       "      <td>...</td>\n",
       "      <td>...</td>\n",
       "      <td>...</td>\n",
       "    </tr>\n",
       "    <tr>\n",
       "      <th>33089391</th>\n",
       "      <td>b'\\nt\\xa7\\xc3\\x9c+\"5W\\x96;\\x03\\x8cK\\x9b\\x04\\x9...</td>\n",
       "      <td>b'\\xff:jP\\x87(\\x82]\\xdfH\\nX\\x10\\xda\\xc0\\xb4L\\x...</td>\n",
       "      <td>193386</td>\n",
       "      <td>5359</td>\n",
       "    </tr>\n",
       "    <tr>\n",
       "      <th>33089392</th>\n",
       "      <td>b'\\x1a0e\\xba\\xeaM\\xf9\\xcc\\x1d_\\xe4:oh\\x12\\x07\\...</td>\n",
       "      <td>b'\\xffi\\\\C\\xa9\\x1a\\xbc\\xda\\x17\\xad\\x92\\xf6\\xa4...</td>\n",
       "      <td>701</td>\n",
       "      <td>4765</td>\n",
       "    </tr>\n",
       "    <tr>\n",
       "      <th>33089393</th>\n",
       "      <td>b'\\xf4\"DF\\xd0\\xe2\\xc8\\xa8\\xf8\\xfc\\xec\\xd1\\xdb\\...</td>\n",
       "      <td>b'\\xff\\xb9\\x05\\xcd\\xd8\\xe0a\\xefi\\xf0\\x8e\\x8f\\x...</td>\n",
       "      <td>16517</td>\n",
       "      <td>5433</td>\n",
       "    </tr>\n",
       "    <tr>\n",
       "      <th>33089394</th>\n",
       "      <td>b'%\\xda\\xf9\\x01/\\x13\\xd9|\\x17\\xed\\xb0\\xdd\\xf4b...</td>\n",
       "      <td>b'\\xff\\xc4\\xd3\\xaeS\\xde0yH\\x17Q\\xac\\xb8\\x1c)}\\...</td>\n",
       "      <td>19654</td>\n",
       "      <td>9162</td>\n",
       "    </tr>\n",
       "    <tr>\n",
       "      <th>33089395</th>\n",
       "      <td>b'o\\x05\\xfcS\\xb79\\xdc\\xbd\\x9a\\x87;D\\x02\\xc5&amp;.\\...</td>\n",
       "      <td>b'\\xff\\xf2@\\xe13-\\x9c\\xa9#A\\xe2\\xb6;F\\x8a\\xf1\\...</td>\n",
       "      <td>10344</td>\n",
       "      <td>1189</td>\n",
       "    </tr>\n",
       "  </tbody>\n",
       "</table>\n",
       "<p>33089396 rows × 4 columns</p>\n",
       "</div>"
      ],
      "text/plain": [
       "                                                       sha1  \\\n",
       "0         b'`n-\\x00\\xb9li\\xef\\x97\\x7f\\xbfb\\xdbOy_{g\\xfa\\...   \n",
       "1         b'e\\xb0H\\xc6+\\x17\\xe2~\\xd40\\xb7\\xdb\"E\\x1b\\r(yY...   \n",
       "2         b';KO\\xf3m\\xf8\\x0f F)\\x0f,\\x81\\xca\\xfbs\\xa2\\x1...   \n",
       "3         b'e\\xfe*\\x9b\\xe3\\x832\\xbd2~\\xc8\\x94x\\x0f\\xa0\\x...   \n",
       "4         b'O m\\x13&\\x83\\x0e\\x0b\\xc9\\xbb\\xa4 \\xf6\\xbc\\x0...   \n",
       "...                                                     ...   \n",
       "33089391  b'\\nt\\xa7\\xc3\\x9c+\"5W\\x96;\\x03\\x8cK\\x9b\\x04\\x9...   \n",
       "33089392  b'\\x1a0e\\xba\\xeaM\\xf9\\xcc\\x1d_\\xe4:oh\\x12\\x07\\...   \n",
       "33089393  b'\\xf4\"DF\\xd0\\xe2\\xc8\\xa8\\xf8\\xfc\\xec\\xd1\\xdb\\...   \n",
       "33089394  b'%\\xda\\xf9\\x01/\\x13\\xd9|\\x17\\xed\\xb0\\xdd\\xf4b...   \n",
       "33089395  b'o\\x05\\xfcS\\xb79\\xdc\\xbd\\x9a\\x87;D\\x02\\xc5&.\\...   \n",
       "\n",
       "                                                   sha1_git  length  \\\n",
       "0         b'\\x00\\x04\\x8d4h.a\\x11ju s\\x1d\\xd9\\xa7\\t\\xaaW2...   68077   \n",
       "1         b'\\x00Tr~\\xdbAeS\\xf5BH\\xe8\\xa0@F\\xad\\x89\\xde\\x...     937   \n",
       "2         b'\\x00|\\xaa\\x00\\xe8L\\xc6\\x08O\\x1byA\\xc4r\\xba\\x...    1333   \n",
       "3         b'\\x00\\x9c\\x85\\xad\\xaeLP6\\xbeCQ\\xc2\\xbd\\x02\\x0...  134628   \n",
       "4         b'\\x01U\\xcd\"\\x18\\xed\\xca\\x85+ \\xb2\\xe0\\x92\\xd7...  104076   \n",
       "...                                                     ...     ...   \n",
       "33089391  b'\\xff:jP\\x87(\\x82]\\xdfH\\nX\\x10\\xda\\xc0\\xb4L\\x...  193386   \n",
       "33089392  b'\\xffi\\\\C\\xa9\\x1a\\xbc\\xda\\x17\\xad\\x92\\xf6\\xa4...     701   \n",
       "33089393  b'\\xff\\xb9\\x05\\xcd\\xd8\\xe0a\\xefi\\xf0\\x8e\\x8f\\x...   16517   \n",
       "33089394  b'\\xff\\xc4\\xd3\\xaeS\\xde0yH\\x17Q\\xac\\xb8\\x1c)}\\...   19654   \n",
       "33089395  b'\\xff\\xf2@\\xe13-\\x9c\\xa9#A\\xe2\\xb6;F\\x8a\\xf1\\...   10344   \n",
       "\n",
       "          __index_level_0__  \n",
       "0                      9468  \n",
       "1                      8169  \n",
       "2                      4830  \n",
       "3                      4783  \n",
       "4                      2043  \n",
       "...                     ...  \n",
       "33089391               5359  \n",
       "33089392               4765  \n",
       "33089393               5433  \n",
       "33089394               9162  \n",
       "33089395               1189  \n",
       "\n",
       "[33089396 rows x 4 columns]"
      ]
     },
     "execution_count": 28,
     "metadata": {},
     "output_type": "execute_result"
    }
   ],
   "source": [
    "dataset.to_table().to_pandas()"
   ]
  },
  {
   "cell_type": "code",
   "execution_count": null,
   "id": "5a561b5a-674c-44f6-9654-7b3e7f0138e6",
   "metadata": {},
   "outputs": [],
   "source": [
    "dataset.to_table().to_pandas().head()"
   ]
  },
  {
   "cell_type": "code",
   "execution_count": 1,
   "id": "61e2d46b-a668-4102-a0da-148f0df2394f",
   "metadata": {},
   "outputs": [],
   "source": [
    "from swh.web.client.client import WebAPIClient"
   ]
  },
  {
   "cell_type": "code",
   "execution_count": null,
   "id": "0df13d65-b5cc-4c13-8510-22e3ac3dbdb1",
   "metadata": {},
   "outputs": [],
   "source": [
    "# Use \"swh auth generate-token\" command to get it\n"
   ]
  },
  {
   "cell_type": "code",
   "execution_count": 2,
   "id": "d7f8659d-affe-42fd-8a66-84e895d7b1ba",
   "metadata": {},
   "outputs": [],
   "source": [
    "TOKEN = 'eyJhbGciOiJIUzI1NiIsInR5cCIgOiAiSldUIiwia2lkIiA6ICJhMTMxYTQ1My1hM2IyLTQwMTUtODQ2Ny05MzAyZjk3MTFkOGEifQ.eyJpYXQiOjE3MjEyMTkzMzYsImp0aSI6IjBlMjU5MTIwLWE5ODItNDhmYy04ZDcwLTZhYjBjY2NlNjFkMSIsImlzcyI6Imh0dHBzOi8vYXV0aC5zb2Z0d2FyZWhlcml0YWdlLm9yZy9hdXRoL3JlYWxtcy9Tb2Z0d2FyZUhlcml0YWdlIiwiYXVkIjoiaHR0cHM6Ly9hdXRoLnNvZnR3YXJlaGVyaXRhZ2Uub3JnL2F1dGgvcmVhbG1zL1NvZnR3YXJlSGVyaXRhZ2UiLCJzdWIiOiJhMDVjZGMwMS02NmQzLTRmYWYtYjk3MC1jNTQ1NjllN2RlMTQiLCJ0eXAiOiJPZmZsaW5lIiwiYXpwIjoic3doLXdlYiIsInNlc3Npb25fc3RhdGUiOiI4MzBlY2E2OC01OGZmLTQzZTAtOGVkZS0yYzFkNWMzOWQ3OWYiLCJzY29wZSI6Im9wZW5pZCBvZmZsaW5lX2FjY2VzcyBwcm9maWxlIGVtYWlsIn0.sIWvMWyMXyugxNvJw_3kiVUvSBpT4my5LHBJ-lXeHCo'  "
   ]
  },
  {
   "cell_type": "code",
   "execution_count": 3,
   "id": "5d718b37-7bf4-4c52-9b5e-6187038bb398",
   "metadata": {},
   "outputs": [],
   "source": [
    "client = WebAPIClient(bearer_token=TOKEN)"
   ]
  },
  {
   "cell_type": "code",
   "execution_count": 4,
   "id": "70a89424-5fa6-45b6-9b3f-7da4537a2194",
   "metadata": {},
   "outputs": [],
   "source": [
    "resp = client.get('swh:1:rev:aafb16d69fd30ff58afdd69036a26047f3aebdc6')"
   ]
  },
  {
   "cell_type": "code",
   "execution_count": 5,
   "id": "c3e14498-9bf9-402e-bb38-6dc9fdb503a7",
   "metadata": {},
   "outputs": [
    {
     "name": "stdout",
     "output_type": "stream",
     "text": [
      "{'message': \"Merge branch 'master' into pr/584\\n\", 'author': {'fullname': 'Nicolas Dandrimont <nicolas.dandrimont@crans.org>', 'name': 'Nicolas Dandrimont', 'email': 'nicolas.dandrimont@crans.org'}, 'committer': {'fullname': 'Nicolas Dandrimont <nicolas.dandrimont@crans.org>', 'name': 'Nicolas Dandrimont', 'email': 'nicolas.dandrimont@crans.org'}, 'date': datetime.datetime(2014, 8, 18, 18, 18, 25, tzinfo=tzoffset(None, 7200)), 'committer_date': datetime.datetime(2014, 8, 18, 18, 18, 25, tzinfo=tzoffset(None, 7200)), 'type': 'git', 'directory': CoreSWHID.from_string('swh:1:dir:9f2e5898e00a66e6ac11033959d7e05b1593353b'), 'synthetic': False, 'metadata': {}, 'parents': [{'id': CoreSWHID.from_string('swh:1:rev:26307d261279861c2d9c9eca3bb38519f951bea4'), 'url': 'https://archive.softwareheritage.org/api/1/revision/26307d261279861c2d9c9eca3bb38519f951bea4/'}, {'id': CoreSWHID.from_string('swh:1:rev:37fc9e08d0c4b71807a4f1ecb06112e78d91c283'), 'url': 'https://archive.softwareheritage.org/api/1/revision/37fc9e08d0c4b71807a4f1ecb06112e78d91c283/'}], 'id': CoreSWHID.from_string('swh:1:rev:aafb16d69fd30ff58afdd69036a26047f3aebdc6'), 'extra_headers': [], 'merge': True, 'url': 'https://archive.softwareheritage.org/api/1/revision/aafb16d69fd30ff58afdd69036a26047f3aebdc6/', 'history_url': 'https://archive.softwareheritage.org/api/1/revision/aafb16d69fd30ff58afdd69036a26047f3aebdc6/log/', 'directory_url': 'https://archive.softwareheritage.org/api/1/directory/9f2e5898e00a66e6ac11033959d7e05b1593353b/'}\n"
     ]
    }
   ],
   "source": [
    "print(resp)"
   ]
  },
  {
   "cell_type": "code",
   "execution_count": 6,
   "id": "437cfc8b-de36-4d19-8f91-d3ffd197fb1a",
   "metadata": {},
   "outputs": [],
   "source": [
    "from swh.search.api.client import RemoteSearch"
   ]
  },
  {
   "cell_type": "code",
   "execution_count": 12,
   "id": "0c3ac41c-3215-4d2c-8473-78feaec049b5",
   "metadata": {},
   "outputs": [
    {
     "name": "stdout",
     "output_type": "stream",
     "text": [
      "<RemoteSearch url=spm12/>\n"
     ]
    }
   ],
   "source": [
    "print(search)"
   ]
  },
  {
   "cell_type": "code",
   "execution_count": 7,
   "id": "801d4fe7-9f01-4b54-b62b-62b246f59ea3",
   "metadata": {},
   "outputs": [
    {
     "ename": "ModuleNotFoundError",
     "evalue": "No module named 'pandasql'",
     "output_type": "error",
     "traceback": [
      "\u001b[0;31m---------------------------------------------------------------------------\u001b[0m",
      "\u001b[0;31mModuleNotFoundError\u001b[0m                       Traceback (most recent call last)",
      "Cell \u001b[0;32mIn[7], line 1\u001b[0m\n\u001b[0;32m----> 1\u001b[0m \u001b[38;5;28;01mfrom\u001b[39;00m \u001b[38;5;21;01mpandasql\u001b[39;00m \u001b[38;5;28;01mimport\u001b[39;00m sqldf\n",
      "\u001b[0;31mModuleNotFoundError\u001b[0m: No module named 'pandasql'"
     ]
    }
   ],
   "source": [
    "from pandasql import sqldf\n"
   ]
  },
  {
   "cell_type": "code",
   "execution_count": 3,
   "id": "1a5b814f-27a9-42c6-90de-49e309fecbed",
   "metadata": {},
   "outputs": [],
   "source": [
    "import psycopg2"
   ]
  },
  {
   "cell_type": "code",
   "execution_count": 5,
   "id": "f8a4a643-b517-415b-86a6-e32da0d3ea98",
   "metadata": {},
   "outputs": [
    {
     "ename": "OperationalError",
     "evalue": "connection to server at \"localhost\" (::1), port 5432 failed: FATAL:  Ident authentication failed for user \"postgres\"\n",
     "output_type": "error",
     "traceback": [
      "\u001b[0;31m---------------------------------------------------------------------------\u001b[0m",
      "\u001b[0;31mOperationalError\u001b[0m                          Traceback (most recent call last)",
      "Cell \u001b[0;32mIn[5], line 1\u001b[0m\n\u001b[0;32m----> 1\u001b[0m conn \u001b[38;5;241m=\u001b[39m \u001b[43mpsycopg2\u001b[49m\u001b[38;5;241;43m.\u001b[39;49m\u001b[43mconnect\u001b[49m\u001b[43m(\u001b[49m\u001b[43mdatabase\u001b[49m\u001b[38;5;241;43m=\u001b[39;49m\u001b[38;5;124;43m\"\u001b[39;49m\u001b[38;5;124;43mdb_name\u001b[39;49m\u001b[38;5;124;43m\"\u001b[39;49m\u001b[43m,\u001b[49m\n\u001b[1;32m      2\u001b[0m \u001b[43m                        \u001b[49m\u001b[43mhost\u001b[49m\u001b[38;5;241;43m=\u001b[39;49m\u001b[38;5;124;43m\"\u001b[39;49m\u001b[38;5;124;43mlocalhost\u001b[39;49m\u001b[38;5;124;43m\"\u001b[39;49m\u001b[43m,\u001b[49m\n\u001b[1;32m      3\u001b[0m \u001b[43m                        \u001b[49m\u001b[43muser\u001b[49m\u001b[38;5;241;43m=\u001b[39;49m\u001b[38;5;124;43m\"\u001b[39;49m\u001b[38;5;124;43mpostgres\u001b[39;49m\u001b[38;5;124;43m\"\u001b[39;49m\u001b[43m,\u001b[49m\n\u001b[1;32m      4\u001b[0m \u001b[43m                        \u001b[49m\u001b[43mpassword\u001b[49m\u001b[38;5;241;43m=\u001b[39;49m\u001b[38;5;124;43m\"\u001b[39;49m\u001b[38;5;124;43m1254\u001b[39;49m\u001b[38;5;124;43m\"\u001b[39;49m\u001b[43m,\u001b[49m\n\u001b[1;32m      5\u001b[0m \u001b[43m                        \u001b[49m\u001b[43mport\u001b[49m\u001b[38;5;241;43m=\u001b[39;49m\u001b[38;5;124;43m\"\u001b[39;49m\u001b[38;5;124;43m5432\u001b[39;49m\u001b[38;5;124;43m\"\u001b[39;49m\u001b[43m)\u001b[49m\n",
      "File \u001b[0;32m~/.virtualenvs/swh/lib64/python3.12/site-packages/psycopg2/__init__.py:122\u001b[0m, in \u001b[0;36mconnect\u001b[0;34m(dsn, connection_factory, cursor_factory, **kwargs)\u001b[0m\n\u001b[1;32m    119\u001b[0m     kwasync[\u001b[38;5;124m'\u001b[39m\u001b[38;5;124masync_\u001b[39m\u001b[38;5;124m'\u001b[39m] \u001b[38;5;241m=\u001b[39m kwargs\u001b[38;5;241m.\u001b[39mpop(\u001b[38;5;124m'\u001b[39m\u001b[38;5;124masync_\u001b[39m\u001b[38;5;124m'\u001b[39m)\n\u001b[1;32m    121\u001b[0m dsn \u001b[38;5;241m=\u001b[39m _ext\u001b[38;5;241m.\u001b[39mmake_dsn(dsn, \u001b[38;5;241m*\u001b[39m\u001b[38;5;241m*\u001b[39mkwargs)\n\u001b[0;32m--> 122\u001b[0m conn \u001b[38;5;241m=\u001b[39m \u001b[43m_connect\u001b[49m\u001b[43m(\u001b[49m\u001b[43mdsn\u001b[49m\u001b[43m,\u001b[49m\u001b[43m \u001b[49m\u001b[43mconnection_factory\u001b[49m\u001b[38;5;241;43m=\u001b[39;49m\u001b[43mconnection_factory\u001b[49m\u001b[43m,\u001b[49m\u001b[43m \u001b[49m\u001b[38;5;241;43m*\u001b[39;49m\u001b[38;5;241;43m*\u001b[39;49m\u001b[43mkwasync\u001b[49m\u001b[43m)\u001b[49m\n\u001b[1;32m    123\u001b[0m \u001b[38;5;28;01mif\u001b[39;00m cursor_factory \u001b[38;5;129;01mis\u001b[39;00m \u001b[38;5;129;01mnot\u001b[39;00m \u001b[38;5;28;01mNone\u001b[39;00m:\n\u001b[1;32m    124\u001b[0m     conn\u001b[38;5;241m.\u001b[39mcursor_factory \u001b[38;5;241m=\u001b[39m cursor_factory\n",
      "\u001b[0;31mOperationalError\u001b[0m: connection to server at \"localhost\" (::1), port 5432 failed: FATAL:  Ident authentication failed for user \"postgres\"\n"
     ]
    }
   ],
   "source": [
    "conn = psycopg2.connect(database=\"db_name\",\n",
    "                        host=\"localhost\",\n",
    "                        user=\"postgres\",\n",
    "                        password=\"1254\",\n",
    "                        port=\"5432\")"
   ]
  },
  {
   "cell_type": "code",
   "execution_count": null,
   "id": "850b405b-3ea7-49ac-b7c6-7ebac8ee9182",
   "metadata": {},
   "outputs": [],
   "source": []
  }
 ],
 "metadata": {
  "kernelspec": {
   "display_name": "Python 3 (ipykernel)",
   "language": "python",
   "name": "python3"
  },
  "language_info": {
   "codemirror_mode": {
    "name": "ipython",
    "version": 3
   },
   "file_extension": ".py",
   "mimetype": "text/x-python",
   "name": "python",
   "nbconvert_exporter": "python",
   "pygments_lexer": "ipython3",
   "version": "3.12.4"
  }
 },
 "nbformat": 4,
 "nbformat_minor": 5
}
