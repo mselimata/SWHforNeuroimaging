{
 "cells": [
  {
   "cell_type": "code",
   "execution_count": 1,
   "id": "56851fbb-c5ea-426b-9db8-8f31391b7be7",
   "metadata": {},
   "outputs": [],
   "source": [
    "# importing grpc via python\n",
    "import grpc\n",
    "\n",
    "import swh.graph.grpc.swhgraph_pb2 as swhgraph\n",
    "import swh.graph.grpc.swhgraph_pb2_grpc as swhgraph_grpc\n",
    "from google.protobuf.field_mask_pb2 import FieldMask"
   ]
  },
  {
   "cell_type": "markdown",
   "id": "99b99219-1746-43dd-965b-77fa734da924",
   "metadata": {},
   "source": [
    "[Example Dataset](https://docs.softwareheritage.org/devel/swh-graph/example-dataset.html)"
   ]
  },
  {
   "cell_type": "markdown",
   "id": "fc46d3ee-deb7-4d31-b386-dc1f8081e9b3",
   "metadata": {},
   "source": [
    "<img src=\"https://docs.softwareheritage.org/_images/example-dataset.svg\" width=\"500\"/>"
   ]
  },
  {
   "cell_type": "code",
   "execution_count": 2,
   "id": "120378f0-9082-4401-a85a-5d6a221f3104",
   "metadata": {},
   "outputs": [],
   "source": [
    "# address of the localhost if GRPC induced from java.graph.jar \n",
    "GRAPH_GRPC_SERVER = \"localhost:50091\""
   ]
  },
  {
   "cell_type": "code",
   "execution_count": 3,
   "id": "7925b435-7a48-4dac-9758-dc70b6d9ae4a",
   "metadata": {},
   "outputs": [
    {
     "name": "stdout",
     "output_type": "stream",
     "text": [
      "num_nodes: 24\n",
      "num_edges: 28\n",
      "compression_ratio: 1.406\n",
      "bits_per_node: 9.25\n",
      "bits_per_edge: 7.929\n",
      "avg_locality: 3.143\n",
      "indegree_max: 4\n",
      "indegree_avg: 1.1666666666666667\n",
      "outdegree_max: 3\n",
      "outdegree_avg: 1.1666666666666667\n",
      "export_started_at: 1669888200\n",
      "export_ended_at: 1669899600\n",
      "\n",
      "Compression ratio: 140.6 %\n"
     ]
    }
   ],
   "source": [
    "with grpc.insecure_channel(GRAPH_GRPC_SERVER) as channel:\n",
    "    stub = swhgraph_grpc.TraversalServiceStub(channel)\n",
    "    response = stub.Stats(swhgraph.StatsRequest())\n",
    "    print(response)\n",
    "    print(\"Compression ratio:\", response.compression_ratio * 100, \"%\")"
   ]
  },
  {
   "cell_type": "code",
   "execution_count": 4,
   "id": "e976abf7-bb29-433d-b6bb-ee22978594e8",
   "metadata": {},
   "outputs": [],
   "source": [
    "# to induce grpc channel\n",
    "with grpc.insecure_channel(GRAPH_GRPC_SERVER) as channel:\n",
    "    stub = swhgraph_grpc.TraversalServiceStub(channel)\n",
    "    pass  # <insert snippet here> # swhid and response from grpc request"
   ]
  },
  {
   "cell_type": "markdown",
   "id": "73ede8da-c858-48e8-bcd5-0f4825b5f520",
   "metadata": {},
   "source": [
    "### getting the content node "
   ]
  },
  {
   "cell_type": "code",
   "execution_count": 7,
   "id": "0610a1f6-a5d7-4244-830b-7621ff83b352",
   "metadata": {},
   "outputs": [
    {
     "name": "stdout",
     "output_type": "stream",
     "text": [
      "swhid: \"swh:1:cnt:0000000000000000000000000000000000000015\"\n",
      "cnt {\n",
      "  length: 404\n",
      "  is_skipped: true\n",
      "}\n",
      "\n"
     ]
    }
   ],
   "source": [
    "with grpc.insecure_channel(GRAPH_GRPC_SERVER) as channel:\n",
    "    stub = swhgraph_grpc.TraversalServiceStub(channel)\n",
    "    swhid = \"swh:1:cnt:0000000000000000000000000000000000000015\"\n",
    "    response = stub.GetNode(swhgraph.GetNodeRequest(swhid=swhid))\n",
    "    print(response)"
   ]
  },
  {
   "cell_type": "markdown",
   "id": "ff38cf14-289f-422d-b652-4e68125d893a",
   "metadata": {},
   "source": [
    "### getting the revision node"
   ]
  },
  {
   "cell_type": "code",
   "execution_count": 8,
   "id": "abb4a3b7-e033-45e4-91d6-d8ff4697ec0a",
   "metadata": {},
   "outputs": [
    {
     "name": "stdout",
     "output_type": "stream",
     "text": [
      "swhid: \"swh:1:rev:0000000000000000000000000000000000000018\"\n",
      "rev {\n",
      "  author: 1\n",
      "  author_date: 1111177770\n",
      "  author_date_offset: 0\n",
      "  committer: 0\n",
      "  committer_date: 1111177770\n",
      "  committer_date_offset: 0\n",
      "  message: \"Refactor codebase\"\n",
      "}\n",
      "\n"
     ]
    }
   ],
   "source": [
    "with grpc.insecure_channel(GRAPH_GRPC_SERVER) as channel:\n",
    "    stub = swhgraph_grpc.TraversalServiceStub(channel)\n",
    "    swhid = \"swh:1:rev:0000000000000000000000000000000000000018\"\n",
    "    response = stub.GetNode(swhgraph.GetNodeRequest(swhid=swhid))\n",
    "    print(response)"
   ]
  },
  {
   "cell_type": "markdown",
   "id": "ca1a741f-a3a9-4b5a-b880-02c34e72d1fb",
   "metadata": {},
   "source": [
    "### getting the release node"
   ]
  },
  {
   "cell_type": "code",
   "execution_count": 20,
   "id": "41c43145-8130-48b3-aecc-afe4024fc36f",
   "metadata": {},
   "outputs": [
    {
     "name": "stdout",
     "output_type": "stream",
     "text": [
      "swhid: \"swh:1:rel:0000000000000000000000000000000000000021\"\n",
      "rel {\n",
      "  name: \"v2.0-anonymous\"\n",
      "  message: \"Version 2.0 but with no author\"\n",
      "}\n",
      "\n"
     ]
    }
   ],
   "source": [
    "with grpc.insecure_channel(GRAPH_GRPC_SERVER) as channel:\n",
    "    stub = swhgraph_grpc.TraversalServiceStub(channel)\n",
    "    swhid = \"swh:1:rel:0000000000000000000000000000000000000021\"\n",
    "    response = stub.GetNode(swhgraph.GetNodeRequest(swhid=swhid))\n",
    "    print(response)"
   ]
  },
  {
   "cell_type": "markdown",
   "id": "477cc654-cc48-4609-93a1-eb6fd759760e",
   "metadata": {},
   "source": [
    "### getting the snapshot node "
   ]
  },
  {
   "cell_type": "code",
   "execution_count": 17,
   "id": "13b10147-7f20-429a-b545-46c9cd29f4fb",
   "metadata": {},
   "outputs": [
    {
     "name": "stdout",
     "output_type": "stream",
     "text": [
      "swhid: \"swh:1:snp:0000000000000000000000000000000000000022\"\n",
      "\n"
     ]
    }
   ],
   "source": [
    "with grpc.insecure_channel(GRAPH_GRPC_SERVER) as channel:\n",
    "    stub = swhgraph_grpc.TraversalServiceStub(channel)\n",
    "    swhid = \"swh:1:snp:0000000000000000000000000000000000000022\"\n",
    "    response = stub.GetNode(swhgraph.GetNodeRequest(swhid=swhid))\n",
    "    print(response)\n",
    "    #  this is (redundant because it only brings SWHID)"
   ]
  },
  {
   "cell_type": "markdown",
   "id": "b28991ad-df65-49e6-93e0-89ef4aa0605c",
   "metadata": {},
   "source": [
    "### getting the origin"
   ]
  },
  {
   "cell_type": "code",
   "execution_count": 21,
   "id": "245c7431-7380-4221-865d-8e0bef49e7ac",
   "metadata": {},
   "outputs": [
    {
     "name": "stdout",
     "output_type": "stream",
     "text": [
      "swhid: \"swh:1:ori:83404f995118bd25774f4ac14422a8f175e7a054\"\n",
      "ori {\n",
      "  url: \"https://example.com/swh/graph\"\n",
      "}\n",
      "\n"
     ]
    }
   ],
   "source": [
    "with grpc.insecure_channel(GRAPH_GRPC_SERVER) as channel:\n",
    "    stub = swhgraph_grpc.TraversalServiceStub(channel)\n",
    "    swhid = \"swh:1:ori:83404f995118bd25774f4ac14422a8f175e7a054\"\n",
    "    response = stub.GetNode(swhgraph.GetNodeRequest(swhid=swhid))\n",
    "    print(response)\n",
    "    #  this is (redundant because it only brings SWHID)"
   ]
  },
  {
   "cell_type": "markdown",
   "id": "2b918c86-2dd9-4d9c-91ff-f465f68c7a03",
   "metadata": {},
   "source": [
    "### wrong swhid error simulation"
   ]
  },
  {
   "cell_type": "code",
   "execution_count": 23,
   "id": "65fc6593-6172-411b-bdf8-f20305974fa5",
   "metadata": {},
   "outputs": [
    {
     "ename": "_InactiveRpcError",
     "evalue": "<_InactiveRpcError of RPC that terminated with:\n\tstatus = StatusCode.INVALID_ARGUMENT\n\tdetails = \"Unknown SWHID: swh:1:ori:ffffffffffffffffffffffffffffffffffffffff\"\n\tdebug_error_string = \"UNKNOWN:Error received from peer  {grpc_message:\"Unknown SWHID: swh:1:ori:ffffffffffffffffffffffffffffffffffffffff\", grpc_status:3, created_time:\"2024-07-23T16:08:41.904975009+02:00\"}\"\n>",
     "output_type": "error",
     "traceback": [
      "\u001b[0;31m---------------------------------------------------------------------------\u001b[0m",
      "\u001b[0;31m_InactiveRpcError\u001b[0m                         Traceback (most recent call last)",
      "Cell \u001b[0;32mIn[23], line 4\u001b[0m\n\u001b[1;32m      2\u001b[0m stub \u001b[38;5;241m=\u001b[39m swhgraph_grpc\u001b[38;5;241m.\u001b[39mTraversalServiceStub(channel)\n\u001b[1;32m      3\u001b[0m swhid \u001b[38;5;241m=\u001b[39m \u001b[38;5;124m\"\u001b[39m\u001b[38;5;124mswh:1:ori:ffffffffffffffffffffffffffffffffffffffff\u001b[39m\u001b[38;5;124m\"\u001b[39m\n\u001b[0;32m----> 4\u001b[0m response \u001b[38;5;241m=\u001b[39m \u001b[43mstub\u001b[49m\u001b[38;5;241;43m.\u001b[39;49m\u001b[43mGetNode\u001b[49m\u001b[43m(\u001b[49m\u001b[43mswhgraph\u001b[49m\u001b[38;5;241;43m.\u001b[39;49m\u001b[43mGetNodeRequest\u001b[49m\u001b[43m(\u001b[49m\u001b[43mswhid\u001b[49m\u001b[38;5;241;43m=\u001b[39;49m\u001b[43mswhid\u001b[49m\u001b[43m)\u001b[49m\u001b[43m)\u001b[49m\n\u001b[1;32m      5\u001b[0m \u001b[38;5;28mprint\u001b[39m(response)\n",
      "File \u001b[0;32m~/.virtualenvs/swh/lib64/python3.12/site-packages/grpc/_channel.py:1181\u001b[0m, in \u001b[0;36m_UnaryUnaryMultiCallable.__call__\u001b[0;34m(self, request, timeout, metadata, credentials, wait_for_ready, compression)\u001b[0m\n\u001b[1;32m   1166\u001b[0m \u001b[38;5;28;01mdef\u001b[39;00m \u001b[38;5;21m__call__\u001b[39m(\n\u001b[1;32m   1167\u001b[0m     \u001b[38;5;28mself\u001b[39m,\n\u001b[1;32m   1168\u001b[0m     request: Any,\n\u001b[0;32m   (...)\u001b[0m\n\u001b[1;32m   1173\u001b[0m     compression: Optional[grpc\u001b[38;5;241m.\u001b[39mCompression] \u001b[38;5;241m=\u001b[39m \u001b[38;5;28;01mNone\u001b[39;00m,\n\u001b[1;32m   1174\u001b[0m ) \u001b[38;5;241m-\u001b[39m\u001b[38;5;241m>\u001b[39m Any:\n\u001b[1;32m   1175\u001b[0m     (\n\u001b[1;32m   1176\u001b[0m         state,\n\u001b[1;32m   1177\u001b[0m         call,\n\u001b[1;32m   1178\u001b[0m     ) \u001b[38;5;241m=\u001b[39m \u001b[38;5;28mself\u001b[39m\u001b[38;5;241m.\u001b[39m_blocking(\n\u001b[1;32m   1179\u001b[0m         request, timeout, metadata, credentials, wait_for_ready, compression\n\u001b[1;32m   1180\u001b[0m     )\n\u001b[0;32m-> 1181\u001b[0m     \u001b[38;5;28;01mreturn\u001b[39;00m \u001b[43m_end_unary_response_blocking\u001b[49m\u001b[43m(\u001b[49m\u001b[43mstate\u001b[49m\u001b[43m,\u001b[49m\u001b[43m \u001b[49m\u001b[43mcall\u001b[49m\u001b[43m,\u001b[49m\u001b[43m \u001b[49m\u001b[38;5;28;43;01mFalse\u001b[39;49;00m\u001b[43m,\u001b[49m\u001b[43m \u001b[49m\u001b[38;5;28;43;01mNone\u001b[39;49;00m\u001b[43m)\u001b[49m\n",
      "File \u001b[0;32m~/.virtualenvs/swh/lib64/python3.12/site-packages/grpc/_channel.py:1006\u001b[0m, in \u001b[0;36m_end_unary_response_blocking\u001b[0;34m(state, call, with_call, deadline)\u001b[0m\n\u001b[1;32m   1004\u001b[0m         \u001b[38;5;28;01mreturn\u001b[39;00m state\u001b[38;5;241m.\u001b[39mresponse\n\u001b[1;32m   1005\u001b[0m \u001b[38;5;28;01melse\u001b[39;00m:\n\u001b[0;32m-> 1006\u001b[0m     \u001b[38;5;28;01mraise\u001b[39;00m _InactiveRpcError(state)\n",
      "\u001b[0;31m_InactiveRpcError\u001b[0m: <_InactiveRpcError of RPC that terminated with:\n\tstatus = StatusCode.INVALID_ARGUMENT\n\tdetails = \"Unknown SWHID: swh:1:ori:ffffffffffffffffffffffffffffffffffffffff\"\n\tdebug_error_string = \"UNKNOWN:Error received from peer  {grpc_message:\"Unknown SWHID: swh:1:ori:ffffffffffffffffffffffffffffffffffffffff\", grpc_status:3, created_time:\"2024-07-23T16:08:41.904975009+02:00\"}\"\n>"
     ]
    }
   ],
   "source": [
    "with grpc.insecure_channel(GRAPH_GRPC_SERVER) as channel:\n",
    "    stub = swhgraph_grpc.TraversalServiceStub(channel)\n",
    "    swhid = \"swh:1:ori:ffffffffffffffffffffffffffffffffffffffff\"\n",
    "    response = stub.GetNode(swhgraph.GetNodeRequest(swhid=swhid))\n",
    "    print(response)"
   ]
  },
  {
   "cell_type": "markdown",
   "id": "faa9b685-bdb0-4b46-942c-6cdd3f294a1e",
   "metadata": {},
   "source": [
    "### the code below just to filter out SWHID"
   ]
  },
  {
   "cell_type": "code",
   "execution_count": 28,
   "id": "a9479427-b977-4077-9886-8ad0c0de9556",
   "metadata": {},
   "outputs": [
    {
     "name": "stdout",
     "output_type": "stream",
     "text": [
      "swhid: \"swh:1:rev:0000000000000000000000000000000000000018\"\n",
      "rev {\n",
      "}\n",
      "\n"
     ]
    }
   ],
   "source": [
    "with grpc.insecure_channel(GRAPH_GRPC_SERVER) as channel:\n",
    "    stub = swhgraph_grpc.TraversalServiceStub(channel)\n",
    "    response = stub.GetNode(swhgraph.GetNodeRequest(\n",
    "    swhid=\"swh:1:rev:0000000000000000000000000000000000000018\",\n",
    "    mask=FieldMask(paths=[\"swhid\"])\n",
    "))\n",
    "print(response)"
   ]
  },
  {
   "cell_type": "markdown",
   "id": "d8caed78-a019-4113-a7a3-e35f194aca47",
   "metadata": {},
   "source": [
    "### filtering information further"
   ]
  },
  {
   "cell_type": "code",
   "execution_count": 29,
   "id": "e5161eaa-80c3-46d3-bcff-ce5e72b48a61",
   "metadata": {},
   "outputs": [
    {
     "name": "stdout",
     "output_type": "stream",
     "text": [
      "swhid: \"swh:1:rev:0000000000000000000000000000000000000018\"\n",
      "rev {\n",
      "  author: 1\n",
      "  message: \"Refactor codebase\"\n",
      "}\n",
      "\n"
     ]
    }
   ],
   "source": [
    "with grpc.insecure_channel(GRAPH_GRPC_SERVER) as channel:\n",
    "    stub = swhgraph_grpc.TraversalServiceStub(channel)\n",
    "    response = stub.GetNode(swhgraph.GetNodeRequest(\n",
    "    swhid=\"swh:1:rev:0000000000000000000000000000000000000018\",\n",
    "    mask=FieldMask(paths=[\"swhid\", \"rev.message\", \"rev.author\"])\n",
    "))\n",
    "print(response)    # filtering revision swhid message and author"
   ]
  },
  {
   "cell_type": "code",
   "execution_count": 13,
   "id": "05fbc53e-0cf9-4932-bc38-56ac13a867df",
   "metadata": {},
   "outputs": [
    {
     "name": "stdout",
     "output_type": "stream",
     "text": [
      "swhid: \"swh:1:rev:0000000000000000000000000000000000000018\"\n",
      "rev {\n",
      "  author: 1\n",
      "  message: \"Refactor codebase\"\n",
      "}\n",
      "\n"
     ]
    }
   ],
   "source": [
    "with grpc.insecure_channel(GRAPH_GRPC_SERVER) as channel:\n",
    "    stub = swhgraph_grpc.TraversalServiceStub(channel)\n",
    "    swhid=\"swh:1:rev:0000000000000000000000000000000000000018\"\n",
    "    response = stub.GetNode(swhgraph.GetNodeRequest(swhid=swhid,\n",
    "    mask=FieldMask(paths=[\"swhid\", \"rev.message\", \"rev.author\"])))\n",
    "    print(response)  "
   ]
  },
  {
   "cell_type": "code",
   "execution_count": 33,
   "id": "aafec77c-2386-4891-9a9b-0a1d0c882438",
   "metadata": {},
   "outputs": [
    {
     "name": "stdout",
     "output_type": "stream",
     "text": [
      "swhid: \"swh:1:rev:0000000000000000000000000000000000000018\"\n",
      "rev {\n",
      "  author: 1\n",
      "  author_date: 1111177770\n",
      "}\n",
      "\n"
     ]
    }
   ],
   "source": [
    "with grpc.insecure_channel(GRAPH_GRPC_SERVER) as channel:\n",
    "    stub = swhgraph_grpc.TraversalServiceStub(channel)\n",
    "    response = stub.GetNode(swhgraph.GetNodeRequest(\n",
    "    swhid=\"swh:1:rev:0000000000000000000000000000000000000018\",\n",
    "    mask=FieldMask(paths=[\"swhid\", \"rev.author_date\", \"rev.author\"]) # it is not necessary to contain swhid but if it does not contain how can I know which revision is it?\n",
    "))\n",
    "print(response)   # prints the revision belonging to author and date"
   ]
  },
  {
   "cell_type": "markdown",
   "id": "6cccfe77-56f0-42d6-99eb-675e9d75af9f",
   "metadata": {},
   "source": [
    "### stats on the graph"
   ]
  },
  {
   "cell_type": "code",
   "execution_count": 39,
   "id": "98bd39d3-d779-4c82-9594-a79789ca25d8",
   "metadata": {},
   "outputs": [
    {
     "name": "stdout",
     "output_type": "stream",
     "text": [
      "num_nodes: 24\n",
      "num_edges: 28\n",
      "compression_ratio: 1.406\n",
      "bits_per_node: 9.25\n",
      "bits_per_edge: 7.929\n",
      "avg_locality: 3.143\n",
      "indegree_max: 4\n",
      "indegree_avg: 1.1666666666666667\n",
      "outdegree_max: 3\n",
      "outdegree_avg: 1.1666666666666667\n",
      "export_started_at: 1669888200\n",
      "export_ended_at: 1669899600\n",
      "\n"
     ]
    }
   ],
   "source": [
    "with grpc.insecure_channel(GRAPH_GRPC_SERVER) as channel:\n",
    "    stub = swhgraph_grpc.TraversalServiceStub(channel)\n",
    "    response = stub.Stats(swhgraph.StatsRequest())\n",
    "    print(response)"
   ]
  },
  {
   "cell_type": "markdown",
   "id": "b5666f98-d1d6-4b5a-b835-a2abd36bdfc9",
   "metadata": {},
   "source": [
    "### Graph traversals --so it is passing through certain nodes-"
   ]
  },
  {
   "cell_type": "code",
   "execution_count": 63,
   "id": "6d1cbfed-47a8-4b14-b249-97705ee6900b",
   "metadata": {},
   "outputs": [
    {
     "name": "stdout",
     "output_type": "stream",
     "text": [
      "swhid: \"swh:1:dir:0000000000000000000000000000000000000006\"\n",
      "successor {\n",
      "  swhid: \"swh:1:cnt:0000000000000000000000000000000000000005\"\n",
      "  label {\n",
      "    name: \"parser.c\"\n",
      "    permission: 33188\n",
      "  }\n",
      "}\n",
      "successor {\n",
      "  swhid: \"swh:1:cnt:0000000000000000000000000000000000000004\"\n",
      "  label {\n",
      "    name: \"README.md\"\n",
      "    permission: 33188\n",
      "  }\n",
      "}\n",
      "num_successors: 2\n",
      "\n",
      "swhid: \"swh:1:cnt:0000000000000000000000000000000000000005\"\n",
      "cnt {\n",
      "  length: 1337\n",
      "  is_skipped: false\n",
      "}\n",
      "\n",
      "swhid: \"swh:1:cnt:0000000000000000000000000000000000000004\"\n",
      "cnt {\n",
      "  length: 404\n",
      "  is_skipped: false\n",
      "}\n",
      "\n"
     ]
    }
   ],
   "source": [
    "with grpc.insecure_channel(GRAPH_GRPC_SERVER) as channel:\n",
    "    stub = swhgraph_grpc.TraversalServiceStub(channel)\n",
    "    swhid = \"swh:1:dir:0000000000000000000000000000000000000006\"\n",
    "    response = stub.Traverse(swhgraph.TraversalRequest(src=[swhid]))\n",
    "    for item in response:\n",
    "        print(item)"
   ]
  },
  {
   "cell_type": "code",
   "execution_count": 117,
   "id": "9487a528-a0ad-4024-8e74-8a26b66b521f",
   "metadata": {},
   "outputs": [
    {
     "name": "stdout",
     "output_type": "stream",
     "text": [
      "swhid: \"swh:1:dir:0000000000000000000000000000000000000008\"\n",
      "successor: \"[swhid: \"swh:1:dir:0000000000000000000000000000000000000006\"\n",
      "label {\n",
      "  name: \"tests\"\n",
      "  permission: 33261\n",
      "}\n",
      ", swhid: \"swh:1:cnt:0000000000000000000000000000000000000001\"\n",
      "label {\n",
      "  name: \"README.md\"\n",
      "  permission: 33188\n",
      "}\n",
      ", swhid: \"swh:1:cnt:0000000000000000000000000000000000000007\"\n",
      "label {\n",
      "  name: \"parser.c\"\n",
      "  permission: 33188\n",
      "}\n",
      "]\"\n",
      "swhid: \"swh:1:dir:0000000000000000000000000000000000000006\"\n",
      "successor: \"[swhid: \"swh:1:cnt:0000000000000000000000000000000000000005\"\n",
      "label {\n",
      "  name: \"parser.c\"\n",
      "  permission: 33188\n",
      "}\n",
      ", swhid: \"swh:1:cnt:0000000000000000000000000000000000000004\"\n",
      "label {\n",
      "  name: \"README.md\"\n",
      "  permission: 33188\n",
      "}\n",
      "]\"\n",
      "swhid: \"swh:1:cnt:0000000000000000000000000000000000000001\"\n",
      "successor: \"[]\"\n",
      "swhid: \"swh:1:cnt:0000000000000000000000000000000000000007\"\n",
      "successor: \"[]\"\n",
      "swhid: \"swh:1:cnt:0000000000000000000000000000000000000005\"\n",
      "successor: \"[]\"\n",
      "swhid: \"swh:1:cnt:0000000000000000000000000000000000000004\"\n",
      "successor: \"[]\"\n"
     ]
    }
   ],
   "source": [
    "with grpc.insecure_channel(GRAPH_GRPC_SERVER) as channel:\n",
    "    stub = swhgraph_grpc.TraversalServiceStub(channel)\n",
    "    src = \"swh:1:dir:0000000000000000000000000000000000000008\"\n",
    "    response = stub.Traverse(swhgraph.TraversalRequest(src=[src],\n",
    "    mask=FieldMask(paths=[\"swhid\", \"successor\"])))\n",
    "    for item in response:\n",
    "        print(f'swhid: \"{item.swhid}\"')\n",
    "        print(f'successor: \"{item.successor}\"')"
   ]
  },
  {
   "cell_type": "code",
   "execution_count": 83,
   "id": "dc69be23-d832-43d2-88eb-489657d9ceb0",
   "metadata": {},
   "outputs": [
    {
     "name": "stdout",
     "output_type": "stream",
     "text": [
      "swhid: \"swh:1:dir:0000000000000000000000000000000000000008\"\n",
      "successor {\n",
      "  swhid: \"swh:1:dir:0000000000000000000000000000000000000006\"\n",
      "  label {\n",
      "    name: \"tests\"\n",
      "    permission: 33261\n",
      "  }\n",
      "}\n",
      "successor {\n",
      "  swhid: \"swh:1:cnt:0000000000000000000000000000000000000001\"\n",
      "  label {\n",
      "    name: \"README.md\"\n",
      "    permission: 33188\n",
      "  }\n",
      "}\n",
      "successor {\n",
      "  swhid: \"swh:1:cnt:0000000000000000000000000000000000000007\"\n",
      "  label {\n",
      "    name: \"parser.c\"\n",
      "    permission: 33188\n",
      "  }\n",
      "}\n",
      "num_successors: 3\n",
      "\n",
      "swhid: \"swh:1:dir:0000000000000000000000000000000000000006\"\n",
      "successor {\n",
      "  swhid: \"swh:1:cnt:0000000000000000000000000000000000000005\"\n",
      "  label {\n",
      "    name: \"parser.c\"\n",
      "    permission: 33188\n",
      "  }\n",
      "}\n",
      "successor {\n",
      "  swhid: \"swh:1:cnt:0000000000000000000000000000000000000004\"\n",
      "  label {\n",
      "    name: \"README.md\"\n",
      "    permission: 33188\n",
      "  }\n",
      "}\n",
      "num_successors: 2\n",
      "\n",
      "swhid: \"swh:1:cnt:0000000000000000000000000000000000000001\"\n",
      "cnt {\n",
      "  length: 42\n",
      "  is_skipped: false\n",
      "}\n",
      "\n",
      "swhid: \"swh:1:cnt:0000000000000000000000000000000000000007\"\n",
      "cnt {\n",
      "  length: 666\n",
      "  is_skipped: false\n",
      "}\n",
      "\n",
      "swhid: \"swh:1:cnt:0000000000000000000000000000000000000005\"\n",
      "cnt {\n",
      "  length: 1337\n",
      "  is_skipped: false\n",
      "}\n",
      "\n",
      "swhid: \"swh:1:cnt:0000000000000000000000000000000000000004\"\n",
      "cnt {\n",
      "  length: 404\n",
      "  is_skipped: false\n",
      "}\n",
      "\n"
     ]
    }
   ],
   "source": [
    "with grpc.insecure_channel(GRAPH_GRPC_SERVER) as channel:\n",
    "    stub = swhgraph_grpc.TraversalServiceStub(channel)\n",
    "    src = \"swh:1:dir:0000000000000000000000000000000000000008\"\n",
    "    response = stub.Traverse(swhgraph.TraversalRequest(src=[src]))\n",
    "    for item in response:\n",
    "        print(item)"
   ]
  },
  {
   "cell_type": "markdown",
   "id": "d11fc09a-57d0-4ab9-84bf-a8dced33e327",
   "metadata": {},
   "source": [
    "### filtering the SWHIDs of the connecting content nodes to directory"
   ]
  },
  {
   "cell_type": "code",
   "execution_count": 10,
   "id": "07116789-e383-4a07-8097-77813c262423",
   "metadata": {},
   "outputs": [
    {
     "name": "stdout",
     "output_type": "stream",
     "text": [
      "swhid: \"swh:1:dir:0000000000000000000000000000000000000006\"\n",
      "swhid: \"swh:1:cnt:0000000000000000000000000000000000000005\"\n",
      "swhid: \"swh:1:cnt:0000000000000000000000000000000000000004\"\n"
     ]
    }
   ],
   "source": [
    "with grpc.insecure_channel(GRAPH_GRPC_SERVER) as channel:\n",
    "    stub = swhgraph_grpc.TraversalServiceStub(channel)\n",
    "    src = \"swh:1:dir:0000000000000000000000000000000000000006\"\n",
    "    response = stub.Traverse(swhgraph.TraversalRequest(src=[src],\n",
    "    mask=FieldMask(paths=[\"swhid\"])))\n",
    "    for item in response:\n",
    "        print(f'swhid: \"{item.swhid}\"')"
   ]
  },
  {
   "cell_type": "code",
   "execution_count": 12,
   "id": "08900802-0b11-4c31-87ee-216da8b7c1e9",
   "metadata": {},
   "outputs": [
    {
     "name": "stdout",
     "output_type": "stream",
     "text": [
      "swhid: \"swh:1:dir:0000000000000000000000000000000000000017\"\n",
      "swhid: \"swh:1:dir:0000000000000000000000000000000000000016\"\n",
      "swhid: \"swh:1:cnt:0000000000000000000000000000000000000014\"\n",
      "swhid: \"swh:1:cnt:0000000000000000000000000000000000000015\"\n"
     ]
    }
   ],
   "source": [
    "with grpc.insecure_channel(GRAPH_GRPC_SERVER) as channel:\n",
    "    stub = swhgraph_grpc.TraversalServiceStub(channel)\n",
    "    src = \"swh:1:dir:0000000000000000000000000000000000000017\"\n",
    "    response = stub.Traverse(swhgraph.TraversalRequest(src=[src],\n",
    "    mask=FieldMask(paths=[\"swhid\"])))\n",
    "    for item in response:\n",
    "        print(f'swhid: \"{item.swhid}\"')"
   ]
  },
  {
   "cell_type": "markdown",
   "id": "afbd56a1-52cf-4943-9eff-b85ac4dfb858",
   "metadata": {},
   "source": [
    "### direction of the graph"
   ]
  },
  {
   "cell_type": "code",
   "execution_count": 15,
   "id": "20313957-2a21-4563-b3f3-4f5a26e52cd9",
   "metadata": {},
   "outputs": [
    {
     "name": "stdout",
     "output_type": "stream",
     "text": [
      "swhid: \"swh:1:dir:0000000000000000000000000000000000000006\"\n",
      "swhid: \"swh:1:dir:0000000000000000000000000000000000000008\"\n",
      "swhid: \"swh:1:rev:0000000000000000000000000000000000000009\"\n",
      "swhid: \"swh:1:dir:0000000000000000000000000000000000000012\"\n",
      "swhid: \"swh:1:snp:0000000000000000000000000000000000000022\"\n",
      "swhid: \"swh:1:rel:0000000000000000000000000000000000000010\"\n",
      "swhid: \"swh:1:snp:0000000000000000000000000000000000000020\"\n",
      "swhid: \"swh:1:rev:0000000000000000000000000000000000000013\"\n",
      "swhid: \"swh:1:ori:8f50d3f60eae370ddbf85c86219c55108a350165\"\n",
      "swhid: \"swh:1:ori:83404f995118bd25774f4ac14422a8f175e7a054\"\n",
      "swhid: \"swh:1:rev:0000000000000000000000000000000000000018\"\n",
      "swhid: \"swh:1:rel:0000000000000000000000000000000000000021\"\n",
      "swhid: \"swh:1:rel:0000000000000000000000000000000000000019\"\n"
     ]
    }
   ],
   "source": [
    "# starting from directory 6 moving up...\n",
    "with grpc.insecure_channel(GRAPH_GRPC_SERVER) as channel:\n",
    "    stub = swhgraph_grpc.TraversalServiceStub(channel)\n",
    "    response = stub.Traverse(swhgraph.TraversalRequest(\n",
    "    src=[\"swh:1:dir:0000000000000000000000000000000000000006\"],\n",
    "    direction=swhgraph.GraphDirection.BACKWARD,\n",
    "    mask=FieldMask(paths=[\"swhid\"])))\n",
    "    for item in response:\n",
    "        print(f'swhid: \"{item.swhid}\"')"
   ]
  },
  {
   "cell_type": "code",
   "execution_count": 16,
   "id": "f09eea8c-9b1a-47cb-8e1d-cba372454a1b",
   "metadata": {},
   "outputs": [
    {
     "name": "stdout",
     "output_type": "stream",
     "text": [
      "swhid: \"swh:1:cnt:0000000000000000000000000000000000000004\"\n",
      "swhid: \"swh:1:dir:0000000000000000000000000000000000000006\"\n",
      "swhid: \"swh:1:dir:0000000000000000000000000000000000000008\"\n",
      "swhid: \"swh:1:rev:0000000000000000000000000000000000000009\"\n",
      "swhid: \"swh:1:dir:0000000000000000000000000000000000000012\"\n",
      "swhid: \"swh:1:snp:0000000000000000000000000000000000000022\"\n",
      "swhid: \"swh:1:rel:0000000000000000000000000000000000000010\"\n",
      "swhid: \"swh:1:snp:0000000000000000000000000000000000000020\"\n",
      "swhid: \"swh:1:rev:0000000000000000000000000000000000000013\"\n",
      "swhid: \"swh:1:ori:8f50d3f60eae370ddbf85c86219c55108a350165\"\n",
      "swhid: \"swh:1:ori:83404f995118bd25774f4ac14422a8f175e7a054\"\n",
      "swhid: \"swh:1:rev:0000000000000000000000000000000000000018\"\n",
      "swhid: \"swh:1:rel:0000000000000000000000000000000000000021\"\n",
      "swhid: \"swh:1:rel:0000000000000000000000000000000000000019\"\n"
     ]
    }
   ],
   "source": [
    "# starting from content 4 moving up...\n",
    "with grpc.insecure_channel(GRAPH_GRPC_SERVER) as channel:\n",
    "    stub = swhgraph_grpc.TraversalServiceStub(channel)\n",
    "    src0 = \"swh:1:cnt:0000000000000000000000000000000000000004\"\n",
    "    response = stub.Traverse(swhgraph.TraversalRequest(\n",
    "    src=[src0],\n",
    "    direction=swhgraph.GraphDirection.BACKWARD,\n",
    "    mask=FieldMask(paths=[\"swhid\"])))\n",
    "    for item in response:\n",
    "        print(f'swhid: \"{item.swhid}\"')"
   ]
  },
  {
   "cell_type": "code",
   "execution_count": 17,
   "id": "534dff18-65cd-4897-af84-6260616096a2",
   "metadata": {},
   "outputs": [
    {
     "name": "stdout",
     "output_type": "stream",
     "text": [
      "swhid: \"swh:1:cnt:0000000000000000000000000000000000000015\"\n",
      "swhid: \"swh:1:dir:0000000000000000000000000000000000000016\"\n",
      "swhid: \"swh:1:dir:0000000000000000000000000000000000000017\"\n",
      "swhid: \"swh:1:rev:0000000000000000000000000000000000000018\"\n",
      "swhid: \"swh:1:rel:0000000000000000000000000000000000000021\"\n",
      "swhid: \"swh:1:rel:0000000000000000000000000000000000000019\"\n",
      "swhid: \"swh:1:snp:0000000000000000000000000000000000000022\"\n",
      "swhid: \"swh:1:ori:8f50d3f60eae370ddbf85c86219c55108a350165\"\n"
     ]
    }
   ],
   "source": [
    "# starting from content 15 moving up...\n",
    "with grpc.insecure_channel(GRAPH_GRPC_SERVER) as channel:\n",
    "    stub = swhgraph_grpc.TraversalServiceStub(channel)\n",
    "    src0 = \"swh:1:cnt:0000000000000000000000000000000000000015\"\n",
    "    response = stub.Traverse(swhgraph.TraversalRequest(\n",
    "    src=[src0],\n",
    "    direction=swhgraph.GraphDirection.BACKWARD,\n",
    "    mask=FieldMask(paths=[\"swhid\"])))\n",
    "    for item in response:\n",
    "        print(f'swhid: \"{item.swhid}\"')"
   ]
  },
  {
   "cell_type": "code",
   "execution_count": 18,
   "id": "60479866-7b73-4fe1-9f9f-943dd6d275f3",
   "metadata": {},
   "outputs": [
    {
     "name": "stdout",
     "output_type": "stream",
     "text": [
      "swhid: \"swh:1:rev:0000000000000000000000000000000000000018\"\n",
      "swhid: \"swh:1:rev:0000000000000000000000000000000000000013\"\n",
      "swhid: \"swh:1:rev:0000000000000000000000000000000000000009\"\n",
      "swhid: \"swh:1:rev:0000000000000000000000000000000000000003\"\n"
     ]
    }
   ],
   "source": [
    "# only containing certain edges \n",
    "# this will only print revision edges\n",
    "with grpc.insecure_channel(GRAPH_GRPC_SERVER) as channel:\n",
    "    stub = swhgraph_grpc.TraversalServiceStub(channel)\n",
    "    response = stub.Traverse(swhgraph.TraversalRequest(\n",
    "    src=[\"swh:1:rev:0000000000000000000000000000000000000018\"],\n",
    "    edges=\"rev:rev\",\n",
    "    mask=FieldMask(paths=[\"swhid\"])))\n",
    "    for item in response:\n",
    "        print(f'swhid: \"{item.swhid}\"')"
   ]
  },
  {
   "cell_type": "code",
   "execution_count": 30,
   "id": "1699d508-a0ec-4844-8790-4d83c9f03549",
   "metadata": {},
   "outputs": [
    {
     "name": "stdout",
     "output_type": "stream",
     "text": [
      "swhid: \"swh:1:dir:0000000000000000000000000000000000000017\"\n",
      "swhid: \"swh:1:dir:0000000000000000000000000000000000000016\"\n",
      "swhid: \"swh:1:cnt:0000000000000000000000000000000000000014\"\n",
      "swhid: \"swh:1:cnt:0000000000000000000000000000000000000015\"\n"
     ]
    }
   ],
   "source": [
    "# only goes forward and shows as requested, here directories connecting 17 and content connecting these directiories\n",
    "with grpc.insecure_channel(GRAPH_GRPC_SERVER) as channel:\n",
    "    stub = swhgraph_grpc.TraversalServiceStub(channel)\n",
    "    src = \"swh:1:dir:0000000000000000000000000000000000000017\"\n",
    "    response = stub.Traverse(swhgraph.TraversalRequest(\n",
    "    src=[src],\n",
    "    edges=\"dir:dir,dir:cnt\",\n",
    "    mask=FieldMask(paths=[\"swhid\"])))\n",
    "    for item in response:\n",
    "        print(f'swhid: \"{item.swhid}\"')"
   ]
  },
  {
   "cell_type": "markdown",
   "id": "854b9a10-49ab-4e8e-84d0-937a08c04994",
   "metadata": {},
   "source": [
    "### finding node"
   ]
  },
  {
   "cell_type": "code",
   "execution_count": 32,
   "id": "086daa9b-b318-4fbe-b566-770b06bff697",
   "metadata": {},
   "outputs": [
    {
     "name": "stdout",
     "output_type": "stream",
     "text": [
      "swhid: \"swh:1:ori:8f50d3f60eae370ddbf85c86219c55108a350165\"\n",
      "swhid: \"swh:1:ori:83404f995118bd25774f4ac14422a8f175e7a054\"\n"
     ]
    }
   ],
   "source": [
    "with grpc.insecure_channel(GRAPH_GRPC_SERVER) as channel:\n",
    "    stub = swhgraph_grpc.TraversalServiceStub(channel)\n",
    "    response = stub.Traverse(swhgraph.TraversalRequest(\n",
    "    src=[\"swh:1:dir:0000000000000000000000000000000000000006\"],\n",
    "    return_nodes=swhgraph.NodeFilter(types=\"ori\"),\n",
    "    direction=swhgraph.GraphDirection.BACKWARD,\n",
    "    mask=FieldMask(paths=[\"swhid\"])))\n",
    "    for item in response:\n",
    "        print(f'swhid: \"{item.swhid}\"')"
   ]
  },
  {
   "cell_type": "markdown",
   "id": "7cc6528c-d3f4-4e6a-af64-bdccc18b1154",
   "metadata": {},
   "source": [
    "### Filtering the origin URLs"
   ]
  },
  {
   "cell_type": "code",
   "execution_count": 40,
   "id": "86330b93-e671-4fe1-8c3c-2393e76c72a7",
   "metadata": {},
   "outputs": [
    {
     "name": "stdout",
     "output_type": "stream",
     "text": [
      "swhid: \"swh:1:ori:8f50d3f60eae370ddbf85c86219c55108a350165\"\n",
      "url: \"https://example.com/swh/graph2\"\n",
      "swhid: \"swh:1:ori:83404f995118bd25774f4ac14422a8f175e7a054\"\n",
      "url: \"https://example.com/swh/graph\"\n"
     ]
    }
   ],
   "source": [
    "with grpc.insecure_channel(GRAPH_GRPC_SERVER) as channel:\n",
    "    stub = swhgraph_grpc.TraversalServiceStub(channel)\n",
    "    response = stub.Traverse(swhgraph.TraversalRequest(\n",
    "    src=[\"swh:1:dir:0000000000000000000000000000000000000006\"],\n",
    "    return_nodes=swhgraph.NodeFilter(types=\"ori\"),\n",
    "    direction=swhgraph.GraphDirection.BACKWARD,\n",
    "    mask=FieldMask(paths=[\"swhid\", \"ori.url\"])))\n",
    "    for item in response:\n",
    "        print(f'swhid: \"{item.swhid}\"')\n",
    "        print(f'url: \"{item.ori.url}\"')"
   ]
  },
  {
   "cell_type": "code",
   "execution_count": 41,
   "id": "7c89524c-4123-4f21-99f0-3afffeca848a",
   "metadata": {},
   "outputs": [
    {
     "name": "stdout",
     "output_type": "stream",
     "text": [
      "swhid: \"swh:1:ori:8f50d3f60eae370ddbf85c86219c55108a350165\"\n",
      "url: \"https://example.com/swh/graph2\"\n"
     ]
    }
   ],
   "source": [
    "with grpc.insecure_channel(GRAPH_GRPC_SERVER) as channel:\n",
    "    stub = swhgraph_grpc.TraversalServiceStub(channel)\n",
    "    response = stub.Traverse(swhgraph.TraversalRequest(\n",
    "    src=[\"swh:1:dir:0000000000000000000000000000000000000016\"],\n",
    "    return_nodes=swhgraph.NodeFilter(types=\"ori\"),\n",
    "    direction=swhgraph.GraphDirection.BACKWARD,\n",
    "    mask=FieldMask(paths=[\"swhid\", \"ori.url\"])))\n",
    "    for item in response:\n",
    "        print(f'swhid: \"{item.swhid}\"')\n",
    "        print(f'url: \"{item.ori.url}\"')"
   ]
  },
  {
   "cell_type": "code",
   "execution_count": 86,
   "id": "bc95d341-25ca-41ef-8f84-a71baf2c5fff",
   "metadata": {},
   "outputs": [
    {
     "name": "stdout",
     "output_type": "stream",
     "text": [
      "swhid: \"swh:1:dir:0000000000000000000000000000000000000012\"\n",
      "swhid: \"swh:1:dir:0000000000000000000000000000000000000008\"\n",
      "swhid: \"swh:1:dir:0000000000000000000000000000000000000006\"\n"
     ]
    }
   ],
   "source": [
    "with grpc.insecure_channel(GRAPH_GRPC_SERVER) as channel:\n",
    "    stub = swhgraph_grpc.TraversalServiceStub(channel)\n",
    "    response = stub.Traverse(swhgraph.TraversalRequest(\n",
    "    src=[\"swh:1:dir:0000000000000000000000000000000000000012\"],\n",
    "    return_nodes=swhgraph.NodeFilter(types=\"dir\"),\n",
    "    direction=swhgraph.GraphDirection.FORWARD,\n",
    "    mask=FieldMask(paths=[\"swhid\"])))\n",
    "    for item in response:\n",
    "        print(f'swhid: \"{item.swhid}\"')"
   ]
  },
  {
   "cell_type": "markdown",
   "id": "70059f41-94e1-40de-968c-5335dd60bd40",
   "metadata": {},
   "source": [
    "### Path between two node sets"
   ]
  },
  {
   "cell_type": "code",
   "execution_count": 87,
   "id": "2f6e0b28-5178-4d02-bf22-868f15640032",
   "metadata": {},
   "outputs": [
    {
     "name": "stdout",
     "output_type": "stream",
     "text": [
      "swhid: \"swh:1:snp:0000000000000000000000000000000000000020\"\n",
      "swhid: \"swh:1:rev:0000000000000000000000000000000000000009\"\n",
      "swhid: \"swh:1:dir:0000000000000000000000000000000000000008\"\n",
      "swhid: \"swh:1:dir:0000000000000000000000000000000000000006\"\n",
      "swhid: \"swh:1:cnt:0000000000000000000000000000000000000004\"\n"
     ]
    }
   ],
   "source": [
    "with grpc.insecure_channel(GRAPH_GRPC_SERVER) as channel:\n",
    "    stub = swhgraph_grpc.TraversalServiceStub(channel)\n",
    "    response = stub.FindPathBetween(swhgraph.FindPathBetweenRequest(\n",
    "    src=[\"swh:1:snp:0000000000000000000000000000000000000020\"],\n",
    "    dst=[\"swh:1:cnt:0000000000000000000000000000000000000004\"],\n",
    "    mask=FieldMask(paths=[\"swhid\"])))\n",
    "    for item in response.node:\n",
    "        print(f'swhid: \"{item.swhid}\"')"
   ]
  },
  {
   "cell_type": "markdown",
   "id": "8595b1de-bb15-4c3a-8613-a46e49008a7e",
   "metadata": {},
   "source": [
    "### shortest path"
   ]
  },
  {
   "cell_type": "code",
   "execution_count": 88,
   "id": "7f48c46c-389b-43db-8d0a-8d481994d46f",
   "metadata": {},
   "outputs": [
    {
     "name": "stdout",
     "output_type": "stream",
     "text": [
      "swhid: \"swh:1:dir:0000000000000000000000000000000000000006\"\n",
      "swhid: \"swh:1:dir:0000000000000000000000000000000000000008\"\n",
      "swhid: \"swh:1:rev:0000000000000000000000000000000000000009\"\n",
      "swhid: \"swh:1:rev:0000000000000000000000000000000000000013\"\n",
      "swhid: \"swh:1:rev:0000000000000000000000000000000000000018\"\n",
      "swhid: \"swh:1:rel:0000000000000000000000000000000000000019\"\n"
     ]
    }
   ],
   "source": [
    "with grpc.insecure_channel(GRAPH_GRPC_SERVER) as channel:\n",
    "    stub = swhgraph_grpc.TraversalServiceStub(channel)\n",
    "    response = stub.FindPathBetween(swhgraph.FindPathBetweenRequest(\n",
    "    src=[\"swh:1:dir:0000000000000000000000000000000000000006\"],\n",
    "    dst=[\"swh:1:rel:0000000000000000000000000000000000000019\"],\n",
    "    direction=swhgraph.GraphDirection.BACKWARD,\n",
    "    mask=FieldMask(paths=[\"swhid\"])))\n",
    "    for item in response.node:\n",
    "        print(f'swhid: \"{item.swhid}\"')"
   ]
  },
  {
   "cell_type": "markdown",
   "id": "9a706af4-f79f-447c-9254-80953ec31e59",
   "metadata": {},
   "source": [
    "### common anchestor"
   ]
  },
  {
   "cell_type": "code",
   "execution_count": 94,
   "id": "7e7fe169-db1f-4b42-9aca-2040e284d381",
   "metadata": {},
   "outputs": [
    {
     "name": "stdout",
     "output_type": "stream",
     "text": [
      "swhid: \"swh:1:cnt:0000000000000000000000000000000000000004\"\n",
      "swhid: \"swh:1:dir:0000000000000000000000000000000000000006\"\n",
      "swhid: \"swh:1:dir:0000000000000000000000000000000000000008\"\n",
      "swhid: \"swh:1:rev:0000000000000000000000000000000000000009\"\n",
      "swhid: \"swh:1:snp:0000000000000000000000000000000000000022\"\n",
      "swhid: \"swh:1:rel:0000000000000000000000000000000000000021\"\n",
      "swhid: \"swh:1:rev:0000000000000000000000000000000000000018\"\n",
      "swhid: \"swh:1:dir:0000000000000000000000000000000000000017\"\n",
      "swhid: \"swh:1:dir:0000000000000000000000000000000000000016\"\n",
      "swhid: \"swh:1:cnt:0000000000000000000000000000000000000015\"\n"
     ]
    }
   ],
   "source": [
    "with grpc.insecure_channel(GRAPH_GRPC_SERVER) as channel:\n",
    "    stub = swhgraph_grpc.TraversalServiceStub(channel)\n",
    "    response = stub.FindPathBetween(swhgraph.FindPathBetweenRequest(\n",
    "    src=[\"swh:1:cnt:0000000000000000000000000000000000000004\"],\n",
    "    dst=[\"swh:1:cnt:0000000000000000000000000000000000000015\"],\n",
    "    direction=swhgraph.GraphDirection.BACKWARD,\n",
    "    direction_reverse=swhgraph.GraphDirection.BACKWARD,\n",
    "    mask=FieldMask(paths=[\"swhid\"]),\n",
    "))\n",
    "for item in response.node:\n",
    "    print(f'swhid: \"{item.swhid}\"')"
   ]
  },
  {
   "cell_type": "code",
   "execution_count": 95,
   "id": "a1ca4ac7-4392-474f-b554-f0980fa55169",
   "metadata": {},
   "outputs": [
    {
     "name": "stdout",
     "output_type": "stream",
     "text": [
      "swhid: \"swh:1:rel:0000000000000000000000000000000000000010\"\n",
      "swhid: \"swh:1:rev:0000000000000000000000000000000000000009\"\n",
      "swhid: \"swh:1:rev:0000000000000000000000000000000000000013\"\n",
      "swhid: \"swh:1:rev:0000000000000000000000000000000000000018\"\n",
      "swhid: \"swh:1:rel:0000000000000000000000000000000000000021\"\n"
     ]
    }
   ],
   "source": [
    "with grpc.insecure_channel(GRAPH_GRPC_SERVER) as channel:\n",
    "    stub = swhgraph_grpc.TraversalServiceStub(channel)\n",
    "    response = stub.FindPathBetween(swhgraph.FindPathBetweenRequest(\n",
    "    src=[\"swh:1:rel:0000000000000000000000000000000000000010\"],\n",
    "    dst=[\"swh:1:rel:0000000000000000000000000000000000000021\"],\n",
    "    direction=swhgraph.GraphDirection.FORWARD,\n",
    "    direction_reverse=swhgraph.GraphDirection.FORWARD,\n",
    "    mask=FieldMask(paths=[\"swhid\"]),\n",
    "))\n",
    "for item in response.node:\n",
    "    print(f'swhid: \"{item.swhid}\"')"
   ]
  },
  {
   "cell_type": "code",
   "execution_count": null,
   "id": "305c7cb5-c5da-4ac9-858a-f312f6d34dae",
   "metadata": {},
   "outputs": [],
   "source": []
  }
 ],
 "metadata": {
  "kernelspec": {
   "display_name": "Python 3 (ipykernel)",
   "language": "python",
   "name": "python3"
  },
  "language_info": {
   "codemirror_mode": {
    "name": "ipython",
    "version": 3
   },
   "file_extension": ".py",
   "mimetype": "text/x-python",
   "name": "python",
   "nbconvert_exporter": "python",
   "pygments_lexer": "ipython3",
   "version": "3.12.4"
  }
 },
 "nbformat": 4,
 "nbformat_minor": 5
}
